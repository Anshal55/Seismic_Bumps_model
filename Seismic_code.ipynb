{
  "nbformat": 4,
  "nbformat_minor": 0,
  "metadata": {
    "colab": {
      "name": "Project_int247.ipynb",
      "provenance": [],
      "collapsed_sections": []
    },
    "kernelspec": {
      "name": "python3",
      "display_name": "Python 3"
    }
  },
  "cells": [
    {
      "cell_type": "markdown",
      "metadata": {
        "id": "BO3zDuWHHM4P"
      },
      "source": [
        "# EDA and Classification models on Seismic bumps Dataset\n",
        "\n"
      ]
    },
    {
      "cell_type": "markdown",
      "metadata": {
        "id": "z-mi4t81F5ai"
      },
      "source": [
        "###Information\n",
        "Attribute information:\n",
        "1. seismic: result of shift seismic hazard assessment in the mine working obtained by the seismic\n",
        "method (a - lack of hazard, b - low hazard, c - high hazard, d - danger state);\n",
        "2. seismoacoustic: result of shift seismic hazard assessment in the mine working obtained by the\n",
        "seismoacoustic method;\n",
        "3. shift: information about type of a shift (W - coal-getting, N -preparation shift);\n",
        "4. genergy: seismic energy recorded within previous shift by the most active geophone (GMax) out of\n",
        "geophones monitoring the longwall;\n",
        "5. gpuls: a number of pulses recorded within previous shift by GMax;\n",
        "6. gdenergy: a deviation of energy recorded within previous shift by GMax from average energy recorded\n",
        "during eight previous shifts;\n",
        "7. gdpuls: a deviation of a number of pulses recorded within previous shift by GMax from average number\n",
        "of pulses recorded during eight previous shifts;\n",
        "8. ghazard: result of shift seismic hazard assessment in the mine working obtained by the\n",
        "seismoacoustic method based on registration coming form GMax only;\n",
        "9. nbumps: the number of seismic bumps recorded within previous shift;\n",
        "10. nbumps2: the number of seismic bumps (in energy range [10^2,10^3)) registered within previous shift;\n",
        "11. nbumps3: the number of seismic bumps (in energy range [10^3,10^4)) registered within previous shift;\n",
        "12. nbumps4: the number of seismic bumps (in energy range [10^4,10^5)) registered within previous shift;\n",
        "13. nbumps5: the number of seismic bumps (in energy range [10^5,10^6)) registered within the last shift;\n",
        "14. nbumps6: the number of seismic bumps (in energy range [10^6,10^7)) registered within previous shift;\n",
        "15. nbumps7: the number of seismic bumps (in energy range [10^7,10^8)) registered within previous shift;\n",
        "16. nbumps89: the number of seismic bumps (in energy range [10^8,10^10)) registered within previous shift;\n",
        "17. energy: total energy of seismic bumps registered within previous shift;\n",
        "18. maxenergy: the maximum energy of the seismic bumps registered within previous shift;\n",
        "19. class: the decision attribute - '1' means that high energy seismic bump occurred in the next shift\n",
        "('hazardous state'), '0' means that no high energy seismic bumps occurred in the next shift\n",
        "('non-hazardous state')."
      ]
    },
    {
      "cell_type": "markdown",
      "metadata": {
        "id": "sLU3hV49HesX"
      },
      "source": [
        "### Downloading the Dataset"
      ]
    },
    {
      "cell_type": "code",
      "metadata": {
        "colab": {
          "resources": {
            "http://localhost:8080/nbextensions/google.colab/files.js": {
              "data": "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",
              "ok": true,
              "headers": [
                [
                  "content-type",
                  "application/javascript"
                ]
              ],
              "status": 200,
              "status_text": ""
            }
          },
          "base_uri": "https://localhost:8080/",
          "height": 72
        },
        "id": "kbDmyz1cBEgS",
        "outputId": "fc0d3e02-d1e9-4898-cc96-5e3c2aee4ca8"
      },
      "source": [
        "from google.colab import files\n",
        "f1=files.upload()"
      ],
      "execution_count": null,
      "outputs": [
        {
          "output_type": "display_data",
          "data": {
            "text/html": [
              "\n",
              "     <input type=\"file\" id=\"files-97b6742e-e466-4465-aa94-c63d75df7694\" name=\"files[]\" multiple disabled\n",
              "        style=\"border:none\" />\n",
              "     <output id=\"result-97b6742e-e466-4465-aa94-c63d75df7694\">\n",
              "      Upload widget is only available when the cell has been executed in the\n",
              "      current browser session. Please rerun this cell to enable.\n",
              "      </output>\n",
              "      <script src=\"/nbextensions/google.colab/files.js\"></script> "
            ],
            "text/plain": [
              "<IPython.core.display.HTML object>"
            ]
          },
          "metadata": {
            "tags": []
          }
        },
        {
          "output_type": "stream",
          "text": [
            "Saving seismic-bumps.csv to seismic-bumps.csv\n"
          ],
          "name": "stdout"
        }
      ]
    },
    {
      "cell_type": "code",
      "metadata": {
        "id": "F6_g9QqnBMbm"
      },
      "source": [
        "import io\n",
        "import pandas as pd"
      ],
      "execution_count": null,
      "outputs": []
    },
    {
      "cell_type": "code",
      "metadata": {
        "id": "JMI9uGszBT9U"
      },
      "source": [
        "df=pd.read_csv(io.BytesIO(f1['seismic-bumps.csv']),header=None)"
      ],
      "execution_count": null,
      "outputs": []
    },
    {
      "cell_type": "code",
      "metadata": {
        "colab": {
          "base_uri": "https://localhost:8080/",
          "height": 419
        },
        "id": "xN5Ww3TlBc5e",
        "outputId": "60f793d7-a4e0-4940-8b03-0c0960d6a04a"
      },
      "source": [
        "df"
      ],
      "execution_count": null,
      "outputs": [
        {
          "output_type": "execute_result",
          "data": {
            "text/html": [
              "<div>\n",
              "<style scoped>\n",
              "    .dataframe tbody tr th:only-of-type {\n",
              "        vertical-align: middle;\n",
              "    }\n",
              "\n",
              "    .dataframe tbody tr th {\n",
              "        vertical-align: top;\n",
              "    }\n",
              "\n",
              "    .dataframe thead th {\n",
              "        text-align: right;\n",
              "    }\n",
              "</style>\n",
              "<table border=\"1\" class=\"dataframe\">\n",
              "  <thead>\n",
              "    <tr style=\"text-align: right;\">\n",
              "      <th></th>\n",
              "      <th>0</th>\n",
              "      <th>1</th>\n",
              "      <th>2</th>\n",
              "      <th>3</th>\n",
              "      <th>4</th>\n",
              "      <th>5</th>\n",
              "      <th>6</th>\n",
              "      <th>7</th>\n",
              "      <th>8</th>\n",
              "      <th>9</th>\n",
              "      <th>10</th>\n",
              "      <th>11</th>\n",
              "      <th>12</th>\n",
              "      <th>13</th>\n",
              "      <th>14</th>\n",
              "      <th>15</th>\n",
              "      <th>16</th>\n",
              "      <th>17</th>\n",
              "      <th>18</th>\n",
              "    </tr>\n",
              "  </thead>\n",
              "  <tbody>\n",
              "    <tr>\n",
              "      <th>0</th>\n",
              "      <td>a</td>\n",
              "      <td>a</td>\n",
              "      <td>N</td>\n",
              "      <td>15180</td>\n",
              "      <td>48</td>\n",
              "      <td>-72</td>\n",
              "      <td>-72</td>\n",
              "      <td>a</td>\n",
              "      <td>0</td>\n",
              "      <td>0</td>\n",
              "      <td>0</td>\n",
              "      <td>0</td>\n",
              "      <td>0</td>\n",
              "      <td>0</td>\n",
              "      <td>0</td>\n",
              "      <td>0</td>\n",
              "      <td>0</td>\n",
              "      <td>0</td>\n",
              "      <td>0</td>\n",
              "    </tr>\n",
              "    <tr>\n",
              "      <th>1</th>\n",
              "      <td>a</td>\n",
              "      <td>a</td>\n",
              "      <td>N</td>\n",
              "      <td>14720</td>\n",
              "      <td>33</td>\n",
              "      <td>-70</td>\n",
              "      <td>-79</td>\n",
              "      <td>a</td>\n",
              "      <td>1</td>\n",
              "      <td>0</td>\n",
              "      <td>1</td>\n",
              "      <td>0</td>\n",
              "      <td>0</td>\n",
              "      <td>0</td>\n",
              "      <td>0</td>\n",
              "      <td>0</td>\n",
              "      <td>2000</td>\n",
              "      <td>2000</td>\n",
              "      <td>0</td>\n",
              "    </tr>\n",
              "    <tr>\n",
              "      <th>2</th>\n",
              "      <td>a</td>\n",
              "      <td>a</td>\n",
              "      <td>N</td>\n",
              "      <td>8050</td>\n",
              "      <td>30</td>\n",
              "      <td>-81</td>\n",
              "      <td>-78</td>\n",
              "      <td>a</td>\n",
              "      <td>0</td>\n",
              "      <td>0</td>\n",
              "      <td>0</td>\n",
              "      <td>0</td>\n",
              "      <td>0</td>\n",
              "      <td>0</td>\n",
              "      <td>0</td>\n",
              "      <td>0</td>\n",
              "      <td>0</td>\n",
              "      <td>0</td>\n",
              "      <td>0</td>\n",
              "    </tr>\n",
              "    <tr>\n",
              "      <th>3</th>\n",
              "      <td>a</td>\n",
              "      <td>a</td>\n",
              "      <td>N</td>\n",
              "      <td>28820</td>\n",
              "      <td>171</td>\n",
              "      <td>-23</td>\n",
              "      <td>40</td>\n",
              "      <td>a</td>\n",
              "      <td>1</td>\n",
              "      <td>0</td>\n",
              "      <td>1</td>\n",
              "      <td>0</td>\n",
              "      <td>0</td>\n",
              "      <td>0</td>\n",
              "      <td>0</td>\n",
              "      <td>0</td>\n",
              "      <td>3000</td>\n",
              "      <td>3000</td>\n",
              "      <td>0</td>\n",
              "    </tr>\n",
              "    <tr>\n",
              "      <th>4</th>\n",
              "      <td>a</td>\n",
              "      <td>a</td>\n",
              "      <td>N</td>\n",
              "      <td>12640</td>\n",
              "      <td>57</td>\n",
              "      <td>-63</td>\n",
              "      <td>-52</td>\n",
              "      <td>a</td>\n",
              "      <td>0</td>\n",
              "      <td>0</td>\n",
              "      <td>0</td>\n",
              "      <td>0</td>\n",
              "      <td>0</td>\n",
              "      <td>0</td>\n",
              "      <td>0</td>\n",
              "      <td>0</td>\n",
              "      <td>0</td>\n",
              "      <td>0</td>\n",
              "      <td>0</td>\n",
              "    </tr>\n",
              "    <tr>\n",
              "      <th>...</th>\n",
              "      <td>...</td>\n",
              "      <td>...</td>\n",
              "      <td>...</td>\n",
              "      <td>...</td>\n",
              "      <td>...</td>\n",
              "      <td>...</td>\n",
              "      <td>...</td>\n",
              "      <td>...</td>\n",
              "      <td>...</td>\n",
              "      <td>...</td>\n",
              "      <td>...</td>\n",
              "      <td>...</td>\n",
              "      <td>...</td>\n",
              "      <td>...</td>\n",
              "      <td>...</td>\n",
              "      <td>...</td>\n",
              "      <td>...</td>\n",
              "      <td>...</td>\n",
              "      <td>...</td>\n",
              "    </tr>\n",
              "    <tr>\n",
              "      <th>2579</th>\n",
              "      <td>b</td>\n",
              "      <td>a</td>\n",
              "      <td>W</td>\n",
              "      <td>81410</td>\n",
              "      <td>785</td>\n",
              "      <td>432</td>\n",
              "      <td>151</td>\n",
              "      <td>b</td>\n",
              "      <td>0</td>\n",
              "      <td>0</td>\n",
              "      <td>0</td>\n",
              "      <td>0</td>\n",
              "      <td>0</td>\n",
              "      <td>0</td>\n",
              "      <td>0</td>\n",
              "      <td>0</td>\n",
              "      <td>0</td>\n",
              "      <td>0</td>\n",
              "      <td>0</td>\n",
              "    </tr>\n",
              "    <tr>\n",
              "      <th>2580</th>\n",
              "      <td>b</td>\n",
              "      <td>a</td>\n",
              "      <td>W</td>\n",
              "      <td>42110</td>\n",
              "      <td>555</td>\n",
              "      <td>213</td>\n",
              "      <td>118</td>\n",
              "      <td>a</td>\n",
              "      <td>0</td>\n",
              "      <td>0</td>\n",
              "      <td>0</td>\n",
              "      <td>0</td>\n",
              "      <td>0</td>\n",
              "      <td>0</td>\n",
              "      <td>0</td>\n",
              "      <td>0</td>\n",
              "      <td>0</td>\n",
              "      <td>0</td>\n",
              "      <td>0</td>\n",
              "    </tr>\n",
              "    <tr>\n",
              "      <th>2581</th>\n",
              "      <td>b</td>\n",
              "      <td>a</td>\n",
              "      <td>W</td>\n",
              "      <td>26960</td>\n",
              "      <td>540</td>\n",
              "      <td>101</td>\n",
              "      <td>112</td>\n",
              "      <td>a</td>\n",
              "      <td>0</td>\n",
              "      <td>0</td>\n",
              "      <td>0</td>\n",
              "      <td>0</td>\n",
              "      <td>0</td>\n",
              "      <td>0</td>\n",
              "      <td>0</td>\n",
              "      <td>0</td>\n",
              "      <td>0</td>\n",
              "      <td>0</td>\n",
              "      <td>0</td>\n",
              "    </tr>\n",
              "    <tr>\n",
              "      <th>2582</th>\n",
              "      <td>a</td>\n",
              "      <td>a</td>\n",
              "      <td>W</td>\n",
              "      <td>16130</td>\n",
              "      <td>322</td>\n",
              "      <td>2</td>\n",
              "      <td>2</td>\n",
              "      <td>a</td>\n",
              "      <td>0</td>\n",
              "      <td>0</td>\n",
              "      <td>0</td>\n",
              "      <td>0</td>\n",
              "      <td>0</td>\n",
              "      <td>0</td>\n",
              "      <td>0</td>\n",
              "      <td>0</td>\n",
              "      <td>0</td>\n",
              "      <td>0</td>\n",
              "      <td>0</td>\n",
              "    </tr>\n",
              "    <tr>\n",
              "      <th>2583</th>\n",
              "      <td>a</td>\n",
              "      <td>a</td>\n",
              "      <td>W</td>\n",
              "      <td>12750</td>\n",
              "      <td>235</td>\n",
              "      <td>-10</td>\n",
              "      <td>-10</td>\n",
              "      <td>a</td>\n",
              "      <td>0</td>\n",
              "      <td>0</td>\n",
              "      <td>0</td>\n",
              "      <td>0</td>\n",
              "      <td>0</td>\n",
              "      <td>0</td>\n",
              "      <td>0</td>\n",
              "      <td>0</td>\n",
              "      <td>0</td>\n",
              "      <td>0</td>\n",
              "      <td>0</td>\n",
              "    </tr>\n",
              "  </tbody>\n",
              "</table>\n",
              "<p>2584 rows × 19 columns</p>\n",
              "</div>"
            ],
            "text/plain": [
              "     0  1  2      3    4    5    6  7   ...  11  12  13  14  15    16    17  18\n",
              "0     a  a  N  15180   48  -72  -72  a  ...   0   0   0   0   0     0     0   0\n",
              "1     a  a  N  14720   33  -70  -79  a  ...   0   0   0   0   0  2000  2000   0\n",
              "2     a  a  N   8050   30  -81  -78  a  ...   0   0   0   0   0     0     0   0\n",
              "3     a  a  N  28820  171  -23   40  a  ...   0   0   0   0   0  3000  3000   0\n",
              "4     a  a  N  12640   57  -63  -52  a  ...   0   0   0   0   0     0     0   0\n",
              "...  .. .. ..    ...  ...  ...  ... ..  ...  ..  ..  ..  ..  ..   ...   ...  ..\n",
              "2579  b  a  W  81410  785  432  151  b  ...   0   0   0   0   0     0     0   0\n",
              "2580  b  a  W  42110  555  213  118  a  ...   0   0   0   0   0     0     0   0\n",
              "2581  b  a  W  26960  540  101  112  a  ...   0   0   0   0   0     0     0   0\n",
              "2582  a  a  W  16130  322    2    2  a  ...   0   0   0   0   0     0     0   0\n",
              "2583  a  a  W  12750  235  -10  -10  a  ...   0   0   0   0   0     0     0   0\n",
              "\n",
              "[2584 rows x 19 columns]"
            ]
          },
          "metadata": {
            "tags": []
          },
          "execution_count": 4
        }
      ]
    },
    {
      "cell_type": "markdown",
      "metadata": {
        "id": "5NH7tIrWFQTo"
      },
      "source": [
        "## Data preparation and cleaning"
      ]
    },
    {
      "cell_type": "code",
      "metadata": {
        "id": "Ye7EsOnDBzkU"
      },
      "source": [
        "columns=['seismic','seismoacoustic','shift','genergy','gplus','gdenergy','gdplus','ghazard','nbumps','nbumps2','nbumps3','nbumps4','nbumps5','nbumps6','nbumps7','nbumps89','energy','maxenergy','danger']"
      ],
      "execution_count": null,
      "outputs": []
    },
    {
      "cell_type": "code",
      "metadata": {
        "colab": {
          "base_uri": "https://localhost:8080/",
          "height": 419
        },
        "id": "aW_x-AQWDDwZ",
        "outputId": "7ca3e3a6-f002-477b-9bd6-95d47cc171b1"
      },
      "source": [
        "df.columns=columns\n",
        "df"
      ],
      "execution_count": null,
      "outputs": [
        {
          "output_type": "execute_result",
          "data": {
            "text/html": [
              "<div>\n",
              "<style scoped>\n",
              "    .dataframe tbody tr th:only-of-type {\n",
              "        vertical-align: middle;\n",
              "    }\n",
              "\n",
              "    .dataframe tbody tr th {\n",
              "        vertical-align: top;\n",
              "    }\n",
              "\n",
              "    .dataframe thead th {\n",
              "        text-align: right;\n",
              "    }\n",
              "</style>\n",
              "<table border=\"1\" class=\"dataframe\">\n",
              "  <thead>\n",
              "    <tr style=\"text-align: right;\">\n",
              "      <th></th>\n",
              "      <th>seismic</th>\n",
              "      <th>seismoacoustic</th>\n",
              "      <th>shift</th>\n",
              "      <th>genergy</th>\n",
              "      <th>gplus</th>\n",
              "      <th>gdenergy</th>\n",
              "      <th>gdplus</th>\n",
              "      <th>ghazard</th>\n",
              "      <th>nbumps</th>\n",
              "      <th>nbumps2</th>\n",
              "      <th>nbumps3</th>\n",
              "      <th>nbumps4</th>\n",
              "      <th>nbumps5</th>\n",
              "      <th>nbumps6</th>\n",
              "      <th>nbumps7</th>\n",
              "      <th>nbumps89</th>\n",
              "      <th>energy</th>\n",
              "      <th>maxenergy</th>\n",
              "      <th>danger</th>\n",
              "    </tr>\n",
              "  </thead>\n",
              "  <tbody>\n",
              "    <tr>\n",
              "      <th>0</th>\n",
              "      <td>a</td>\n",
              "      <td>a</td>\n",
              "      <td>N</td>\n",
              "      <td>15180</td>\n",
              "      <td>48</td>\n",
              "      <td>-72</td>\n",
              "      <td>-72</td>\n",
              "      <td>a</td>\n",
              "      <td>0</td>\n",
              "      <td>0</td>\n",
              "      <td>0</td>\n",
              "      <td>0</td>\n",
              "      <td>0</td>\n",
              "      <td>0</td>\n",
              "      <td>0</td>\n",
              "      <td>0</td>\n",
              "      <td>0</td>\n",
              "      <td>0</td>\n",
              "      <td>0</td>\n",
              "    </tr>\n",
              "    <tr>\n",
              "      <th>1</th>\n",
              "      <td>a</td>\n",
              "      <td>a</td>\n",
              "      <td>N</td>\n",
              "      <td>14720</td>\n",
              "      <td>33</td>\n",
              "      <td>-70</td>\n",
              "      <td>-79</td>\n",
              "      <td>a</td>\n",
              "      <td>1</td>\n",
              "      <td>0</td>\n",
              "      <td>1</td>\n",
              "      <td>0</td>\n",
              "      <td>0</td>\n",
              "      <td>0</td>\n",
              "      <td>0</td>\n",
              "      <td>0</td>\n",
              "      <td>2000</td>\n",
              "      <td>2000</td>\n",
              "      <td>0</td>\n",
              "    </tr>\n",
              "    <tr>\n",
              "      <th>2</th>\n",
              "      <td>a</td>\n",
              "      <td>a</td>\n",
              "      <td>N</td>\n",
              "      <td>8050</td>\n",
              "      <td>30</td>\n",
              "      <td>-81</td>\n",
              "      <td>-78</td>\n",
              "      <td>a</td>\n",
              "      <td>0</td>\n",
              "      <td>0</td>\n",
              "      <td>0</td>\n",
              "      <td>0</td>\n",
              "      <td>0</td>\n",
              "      <td>0</td>\n",
              "      <td>0</td>\n",
              "      <td>0</td>\n",
              "      <td>0</td>\n",
              "      <td>0</td>\n",
              "      <td>0</td>\n",
              "    </tr>\n",
              "    <tr>\n",
              "      <th>3</th>\n",
              "      <td>a</td>\n",
              "      <td>a</td>\n",
              "      <td>N</td>\n",
              "      <td>28820</td>\n",
              "      <td>171</td>\n",
              "      <td>-23</td>\n",
              "      <td>40</td>\n",
              "      <td>a</td>\n",
              "      <td>1</td>\n",
              "      <td>0</td>\n",
              "      <td>1</td>\n",
              "      <td>0</td>\n",
              "      <td>0</td>\n",
              "      <td>0</td>\n",
              "      <td>0</td>\n",
              "      <td>0</td>\n",
              "      <td>3000</td>\n",
              "      <td>3000</td>\n",
              "      <td>0</td>\n",
              "    </tr>\n",
              "    <tr>\n",
              "      <th>4</th>\n",
              "      <td>a</td>\n",
              "      <td>a</td>\n",
              "      <td>N</td>\n",
              "      <td>12640</td>\n",
              "      <td>57</td>\n",
              "      <td>-63</td>\n",
              "      <td>-52</td>\n",
              "      <td>a</td>\n",
              "      <td>0</td>\n",
              "      <td>0</td>\n",
              "      <td>0</td>\n",
              "      <td>0</td>\n",
              "      <td>0</td>\n",
              "      <td>0</td>\n",
              "      <td>0</td>\n",
              "      <td>0</td>\n",
              "      <td>0</td>\n",
              "      <td>0</td>\n",
              "      <td>0</td>\n",
              "    </tr>\n",
              "    <tr>\n",
              "      <th>...</th>\n",
              "      <td>...</td>\n",
              "      <td>...</td>\n",
              "      <td>...</td>\n",
              "      <td>...</td>\n",
              "      <td>...</td>\n",
              "      <td>...</td>\n",
              "      <td>...</td>\n",
              "      <td>...</td>\n",
              "      <td>...</td>\n",
              "      <td>...</td>\n",
              "      <td>...</td>\n",
              "      <td>...</td>\n",
              "      <td>...</td>\n",
              "      <td>...</td>\n",
              "      <td>...</td>\n",
              "      <td>...</td>\n",
              "      <td>...</td>\n",
              "      <td>...</td>\n",
              "      <td>...</td>\n",
              "    </tr>\n",
              "    <tr>\n",
              "      <th>2579</th>\n",
              "      <td>b</td>\n",
              "      <td>a</td>\n",
              "      <td>W</td>\n",
              "      <td>81410</td>\n",
              "      <td>785</td>\n",
              "      <td>432</td>\n",
              "      <td>151</td>\n",
              "      <td>b</td>\n",
              "      <td>0</td>\n",
              "      <td>0</td>\n",
              "      <td>0</td>\n",
              "      <td>0</td>\n",
              "      <td>0</td>\n",
              "      <td>0</td>\n",
              "      <td>0</td>\n",
              "      <td>0</td>\n",
              "      <td>0</td>\n",
              "      <td>0</td>\n",
              "      <td>0</td>\n",
              "    </tr>\n",
              "    <tr>\n",
              "      <th>2580</th>\n",
              "      <td>b</td>\n",
              "      <td>a</td>\n",
              "      <td>W</td>\n",
              "      <td>42110</td>\n",
              "      <td>555</td>\n",
              "      <td>213</td>\n",
              "      <td>118</td>\n",
              "      <td>a</td>\n",
              "      <td>0</td>\n",
              "      <td>0</td>\n",
              "      <td>0</td>\n",
              "      <td>0</td>\n",
              "      <td>0</td>\n",
              "      <td>0</td>\n",
              "      <td>0</td>\n",
              "      <td>0</td>\n",
              "      <td>0</td>\n",
              "      <td>0</td>\n",
              "      <td>0</td>\n",
              "    </tr>\n",
              "    <tr>\n",
              "      <th>2581</th>\n",
              "      <td>b</td>\n",
              "      <td>a</td>\n",
              "      <td>W</td>\n",
              "      <td>26960</td>\n",
              "      <td>540</td>\n",
              "      <td>101</td>\n",
              "      <td>112</td>\n",
              "      <td>a</td>\n",
              "      <td>0</td>\n",
              "      <td>0</td>\n",
              "      <td>0</td>\n",
              "      <td>0</td>\n",
              "      <td>0</td>\n",
              "      <td>0</td>\n",
              "      <td>0</td>\n",
              "      <td>0</td>\n",
              "      <td>0</td>\n",
              "      <td>0</td>\n",
              "      <td>0</td>\n",
              "    </tr>\n",
              "    <tr>\n",
              "      <th>2582</th>\n",
              "      <td>a</td>\n",
              "      <td>a</td>\n",
              "      <td>W</td>\n",
              "      <td>16130</td>\n",
              "      <td>322</td>\n",
              "      <td>2</td>\n",
              "      <td>2</td>\n",
              "      <td>a</td>\n",
              "      <td>0</td>\n",
              "      <td>0</td>\n",
              "      <td>0</td>\n",
              "      <td>0</td>\n",
              "      <td>0</td>\n",
              "      <td>0</td>\n",
              "      <td>0</td>\n",
              "      <td>0</td>\n",
              "      <td>0</td>\n",
              "      <td>0</td>\n",
              "      <td>0</td>\n",
              "    </tr>\n",
              "    <tr>\n",
              "      <th>2583</th>\n",
              "      <td>a</td>\n",
              "      <td>a</td>\n",
              "      <td>W</td>\n",
              "      <td>12750</td>\n",
              "      <td>235</td>\n",
              "      <td>-10</td>\n",
              "      <td>-10</td>\n",
              "      <td>a</td>\n",
              "      <td>0</td>\n",
              "      <td>0</td>\n",
              "      <td>0</td>\n",
              "      <td>0</td>\n",
              "      <td>0</td>\n",
              "      <td>0</td>\n",
              "      <td>0</td>\n",
              "      <td>0</td>\n",
              "      <td>0</td>\n",
              "      <td>0</td>\n",
              "      <td>0</td>\n",
              "    </tr>\n",
              "  </tbody>\n",
              "</table>\n",
              "<p>2584 rows × 19 columns</p>\n",
              "</div>"
            ],
            "text/plain": [
              "     seismic seismoacoustic shift  genergy  ...  nbumps89  energy  maxenergy danger\n",
              "0          a              a     N    15180  ...         0       0          0      0\n",
              "1          a              a     N    14720  ...         0    2000       2000      0\n",
              "2          a              a     N     8050  ...         0       0          0      0\n",
              "3          a              a     N    28820  ...         0    3000       3000      0\n",
              "4          a              a     N    12640  ...         0       0          0      0\n",
              "...      ...            ...   ...      ...  ...       ...     ...        ...    ...\n",
              "2579       b              a     W    81410  ...         0       0          0      0\n",
              "2580       b              a     W    42110  ...         0       0          0      0\n",
              "2581       b              a     W    26960  ...         0       0          0      0\n",
              "2582       a              a     W    16130  ...         0       0          0      0\n",
              "2583       a              a     W    12750  ...         0       0          0      0\n",
              "\n",
              "[2584 rows x 19 columns]"
            ]
          },
          "metadata": {
            "tags": []
          },
          "execution_count": 6
        }
      ]
    },
    {
      "cell_type": "code",
      "metadata": {
        "colab": {
          "base_uri": "https://localhost:8080/"
        },
        "id": "-Nh7mCQpDshh",
        "outputId": "0a02a392-ba87-4e48-83df-cb9cab911755"
      },
      "source": [
        "df.dtypes"
      ],
      "execution_count": null,
      "outputs": [
        {
          "output_type": "execute_result",
          "data": {
            "text/plain": [
              "seismic           object\n",
              "seismoacoustic    object\n",
              "shift             object\n",
              "genergy            int64\n",
              "gplus              int64\n",
              "gdenergy           int64\n",
              "gdplus             int64\n",
              "ghazard           object\n",
              "nbumps             int64\n",
              "nbumps2            int64\n",
              "nbumps3            int64\n",
              "nbumps4            int64\n",
              "nbumps5            int64\n",
              "nbumps6            int64\n",
              "nbumps7            int64\n",
              "nbumps89           int64\n",
              "energy             int64\n",
              "maxenergy          int64\n",
              "danger             int64\n",
              "dtype: object"
            ]
          },
          "metadata": {
            "tags": []
          },
          "execution_count": 7
        }
      ]
    },
    {
      "cell_type": "code",
      "metadata": {
        "id": "34e4ed40DHrG"
      },
      "source": [
        "df1=df\n",
        "columns1=['seismic','seismoacoustic','shift','ghazard']"
      ],
      "execution_count": null,
      "outputs": []
    },
    {
      "cell_type": "code",
      "metadata": {
        "id": "j31VhiQOD2Hq"
      },
      "source": [
        "from sklearn.preprocessing import LabelEncoder\n",
        "le=LabelEncoder()"
      ],
      "execution_count": null,
      "outputs": []
    },
    {
      "cell_type": "code",
      "metadata": {
        "id": "vj6ILpW7D7BA"
      },
      "source": [
        "for i in columns1:\n",
        "  df1[i]=le.fit_transform(df1[i])"
      ],
      "execution_count": null,
      "outputs": []
    },
    {
      "cell_type": "code",
      "metadata": {
        "colab": {
          "base_uri": "https://localhost:8080/",
          "height": 419
        },
        "id": "yqQEhdY_EBWo",
        "outputId": "f41e50b8-7b48-48b5-974b-93bfee72528e"
      },
      "source": [
        "df1"
      ],
      "execution_count": null,
      "outputs": [
        {
          "output_type": "execute_result",
          "data": {
            "text/html": [
              "<div>\n",
              "<style scoped>\n",
              "    .dataframe tbody tr th:only-of-type {\n",
              "        vertical-align: middle;\n",
              "    }\n",
              "\n",
              "    .dataframe tbody tr th {\n",
              "        vertical-align: top;\n",
              "    }\n",
              "\n",
              "    .dataframe thead th {\n",
              "        text-align: right;\n",
              "    }\n",
              "</style>\n",
              "<table border=\"1\" class=\"dataframe\">\n",
              "  <thead>\n",
              "    <tr style=\"text-align: right;\">\n",
              "      <th></th>\n",
              "      <th>seismic</th>\n",
              "      <th>seismoacoustic</th>\n",
              "      <th>shift</th>\n",
              "      <th>genergy</th>\n",
              "      <th>gplus</th>\n",
              "      <th>gdenergy</th>\n",
              "      <th>gdplus</th>\n",
              "      <th>ghazard</th>\n",
              "      <th>nbumps</th>\n",
              "      <th>nbumps2</th>\n",
              "      <th>nbumps3</th>\n",
              "      <th>nbumps4</th>\n",
              "      <th>nbumps5</th>\n",
              "      <th>nbumps6</th>\n",
              "      <th>nbumps7</th>\n",
              "      <th>nbumps89</th>\n",
              "      <th>energy</th>\n",
              "      <th>maxenergy</th>\n",
              "      <th>danger</th>\n",
              "    </tr>\n",
              "  </thead>\n",
              "  <tbody>\n",
              "    <tr>\n",
              "      <th>0</th>\n",
              "      <td>0</td>\n",
              "      <td>0</td>\n",
              "      <td>0</td>\n",
              "      <td>15180</td>\n",
              "      <td>48</td>\n",
              "      <td>-72</td>\n",
              "      <td>-72</td>\n",
              "      <td>0</td>\n",
              "      <td>0</td>\n",
              "      <td>0</td>\n",
              "      <td>0</td>\n",
              "      <td>0</td>\n",
              "      <td>0</td>\n",
              "      <td>0</td>\n",
              "      <td>0</td>\n",
              "      <td>0</td>\n",
              "      <td>0</td>\n",
              "      <td>0</td>\n",
              "      <td>0</td>\n",
              "    </tr>\n",
              "    <tr>\n",
              "      <th>1</th>\n",
              "      <td>0</td>\n",
              "      <td>0</td>\n",
              "      <td>0</td>\n",
              "      <td>14720</td>\n",
              "      <td>33</td>\n",
              "      <td>-70</td>\n",
              "      <td>-79</td>\n",
              "      <td>0</td>\n",
              "      <td>1</td>\n",
              "      <td>0</td>\n",
              "      <td>1</td>\n",
              "      <td>0</td>\n",
              "      <td>0</td>\n",
              "      <td>0</td>\n",
              "      <td>0</td>\n",
              "      <td>0</td>\n",
              "      <td>2000</td>\n",
              "      <td>2000</td>\n",
              "      <td>0</td>\n",
              "    </tr>\n",
              "    <tr>\n",
              "      <th>2</th>\n",
              "      <td>0</td>\n",
              "      <td>0</td>\n",
              "      <td>0</td>\n",
              "      <td>8050</td>\n",
              "      <td>30</td>\n",
              "      <td>-81</td>\n",
              "      <td>-78</td>\n",
              "      <td>0</td>\n",
              "      <td>0</td>\n",
              "      <td>0</td>\n",
              "      <td>0</td>\n",
              "      <td>0</td>\n",
              "      <td>0</td>\n",
              "      <td>0</td>\n",
              "      <td>0</td>\n",
              "      <td>0</td>\n",
              "      <td>0</td>\n",
              "      <td>0</td>\n",
              "      <td>0</td>\n",
              "    </tr>\n",
              "    <tr>\n",
              "      <th>3</th>\n",
              "      <td>0</td>\n",
              "      <td>0</td>\n",
              "      <td>0</td>\n",
              "      <td>28820</td>\n",
              "      <td>171</td>\n",
              "      <td>-23</td>\n",
              "      <td>40</td>\n",
              "      <td>0</td>\n",
              "      <td>1</td>\n",
              "      <td>0</td>\n",
              "      <td>1</td>\n",
              "      <td>0</td>\n",
              "      <td>0</td>\n",
              "      <td>0</td>\n",
              "      <td>0</td>\n",
              "      <td>0</td>\n",
              "      <td>3000</td>\n",
              "      <td>3000</td>\n",
              "      <td>0</td>\n",
              "    </tr>\n",
              "    <tr>\n",
              "      <th>4</th>\n",
              "      <td>0</td>\n",
              "      <td>0</td>\n",
              "      <td>0</td>\n",
              "      <td>12640</td>\n",
              "      <td>57</td>\n",
              "      <td>-63</td>\n",
              "      <td>-52</td>\n",
              "      <td>0</td>\n",
              "      <td>0</td>\n",
              "      <td>0</td>\n",
              "      <td>0</td>\n",
              "      <td>0</td>\n",
              "      <td>0</td>\n",
              "      <td>0</td>\n",
              "      <td>0</td>\n",
              "      <td>0</td>\n",
              "      <td>0</td>\n",
              "      <td>0</td>\n",
              "      <td>0</td>\n",
              "    </tr>\n",
              "    <tr>\n",
              "      <th>...</th>\n",
              "      <td>...</td>\n",
              "      <td>...</td>\n",
              "      <td>...</td>\n",
              "      <td>...</td>\n",
              "      <td>...</td>\n",
              "      <td>...</td>\n",
              "      <td>...</td>\n",
              "      <td>...</td>\n",
              "      <td>...</td>\n",
              "      <td>...</td>\n",
              "      <td>...</td>\n",
              "      <td>...</td>\n",
              "      <td>...</td>\n",
              "      <td>...</td>\n",
              "      <td>...</td>\n",
              "      <td>...</td>\n",
              "      <td>...</td>\n",
              "      <td>...</td>\n",
              "      <td>...</td>\n",
              "    </tr>\n",
              "    <tr>\n",
              "      <th>2579</th>\n",
              "      <td>1</td>\n",
              "      <td>0</td>\n",
              "      <td>1</td>\n",
              "      <td>81410</td>\n",
              "      <td>785</td>\n",
              "      <td>432</td>\n",
              "      <td>151</td>\n",
              "      <td>1</td>\n",
              "      <td>0</td>\n",
              "      <td>0</td>\n",
              "      <td>0</td>\n",
              "      <td>0</td>\n",
              "      <td>0</td>\n",
              "      <td>0</td>\n",
              "      <td>0</td>\n",
              "      <td>0</td>\n",
              "      <td>0</td>\n",
              "      <td>0</td>\n",
              "      <td>0</td>\n",
              "    </tr>\n",
              "    <tr>\n",
              "      <th>2580</th>\n",
              "      <td>1</td>\n",
              "      <td>0</td>\n",
              "      <td>1</td>\n",
              "      <td>42110</td>\n",
              "      <td>555</td>\n",
              "      <td>213</td>\n",
              "      <td>118</td>\n",
              "      <td>0</td>\n",
              "      <td>0</td>\n",
              "      <td>0</td>\n",
              "      <td>0</td>\n",
              "      <td>0</td>\n",
              "      <td>0</td>\n",
              "      <td>0</td>\n",
              "      <td>0</td>\n",
              "      <td>0</td>\n",
              "      <td>0</td>\n",
              "      <td>0</td>\n",
              "      <td>0</td>\n",
              "    </tr>\n",
              "    <tr>\n",
              "      <th>2581</th>\n",
              "      <td>1</td>\n",
              "      <td>0</td>\n",
              "      <td>1</td>\n",
              "      <td>26960</td>\n",
              "      <td>540</td>\n",
              "      <td>101</td>\n",
              "      <td>112</td>\n",
              "      <td>0</td>\n",
              "      <td>0</td>\n",
              "      <td>0</td>\n",
              "      <td>0</td>\n",
              "      <td>0</td>\n",
              "      <td>0</td>\n",
              "      <td>0</td>\n",
              "      <td>0</td>\n",
              "      <td>0</td>\n",
              "      <td>0</td>\n",
              "      <td>0</td>\n",
              "      <td>0</td>\n",
              "    </tr>\n",
              "    <tr>\n",
              "      <th>2582</th>\n",
              "      <td>0</td>\n",
              "      <td>0</td>\n",
              "      <td>1</td>\n",
              "      <td>16130</td>\n",
              "      <td>322</td>\n",
              "      <td>2</td>\n",
              "      <td>2</td>\n",
              "      <td>0</td>\n",
              "      <td>0</td>\n",
              "      <td>0</td>\n",
              "      <td>0</td>\n",
              "      <td>0</td>\n",
              "      <td>0</td>\n",
              "      <td>0</td>\n",
              "      <td>0</td>\n",
              "      <td>0</td>\n",
              "      <td>0</td>\n",
              "      <td>0</td>\n",
              "      <td>0</td>\n",
              "    </tr>\n",
              "    <tr>\n",
              "      <th>2583</th>\n",
              "      <td>0</td>\n",
              "      <td>0</td>\n",
              "      <td>1</td>\n",
              "      <td>12750</td>\n",
              "      <td>235</td>\n",
              "      <td>-10</td>\n",
              "      <td>-10</td>\n",
              "      <td>0</td>\n",
              "      <td>0</td>\n",
              "      <td>0</td>\n",
              "      <td>0</td>\n",
              "      <td>0</td>\n",
              "      <td>0</td>\n",
              "      <td>0</td>\n",
              "      <td>0</td>\n",
              "      <td>0</td>\n",
              "      <td>0</td>\n",
              "      <td>0</td>\n",
              "      <td>0</td>\n",
              "    </tr>\n",
              "  </tbody>\n",
              "</table>\n",
              "<p>2584 rows × 19 columns</p>\n",
              "</div>"
            ],
            "text/plain": [
              "      seismic  seismoacoustic  shift  ...  energy  maxenergy  danger\n",
              "0           0               0      0  ...       0          0       0\n",
              "1           0               0      0  ...    2000       2000       0\n",
              "2           0               0      0  ...       0          0       0\n",
              "3           0               0      0  ...    3000       3000       0\n",
              "4           0               0      0  ...       0          0       0\n",
              "...       ...             ...    ...  ...     ...        ...     ...\n",
              "2579        1               0      1  ...       0          0       0\n",
              "2580        1               0      1  ...       0          0       0\n",
              "2581        1               0      1  ...       0          0       0\n",
              "2582        0               0      1  ...       0          0       0\n",
              "2583        0               0      1  ...       0          0       0\n",
              "\n",
              "[2584 rows x 19 columns]"
            ]
          },
          "metadata": {
            "tags": []
          },
          "execution_count": 11
        }
      ]
    },
    {
      "cell_type": "code",
      "metadata": {
        "colab": {
          "base_uri": "https://localhost:8080/"
        },
        "id": "-rEv59AiEz8H",
        "outputId": "cea5fc46-08cb-441d-87c9-6d4f2a8c27a9"
      },
      "source": [
        "df1.nunique()"
      ],
      "execution_count": null,
      "outputs": [
        {
          "output_type": "execute_result",
          "data": {
            "text/plain": [
              "seismic              2\n",
              "seismoacoustic       3\n",
              "shift                2\n",
              "genergy           2212\n",
              "gplus             1128\n",
              "gdenergy           334\n",
              "gdplus             292\n",
              "ghazard              3\n",
              "nbumps              10\n",
              "nbumps2              7\n",
              "nbumps3              7\n",
              "nbumps4              4\n",
              "nbumps5              2\n",
              "nbumps6              1\n",
              "nbumps7              1\n",
              "nbumps89             1\n",
              "energy             242\n",
              "maxenergy           33\n",
              "danger               2\n",
              "dtype: int64"
            ]
          },
          "metadata": {
            "tags": []
          },
          "execution_count": 12
        }
      ]
    },
    {
      "cell_type": "code",
      "metadata": {
        "colab": {
          "base_uri": "https://localhost:8080/"
        },
        "id": "_iKHCHVVFf1Q",
        "outputId": "a4af41e3-6551-437a-95be-3d763073bf06"
      },
      "source": [
        "df1.info()"
      ],
      "execution_count": null,
      "outputs": [
        {
          "output_type": "stream",
          "text": [
            "<class 'pandas.core.frame.DataFrame'>\n",
            "RangeIndex: 2584 entries, 0 to 2583\n",
            "Data columns (total 19 columns):\n",
            " #   Column          Non-Null Count  Dtype\n",
            "---  ------          --------------  -----\n",
            " 0   seismic         2584 non-null   int64\n",
            " 1   seismoacoustic  2584 non-null   int64\n",
            " 2   shift           2584 non-null   int64\n",
            " 3   genergy         2584 non-null   int64\n",
            " 4   gplus           2584 non-null   int64\n",
            " 5   gdenergy        2584 non-null   int64\n",
            " 6   gdplus          2584 non-null   int64\n",
            " 7   ghazard         2584 non-null   int64\n",
            " 8   nbumps          2584 non-null   int64\n",
            " 9   nbumps2         2584 non-null   int64\n",
            " 10  nbumps3         2584 non-null   int64\n",
            " 11  nbumps4         2584 non-null   int64\n",
            " 12  nbumps5         2584 non-null   int64\n",
            " 13  nbumps6         2584 non-null   int64\n",
            " 14  nbumps7         2584 non-null   int64\n",
            " 15  nbumps89        2584 non-null   int64\n",
            " 16  energy          2584 non-null   int64\n",
            " 17  maxenergy       2584 non-null   int64\n",
            " 18  danger          2584 non-null   int64\n",
            "dtypes: int64(19)\n",
            "memory usage: 383.7 KB\n"
          ],
          "name": "stdout"
        }
      ]
    },
    {
      "cell_type": "code",
      "metadata": {
        "colab": {
          "base_uri": "https://localhost:8080/",
          "height": 317
        },
        "id": "zghAjoWmFneu",
        "outputId": "d5ecccf9-bad3-443a-e696-870a9dcb6bd9"
      },
      "source": [
        "df1.describe()"
      ],
      "execution_count": null,
      "outputs": [
        {
          "output_type": "execute_result",
          "data": {
            "text/html": [
              "<div>\n",
              "<style scoped>\n",
              "    .dataframe tbody tr th:only-of-type {\n",
              "        vertical-align: middle;\n",
              "    }\n",
              "\n",
              "    .dataframe tbody tr th {\n",
              "        vertical-align: top;\n",
              "    }\n",
              "\n",
              "    .dataframe thead th {\n",
              "        text-align: right;\n",
              "    }\n",
              "</style>\n",
              "<table border=\"1\" class=\"dataframe\">\n",
              "  <thead>\n",
              "    <tr style=\"text-align: right;\">\n",
              "      <th></th>\n",
              "      <th>seismic</th>\n",
              "      <th>seismoacoustic</th>\n",
              "      <th>shift</th>\n",
              "      <th>genergy</th>\n",
              "      <th>gplus</th>\n",
              "      <th>gdenergy</th>\n",
              "      <th>gdplus</th>\n",
              "      <th>ghazard</th>\n",
              "      <th>nbumps</th>\n",
              "      <th>nbumps2</th>\n",
              "      <th>nbumps3</th>\n",
              "      <th>nbumps4</th>\n",
              "      <th>nbumps5</th>\n",
              "      <th>nbumps6</th>\n",
              "      <th>nbumps7</th>\n",
              "      <th>nbumps89</th>\n",
              "      <th>energy</th>\n",
              "      <th>maxenergy</th>\n",
              "      <th>danger</th>\n",
              "    </tr>\n",
              "  </thead>\n",
              "  <tbody>\n",
              "    <tr>\n",
              "      <th>count</th>\n",
              "      <td>2584.000000</td>\n",
              "      <td>2584.000000</td>\n",
              "      <td>2584.000000</td>\n",
              "      <td>2.584000e+03</td>\n",
              "      <td>2584.000000</td>\n",
              "      <td>2584.000000</td>\n",
              "      <td>2584.000000</td>\n",
              "      <td>2584.000000</td>\n",
              "      <td>2584.000000</td>\n",
              "      <td>2584.000000</td>\n",
              "      <td>2584.000000</td>\n",
              "      <td>2584.000000</td>\n",
              "      <td>2584.000000</td>\n",
              "      <td>2584.0</td>\n",
              "      <td>2584.0</td>\n",
              "      <td>2584.0</td>\n",
              "      <td>2584.000000</td>\n",
              "      <td>2584.000000</td>\n",
              "      <td>2584.000000</td>\n",
              "    </tr>\n",
              "    <tr>\n",
              "      <th>mean</th>\n",
              "      <td>0.349071</td>\n",
              "      <td>0.407121</td>\n",
              "      <td>0.643576</td>\n",
              "      <td>9.024252e+04</td>\n",
              "      <td>538.579334</td>\n",
              "      <td>12.375774</td>\n",
              "      <td>4.508901</td>\n",
              "      <td>0.105263</td>\n",
              "      <td>0.859520</td>\n",
              "      <td>0.393576</td>\n",
              "      <td>0.392802</td>\n",
              "      <td>0.067724</td>\n",
              "      <td>0.004644</td>\n",
              "      <td>0.0</td>\n",
              "      <td>0.0</td>\n",
              "      <td>0.0</td>\n",
              "      <td>4975.270898</td>\n",
              "      <td>4278.850619</td>\n",
              "      <td>0.065789</td>\n",
              "    </tr>\n",
              "    <tr>\n",
              "      <th>std</th>\n",
              "      <td>0.476769</td>\n",
              "      <td>0.527857</td>\n",
              "      <td>0.479035</td>\n",
              "      <td>2.292005e+05</td>\n",
              "      <td>562.652536</td>\n",
              "      <td>80.319051</td>\n",
              "      <td>63.166556</td>\n",
              "      <td>0.342707</td>\n",
              "      <td>1.364616</td>\n",
              "      <td>0.783772</td>\n",
              "      <td>0.769710</td>\n",
              "      <td>0.279059</td>\n",
              "      <td>0.068001</td>\n",
              "      <td>0.0</td>\n",
              "      <td>0.0</td>\n",
              "      <td>0.0</td>\n",
              "      <td>20450.833222</td>\n",
              "      <td>19357.454882</td>\n",
              "      <td>0.247962</td>\n",
              "    </tr>\n",
              "    <tr>\n",
              "      <th>min</th>\n",
              "      <td>0.000000</td>\n",
              "      <td>0.000000</td>\n",
              "      <td>0.000000</td>\n",
              "      <td>1.000000e+02</td>\n",
              "      <td>2.000000</td>\n",
              "      <td>-96.000000</td>\n",
              "      <td>-96.000000</td>\n",
              "      <td>0.000000</td>\n",
              "      <td>0.000000</td>\n",
              "      <td>0.000000</td>\n",
              "      <td>0.000000</td>\n",
              "      <td>0.000000</td>\n",
              "      <td>0.000000</td>\n",
              "      <td>0.0</td>\n",
              "      <td>0.0</td>\n",
              "      <td>0.0</td>\n",
              "      <td>0.000000</td>\n",
              "      <td>0.000000</td>\n",
              "      <td>0.000000</td>\n",
              "    </tr>\n",
              "    <tr>\n",
              "      <th>25%</th>\n",
              "      <td>0.000000</td>\n",
              "      <td>0.000000</td>\n",
              "      <td>0.000000</td>\n",
              "      <td>1.166000e+04</td>\n",
              "      <td>190.000000</td>\n",
              "      <td>-37.000000</td>\n",
              "      <td>-36.000000</td>\n",
              "      <td>0.000000</td>\n",
              "      <td>0.000000</td>\n",
              "      <td>0.000000</td>\n",
              "      <td>0.000000</td>\n",
              "      <td>0.000000</td>\n",
              "      <td>0.000000</td>\n",
              "      <td>0.0</td>\n",
              "      <td>0.0</td>\n",
              "      <td>0.0</td>\n",
              "      <td>0.000000</td>\n",
              "      <td>0.000000</td>\n",
              "      <td>0.000000</td>\n",
              "    </tr>\n",
              "    <tr>\n",
              "      <th>50%</th>\n",
              "      <td>0.000000</td>\n",
              "      <td>0.000000</td>\n",
              "      <td>1.000000</td>\n",
              "      <td>2.548500e+04</td>\n",
              "      <td>379.000000</td>\n",
              "      <td>-6.000000</td>\n",
              "      <td>-6.000000</td>\n",
              "      <td>0.000000</td>\n",
              "      <td>0.000000</td>\n",
              "      <td>0.000000</td>\n",
              "      <td>0.000000</td>\n",
              "      <td>0.000000</td>\n",
              "      <td>0.000000</td>\n",
              "      <td>0.0</td>\n",
              "      <td>0.0</td>\n",
              "      <td>0.0</td>\n",
              "      <td>0.000000</td>\n",
              "      <td>0.000000</td>\n",
              "      <td>0.000000</td>\n",
              "    </tr>\n",
              "    <tr>\n",
              "      <th>75%</th>\n",
              "      <td>1.000000</td>\n",
              "      <td>1.000000</td>\n",
              "      <td>1.000000</td>\n",
              "      <td>5.283250e+04</td>\n",
              "      <td>669.000000</td>\n",
              "      <td>38.000000</td>\n",
              "      <td>30.250000</td>\n",
              "      <td>0.000000</td>\n",
              "      <td>1.000000</td>\n",
              "      <td>1.000000</td>\n",
              "      <td>1.000000</td>\n",
              "      <td>0.000000</td>\n",
              "      <td>0.000000</td>\n",
              "      <td>0.0</td>\n",
              "      <td>0.0</td>\n",
              "      <td>0.0</td>\n",
              "      <td>2600.000000</td>\n",
              "      <td>2000.000000</td>\n",
              "      <td>0.000000</td>\n",
              "    </tr>\n",
              "    <tr>\n",
              "      <th>max</th>\n",
              "      <td>1.000000</td>\n",
              "      <td>2.000000</td>\n",
              "      <td>1.000000</td>\n",
              "      <td>2.595650e+06</td>\n",
              "      <td>4518.000000</td>\n",
              "      <td>1245.000000</td>\n",
              "      <td>838.000000</td>\n",
              "      <td>2.000000</td>\n",
              "      <td>9.000000</td>\n",
              "      <td>8.000000</td>\n",
              "      <td>7.000000</td>\n",
              "      <td>3.000000</td>\n",
              "      <td>1.000000</td>\n",
              "      <td>0.0</td>\n",
              "      <td>0.0</td>\n",
              "      <td>0.0</td>\n",
              "      <td>402000.000000</td>\n",
              "      <td>400000.000000</td>\n",
              "      <td>1.000000</td>\n",
              "    </tr>\n",
              "  </tbody>\n",
              "</table>\n",
              "</div>"
            ],
            "text/plain": [
              "           seismic  seismoacoustic  ...      maxenergy       danger\n",
              "count  2584.000000     2584.000000  ...    2584.000000  2584.000000\n",
              "mean      0.349071        0.407121  ...    4278.850619     0.065789\n",
              "std       0.476769        0.527857  ...   19357.454882     0.247962\n",
              "min       0.000000        0.000000  ...       0.000000     0.000000\n",
              "25%       0.000000        0.000000  ...       0.000000     0.000000\n",
              "50%       0.000000        0.000000  ...       0.000000     0.000000\n",
              "75%       1.000000        1.000000  ...    2000.000000     0.000000\n",
              "max       1.000000        2.000000  ...  400000.000000     1.000000\n",
              "\n",
              "[8 rows x 19 columns]"
            ]
          },
          "metadata": {
            "tags": []
          },
          "execution_count": 14
        }
      ]
    },
    {
      "cell_type": "code",
      "metadata": {
        "colab": {
          "base_uri": "https://localhost:8080/"
        },
        "id": "ABzQufuRFprZ",
        "outputId": "941e4191-9146-4958-8a9f-cc0a550047ab"
      },
      "source": [
        "df1.isnull().sum()"
      ],
      "execution_count": null,
      "outputs": [
        {
          "output_type": "execute_result",
          "data": {
            "text/plain": [
              "seismic           0\n",
              "seismoacoustic    0\n",
              "shift             0\n",
              "genergy           0\n",
              "gplus             0\n",
              "gdenergy          0\n",
              "gdplus            0\n",
              "ghazard           0\n",
              "nbumps            0\n",
              "nbumps2           0\n",
              "nbumps3           0\n",
              "nbumps4           0\n",
              "nbumps5           0\n",
              "nbumps6           0\n",
              "nbumps7           0\n",
              "nbumps89          0\n",
              "energy            0\n",
              "maxenergy         0\n",
              "danger            0\n",
              "dtype: int64"
            ]
          },
          "metadata": {
            "tags": []
          },
          "execution_count": 15
        }
      ]
    },
    {
      "cell_type": "markdown",
      "metadata": {
        "id": "xuMPT38xGwj_"
      },
      "source": [
        "# Exploratory data analysis"
      ]
    },
    {
      "cell_type": "code",
      "metadata": {
        "id": "Cu7jY2MqI_v2"
      },
      "source": [
        "import matplotlib.pyplot as plt\n",
        "import seaborn as sns\n",
        "sns.set_style('darkgrid')"
      ],
      "execution_count": null,
      "outputs": []
    },
    {
      "cell_type": "code",
      "metadata": {
        "colab": {
          "base_uri": "https://localhost:8080/",
          "height": 336
        },
        "id": "gZOgJWNiJry2",
        "outputId": "59d8689a-760b-4af8-e869-9bc9352ef850"
      },
      "source": [
        "df_corr=df1.corr()\n",
        "sns.heatmap(df_corr,cmap='Blues',vmax=0.8)\n",
        "plt.show()"
      ],
      "execution_count": null,
      "outputs": [
        {
          "output_type": "display_data",
          "data": {
            "image/png": "[encoded data removed]",
            "text/plain": [
              "<Figure size 432x288 with 2 Axes>"
            ]
          },
          "metadata": {
            "tags": []
          }
        }
      ]
    },
    {
      "cell_type": "code",
      "metadata": {
        "colab": {
          "base_uri": "https://localhost:8080/"
        },
        "id": "8tNP6TwNGs5-",
        "outputId": "8038e5a9-0e8b-41b9-cde0-cf944f767afb"
      },
      "source": [
        "df.columns"
      ],
      "execution_count": null,
      "outputs": [
        {
          "output_type": "execute_result",
          "data": {
            "text/plain": [
              "Index(['seismic', 'seismoacoustic', 'shift', 'genergy', 'gplus', 'gdenergy',\n",
              "       'gdplus', 'ghazard', 'nbumps', 'nbumps2', 'nbumps3', 'nbumps4',\n",
              "       'nbumps5', 'nbumps6', 'nbumps7', 'nbumps89', 'energy', 'maxenergy',\n",
              "       'danger'],\n",
              "      dtype='object')"
            ]
          },
          "metadata": {
            "tags": []
          },
          "execution_count": 18
        }
      ]
    },
    {
      "cell_type": "markdown",
      "metadata": {
        "id": "eF0LJ4M9dDND"
      },
      "source": [
        "- Seismic v/s Danger"
      ]
    },
    {
      "cell_type": "code",
      "metadata": {
        "colab": {
          "base_uri": "https://localhost:8080/",
          "height": 279
        },
        "id": "3opeajG9b1Tr",
        "outputId": "01ced3cd-b553-44ce-90da-6bce0336a5d8"
      },
      "source": [
        "sns.barplot(data=df1,x='danger',y='seismic')\n",
        "plt.show()"
      ],
      "execution_count": null,
      "outputs": [
        {
          "output_type": "display_data",
          "data": {
            "image/png": "[encoded data removed]",
            "text/plain": [
              "<Figure size 432x288 with 1 Axes>"
            ]
          },
          "metadata": {
            "tags": []
          }
        }
      ]
    },
    {
      "cell_type": "code",
      "metadata": {
        "colab": {
          "base_uri": "https://localhost:8080/",
          "height": 248
        },
        "id": "4E8sKpV2kHiX",
        "outputId": "d81aa477-8f95-41c0-cd56-feca1345151b"
      },
      "source": [
        "un_seis=df1.seismic.value_counts()\n",
        "un_seis.plot(kind='pie')\n",
        "plt.legend()\n",
        "plt.show()"
      ],
      "execution_count": null,
      "outputs": [
        {
          "output_type": "display_data",
          "data": {
            "image/png": "[encoded data removed]",
            "text/plain": [
              "<Figure size 432x288 with 1 Axes>"
            ]
          },
          "metadata": {
            "tags": []
          }
        }
      ]
    },
    {
      "cell_type": "markdown",
      "metadata": {
        "id": "a-Rvo-nUdhoL"
      },
      "source": [
        "- Seismoacoustic v/s danger"
      ]
    },
    {
      "cell_type": "code",
      "metadata": {
        "colab": {
          "base_uri": "https://localhost:8080/",
          "height": 279
        },
        "id": "xq30Xr7fdQOV",
        "outputId": "a2643a55-7c94-4f78-f68e-f7078a5fa2e9"
      },
      "source": [
        "sns.barplot(data=df1,x='seismoacoustic',y='danger')\n",
        "plt.show()"
      ],
      "execution_count": null,
      "outputs": [
        {
          "output_type": "display_data",
          "data": {
            "image/png": "[encoded data removed]",
            "text/plain": [
              "<Figure size 432x288 with 1 Axes>"
            ]
          },
          "metadata": {
            "tags": []
          }
        }
      ]
    },
    {
      "cell_type": "markdown",
      "metadata": {
        "id": "cSsQj0EsfCiW"
      },
      "source": [
        "- shift v/s danger"
      ]
    },
    {
      "cell_type": "code",
      "metadata": {
        "colab": {
          "base_uri": "https://localhost:8080/",
          "height": 296
        },
        "id": "njChePQ-eiUc",
        "outputId": "ed1da902-aed8-4ca7-ede5-ecb2000cd4a1"
      },
      "source": [
        "sns.barplot(data=df1,x='shift',y='danger')"
      ],
      "execution_count": null,
      "outputs": [
        {
          "output_type": "execute_result",
          "data": {
            "text/plain": [
              "<matplotlib.axes._subplots.AxesSubplot at 0x7fd386b1fb50>"
            ]
          },
          "metadata": {
            "tags": []
          },
          "execution_count": 22
        },
        {
          "output_type": "display_data",
          "data": {
            "image/png": "[encoded data removed]",
            "text/plain": [
              "<Figure size 432x288 with 1 Axes>"
            ]
          },
          "metadata": {
            "tags": []
          }
        }
      ]
    },
    {
      "cell_type": "markdown",
      "metadata": {
        "id": "hqoJKRoDfp-U"
      },
      "source": [
        "- genergy v/s danger v/s seismic v/s shift"
      ]
    },
    {
      "cell_type": "code",
      "metadata": {
        "id": "5q_zs9RffUke",
        "colab": {
          "base_uri": "https://localhost:8080/"
        },
        "outputId": "deae5506-5ace-4839-c630-17a06b987326"
      },
      "source": [
        "df1.genergy.nunique()"
      ],
      "execution_count": null,
      "outputs": [
        {
          "output_type": "execute_result",
          "data": {
            "text/plain": [
              "2212"
            ]
          },
          "metadata": {
            "tags": []
          },
          "execution_count": 23
        }
      ]
    },
    {
      "cell_type": "code",
      "metadata": {
        "colab": {
          "base_uri": "https://localhost:8080/",
          "height": 383
        },
        "id": "MccaItqxghf2",
        "outputId": "2c582ac9-a846-457d-a1ae-81e5eda8086a"
      },
      "source": [
        "sns.relplot(data=df1,x='danger',y='genergy',hue='seismic',style='shift')\n",
        "plt.show()"
      ],
      "execution_count": null,
      "outputs": [
        {
          "output_type": "display_data",
          "data": {
            "image/png": "[encoded data removed]",
            "text/plain": [
              "<Figure size 413.5x360 with 1 Axes>"
            ]
          },
          "metadata": {
            "tags": []
          }
        }
      ]
    },
    {
      "cell_type": "markdown",
      "metadata": {
        "id": "naSi8l3Ukodm"
      },
      "source": [
        "- Gdenergy "
      ]
    },
    {
      "cell_type": "code",
      "metadata": {
        "id": "-8Xruq0Xk0Z6",
        "colab": {
          "base_uri": "https://localhost:8080/"
        },
        "outputId": "90db7da5-04de-44c8-dabc-c7775bbc0fd2"
      },
      "source": [
        "df.gdenergy.nunique()"
      ],
      "execution_count": null,
      "outputs": [
        {
          "output_type": "execute_result",
          "data": {
            "text/plain": [
              "334"
            ]
          },
          "metadata": {
            "tags": []
          },
          "execution_count": 25
        }
      ]
    },
    {
      "cell_type": "code",
      "metadata": {
        "colab": {
          "base_uri": "https://localhost:8080/",
          "height": 383
        },
        "id": "rybSeT-Fk3MW",
        "outputId": "c858c841-f6ff-4c48-969a-56e76aebdbf7"
      },
      "source": [
        "sns.relplot(data=df1,x='gdenergy',y='danger',hue='danger',style='seismic')\n",
        "plt.show()"
      ],
      "execution_count": null,
      "outputs": [
        {
          "output_type": "display_data",
          "data": {
            "image/png": "[encoded data removed]",
            "text/plain": [
              "<Figure size 413.5x360 with 1 Axes>"
            ]
          },
          "metadata": {
            "tags": []
          }
        }
      ]
    },
    {
      "cell_type": "markdown",
      "metadata": {
        "id": "VQedwjSolzpN"
      },
      "source": [
        "- N Bumps"
      ]
    },
    {
      "cell_type": "code",
      "metadata": {
        "id": "BW4fEvLFxJxG"
      },
      "source": [
        "un_1=df1.nbumps.value_counts()\n",
        "un_2=df1.nbumps2.value_counts()\n",
        "un_3=df1.nbumps3.value_counts()\n",
        "un_4=df1.nbumps4.value_counts()\n",
        "un_5=df1.nbumps5.value_counts()\n",
        "un_6=df1.nbumps6.value_counts()\n",
        "un_7=df1.nbumps7.value_counts()\n",
        "un_8=df1.nbumps89.value_counts()"
      ],
      "execution_count": null,
      "outputs": []
    },
    {
      "cell_type": "code",
      "metadata": {
        "colab": {
          "base_uri": "https://localhost:8080/",
          "height": 262
        },
        "id": "RKfSRy3aoP4X",
        "outputId": "bd72ebfe-35fe-43b2-e2de-5d324d2a1186"
      },
      "source": [
        "plt.subplot(2,4,1)\n",
        "un_1.plot(kind='barh')\n",
        "\n",
        "plt.subplot(2,4,2)\n",
        "un_2.plot(kind='barh')\n",
        "\n",
        "plt.subplot(2,4,3)\n",
        "un_3.plot(kind='barh')\n",
        "\n",
        "plt.subplot(2,4,4)\n",
        "un_4.plot(kind='barh')\n",
        "\n",
        "plt.subplot(2,4,5)\n",
        "un_5.plot(kind='bar')\n",
        "\n",
        "plt.subplot(2,4,6)\n",
        "un_6.plot(kind='bar')\n",
        "\n",
        "plt.subplot(2,4,7)\n",
        "un_7.plot(kind='bar')\n",
        "\n",
        "plt.subplot(2,4,8)\n",
        "un_8.plot(kind='bar')\n",
        "\n",
        "plt.show()"
      ],
      "execution_count": null,
      "outputs": [
        {
          "output_type": "display_data",
          "data": {
            "image/png": "[encoded data removed]",
            "text/plain": [
              "<Figure size 432x288 with 8 Axes>"
            ]
          },
          "metadata": {
            "tags": []
          }
        }
      ]
    },
    {
      "cell_type": "markdown",
      "metadata": {
        "id": "pX0iDwMOzSHD"
      },
      "source": [
        "- Energy"
      ]
    },
    {
      "cell_type": "code",
      "metadata": {
        "colab": {
          "base_uri": "https://localhost:8080/"
        },
        "id": "W1N0Lid5uqi_",
        "outputId": "26db4cf2-064f-4ef6-8431-0b31936d6b9d"
      },
      "source": [
        "un_en=df1.energy.value_counts()\n",
        "df1.energy.nunique()"
      ],
      "execution_count": null,
      "outputs": [
        {
          "output_type": "execute_result",
          "data": {
            "text/plain": [
              "242"
            ]
          },
          "metadata": {
            "tags": []
          },
          "execution_count": 29
        }
      ]
    },
    {
      "cell_type": "code",
      "metadata": {
        "colab": {
          "base_uri": "https://localhost:8080/",
          "height": 369
        },
        "id": "9wLSGtkVzVoS",
        "outputId": "981cfd2f-1036-4606-8369-6c1ee4f9cd3f"
      },
      "source": [
        "sns.displot(un_en,log_scale=True)\n",
        "plt.show()"
      ],
      "execution_count": null,
      "outputs": [
        {
          "output_type": "display_data",
          "data": {
            "image/png": "[encoded data removed]",
            "text/plain": [
              "<Figure size 360x360 with 1 Axes>"
            ]
          },
          "metadata": {
            "tags": []
          }
        }
      ]
    },
    {
      "cell_type": "markdown",
      "metadata": {
        "id": "kADdfIehZn76"
      },
      "source": [
        "- Energy v/s danger"
      ]
    },
    {
      "cell_type": "code",
      "metadata": {
        "colab": {
          "base_uri": "https://localhost:8080/",
          "height": 383
        },
        "id": "rhNNfHUaZL6t",
        "outputId": "580236d7-bff4-4a72-c144-511b3ae8823c"
      },
      "source": [
        "sns.relplot(data=df1,x='danger',y='energy',hue=\"energy\",style='danger')\n",
        "plt.show()"
      ],
      "execution_count": null,
      "outputs": [
        {
          "output_type": "display_data",
          "data": {
            "image/png": "[encoded data removed]",
            "text/plain": [
              "<Figure size 433.75x360 with 1 Axes>"
            ]
          },
          "metadata": {
            "tags": []
          }
        }
      ]
    },
    {
      "cell_type": "markdown",
      "metadata": {
        "id": "sgM4gIckamJR"
      },
      "source": [
        "- Maximum Energy\n",
        "- the maximum energy of the seismic bumps registered within previous shift;"
      ]
    },
    {
      "cell_type": "code",
      "metadata": {
        "colab": {
          "base_uri": "https://localhost:8080/"
        },
        "id": "GWgyZAXjZzyU",
        "outputId": "e632a5f3-d084-4173-ee89-ab447263242e"
      },
      "source": [
        "un_max_en=df1.maxenergy.value_counts()\n",
        "df1.maxenergy.nunique()"
      ],
      "execution_count": null,
      "outputs": [
        {
          "output_type": "execute_result",
          "data": {
            "text/plain": [
              "33"
            ]
          },
          "metadata": {
            "tags": []
          },
          "execution_count": 32
        }
      ]
    },
    {
      "cell_type": "code",
      "metadata": {
        "id": "1-x02DVzbYm9"
      },
      "source": [
        "Top_20=df1.maxenergy.sort_values(ascending=False)\n",
        "top_20=Top_20[:21]"
      ],
      "execution_count": null,
      "outputs": []
    },
    {
      "cell_type": "code",
      "metadata": {
        "id": "Zj-zD1dia5h1"
      },
      "source": [
        "#Top 20 high energy levels registered"
      ],
      "execution_count": null,
      "outputs": []
    },
    {
      "cell_type": "code",
      "metadata": {
        "colab": {
          "base_uri": "https://localhost:8080/",
          "height": 281
        },
        "id": "ZzaG0YeJbP6r",
        "outputId": "b4cf825e-e1f0-4259-92d1-3c525b9ac78e"
      },
      "source": [
        "top_20.plot(kind='bar',color='orange')\n",
        "plt.ylabel(\"Measurements\")\n",
        "plt.show()"
      ],
      "execution_count": null,
      "outputs": [
        {
          "output_type": "display_data",
          "data": {
            "image/png": "[encoded data removed]",
            "text/plain": [
              "<Figure size 432x288 with 1 Axes>"
            ]
          },
          "metadata": {
            "tags": []
          }
        }
      ]
    },
    {
      "cell_type": "code",
      "metadata": {
        "colab": {
          "base_uri": "https://localhost:8080/",
          "height": 279
        },
        "id": "EhbRF8UscIYe",
        "outputId": "53e1d323-7026-4795-fdfc-06417df56fbf"
      },
      "source": [
        "sns.kdeplot(un_max_en,color='red')\n",
        "plt.show()"
      ],
      "execution_count": null,
      "outputs": [
        {
          "output_type": "display_data",
          "data": {
            "image/png": "[encoded data removed]",
            "text/plain": [
              "<Figure size 432x288 with 1 Axes>"
            ]
          },
          "metadata": {
            "tags": []
          }
        }
      ]
    },
    {
      "cell_type": "code",
      "metadata": {
        "colab": {
          "base_uri": "https://localhost:8080/",
          "height": 283
        },
        "id": "MXQkj8oJc6gs",
        "outputId": "ea10f846-b86c-4a2b-d4b6-ea156d9e137f"
      },
      "source": [
        "sns.histplot(un_max_en,log_scale=True,color='green')\n",
        "plt.show()"
      ],
      "execution_count": null,
      "outputs": [
        {
          "output_type": "display_data",
          "data": {
            "image/png": "[encoded data removed]",
            "text/plain": [
              "<Figure size 432x288 with 1 Axes>"
            ]
          },
          "metadata": {
            "tags": []
          }
        }
      ]
    },
    {
      "cell_type": "markdown",
      "metadata": {
        "id": "JErAWnzcdhyI"
      },
      "source": [
        "- Distribution of Danger class"
      ]
    },
    {
      "cell_type": "code",
      "metadata": {
        "colab": {
          "base_uri": "https://localhost:8080/"
        },
        "id": "wD25Kzsgdd4H",
        "outputId": "37e4ba02-fd47-428a-ed99-65a6c8aad9a3"
      },
      "source": [
        "un_danger=df.danger.value_counts()\n",
        "print((170/2414)*100)"
      ],
      "execution_count": null,
      "outputs": [
        {
          "output_type": "stream",
          "text": [
            "7.042253521126761\n"
          ],
          "name": "stdout"
        }
      ]
    },
    {
      "cell_type": "code",
      "metadata": {
        "colab": {
          "base_uri": "https://localhost:8080/",
          "height": 411
        },
        "id": "NBQcUxteeg10",
        "outputId": "66ea3b39-49f0-4a0d-ac52-2929def77365"
      },
      "source": [
        "plt.figure(figsize=(7,7))\n",
        "my_lab=['Not dangerous','Dangerous']\n",
        "my_exp=[0.2,0.0]\n",
        "un_danger.plot(kind='pie',labels=my_lab,explode=my_exp,rotatelabels=True)\n",
        "plt.legend()\n",
        "plt.show()\n"
      ],
      "execution_count": null,
      "outputs": [
        {
          "output_type": "display_data",
          "data": {
            "image/png": "[encoded data removed]",
            "text/plain": [
              "<Figure size 504x504 with 1 Axes>"
            ]
          },
          "metadata": {
            "tags": []
          }
        }
      ]
    },
    {
      "cell_type": "markdown",
      "metadata": {
        "id": "1pXs14zThTgt"
      },
      "source": [
        "- Only 7 percent of the sitiuations seem to be dangerous"
      ]
    },
    {
      "cell_type": "markdown",
      "metadata": {
        "id": "j_TIpH7Ngtr4"
      },
      "source": [
        "## Model Building"
      ]
    },
    {
      "cell_type": "code",
      "metadata": {
        "colab": {
          "base_uri": "https://localhost:8080/",
          "height": 80
        },
        "id": "1RIjBKJ8gUWL",
        "outputId": "16b98427-e8d5-4c6a-ff6b-0f636e93dd1c"
      },
      "source": [
        "df1.head(1)"
      ],
      "execution_count": null,
      "outputs": [
        {
          "output_type": "execute_result",
          "data": {
            "text/html": [
              "<div>\n",
              "<style scoped>\n",
              "    .dataframe tbody tr th:only-of-type {\n",
              "        vertical-align: middle;\n",
              "    }\n",
              "\n",
              "    .dataframe tbody tr th {\n",
              "        vertical-align: top;\n",
              "    }\n",
              "\n",
              "    .dataframe thead th {\n",
              "        text-align: right;\n",
              "    }\n",
              "</style>\n",
              "<table border=\"1\" class=\"dataframe\">\n",
              "  <thead>\n",
              "    <tr style=\"text-align: right;\">\n",
              "      <th></th>\n",
              "      <th>seismic</th>\n",
              "      <th>seismoacoustic</th>\n",
              "      <th>shift</th>\n",
              "      <th>genergy</th>\n",
              "      <th>gplus</th>\n",
              "      <th>gdenergy</th>\n",
              "      <th>gdplus</th>\n",
              "      <th>ghazard</th>\n",
              "      <th>nbumps</th>\n",
              "      <th>nbumps2</th>\n",
              "      <th>nbumps3</th>\n",
              "      <th>nbumps4</th>\n",
              "      <th>nbumps5</th>\n",
              "      <th>nbumps6</th>\n",
              "      <th>nbumps7</th>\n",
              "      <th>nbumps89</th>\n",
              "      <th>energy</th>\n",
              "      <th>maxenergy</th>\n",
              "      <th>danger</th>\n",
              "    </tr>\n",
              "  </thead>\n",
              "  <tbody>\n",
              "    <tr>\n",
              "      <th>0</th>\n",
              "      <td>0</td>\n",
              "      <td>0</td>\n",
              "      <td>0</td>\n",
              "      <td>15180</td>\n",
              "      <td>48</td>\n",
              "      <td>-72</td>\n",
              "      <td>-72</td>\n",
              "      <td>0</td>\n",
              "      <td>0</td>\n",
              "      <td>0</td>\n",
              "      <td>0</td>\n",
              "      <td>0</td>\n",
              "      <td>0</td>\n",
              "      <td>0</td>\n",
              "      <td>0</td>\n",
              "      <td>0</td>\n",
              "      <td>0</td>\n",
              "      <td>0</td>\n",
              "      <td>0</td>\n",
              "    </tr>\n",
              "  </tbody>\n",
              "</table>\n",
              "</div>"
            ],
            "text/plain": [
              "   seismic  seismoacoustic  shift  genergy  ...  nbumps89  energy  maxenergy  danger\n",
              "0        0               0      0    15180  ...         0       0          0       0\n",
              "\n",
              "[1 rows x 19 columns]"
            ]
          },
          "metadata": {
            "tags": []
          },
          "execution_count": 40
        }
      ]
    },
    {
      "cell_type": "markdown",
      "metadata": {
        "id": "JOnonUdUiQOj"
      },
      "source": [
        "- define target and data values"
      ]
    },
    {
      "cell_type": "code",
      "metadata": {
        "colab": {
          "base_uri": "https://localhost:8080/"
        },
        "id": "9RDHFvfUhdTX",
        "outputId": "665549c3-18a7-4641-e61d-36edb0d30740"
      },
      "source": [
        "Y=df1['danger']\n",
        "X=df1.drop(columns=['danger'])\n",
        "print(X,Y)"
      ],
      "execution_count": null,
      "outputs": [
        {
          "output_type": "stream",
          "text": [
            "      seismic  seismoacoustic  shift  ...  nbumps89  energy  maxenergy\n",
            "0           0               0      0  ...         0       0          0\n",
            "1           0               0      0  ...         0    2000       2000\n",
            "2           0               0      0  ...         0       0          0\n",
            "3           0               0      0  ...         0    3000       3000\n",
            "4           0               0      0  ...         0       0          0\n",
            "...       ...             ...    ...  ...       ...     ...        ...\n",
            "2579        1               0      1  ...         0       0          0\n",
            "2580        1               0      1  ...         0       0          0\n",
            "2581        1               0      1  ...         0       0          0\n",
            "2582        0               0      1  ...         0       0          0\n",
            "2583        0               0      1  ...         0       0          0\n",
            "\n",
            "[2584 rows x 18 columns] 0       0\n",
            "1       0\n",
            "2       0\n",
            "3       0\n",
            "4       0\n",
            "       ..\n",
            "2579    0\n",
            "2580    0\n",
            "2581    0\n",
            "2582    0\n",
            "2583    0\n",
            "Name: danger, Length: 2584, dtype: int64\n"
          ],
          "name": "stdout"
        }
      ]
    },
    {
      "cell_type": "markdown",
      "metadata": {
        "id": "NQZP5YLlioYt"
      },
      "source": [
        "- Splitting into train and test data"
      ]
    },
    {
      "cell_type": "code",
      "metadata": {
        "id": "1ogWyQRPicPC"
      },
      "source": [
        "from sklearn.model_selection import train_test_split\n",
        "x_train,x_test,y_train,y_test=train_test_split(X,Y,test_size=0.3)"
      ],
      "execution_count": null,
      "outputs": []
    },
    {
      "cell_type": "code",
      "metadata": {
        "colab": {
          "base_uri": "https://localhost:8080/",
          "height": 419
        },
        "id": "ENRiAHu_jIVL",
        "outputId": "decfd966-508c-43ce-d3a5-24bc9873f2ac"
      },
      "source": [
        "x_train"
      ],
      "execution_count": null,
      "outputs": [
        {
          "output_type": "execute_result",
          "data": {
            "text/html": [
              "<div>\n",
              "<style scoped>\n",
              "    .dataframe tbody tr th:only-of-type {\n",
              "        vertical-align: middle;\n",
              "    }\n",
              "\n",
              "    .dataframe tbody tr th {\n",
              "        vertical-align: top;\n",
              "    }\n",
              "\n",
              "    .dataframe thead th {\n",
              "        text-align: right;\n",
              "    }\n",
              "</style>\n",
              "<table border=\"1\" class=\"dataframe\">\n",
              "  <thead>\n",
              "    <tr style=\"text-align: right;\">\n",
              "      <th></th>\n",
              "      <th>seismic</th>\n",
              "      <th>seismoacoustic</th>\n",
              "      <th>shift</th>\n",
              "      <th>genergy</th>\n",
              "      <th>gplus</th>\n",
              "      <th>gdenergy</th>\n",
              "      <th>gdplus</th>\n",
              "      <th>ghazard</th>\n",
              "      <th>nbumps</th>\n",
              "      <th>nbumps2</th>\n",
              "      <th>nbumps3</th>\n",
              "      <th>nbumps4</th>\n",
              "      <th>nbumps5</th>\n",
              "      <th>nbumps6</th>\n",
              "      <th>nbumps7</th>\n",
              "      <th>nbumps89</th>\n",
              "      <th>energy</th>\n",
              "      <th>maxenergy</th>\n",
              "    </tr>\n",
              "  </thead>\n",
              "  <tbody>\n",
              "    <tr>\n",
              "      <th>1938</th>\n",
              "      <td>0</td>\n",
              "      <td>0</td>\n",
              "      <td>0</td>\n",
              "      <td>2440</td>\n",
              "      <td>104</td>\n",
              "      <td>-71</td>\n",
              "      <td>-61</td>\n",
              "      <td>0</td>\n",
              "      <td>0</td>\n",
              "      <td>0</td>\n",
              "      <td>0</td>\n",
              "      <td>0</td>\n",
              "      <td>0</td>\n",
              "      <td>0</td>\n",
              "      <td>0</td>\n",
              "      <td>0</td>\n",
              "      <td>0</td>\n",
              "      <td>0</td>\n",
              "    </tr>\n",
              "    <tr>\n",
              "      <th>2101</th>\n",
              "      <td>0</td>\n",
              "      <td>0</td>\n",
              "      <td>0</td>\n",
              "      <td>7060</td>\n",
              "      <td>241</td>\n",
              "      <td>-44</td>\n",
              "      <td>-4</td>\n",
              "      <td>0</td>\n",
              "      <td>0</td>\n",
              "      <td>0</td>\n",
              "      <td>0</td>\n",
              "      <td>0</td>\n",
              "      <td>0</td>\n",
              "      <td>0</td>\n",
              "      <td>0</td>\n",
              "      <td>0</td>\n",
              "      <td>0</td>\n",
              "      <td>0</td>\n",
              "    </tr>\n",
              "    <tr>\n",
              "      <th>130</th>\n",
              "      <td>0</td>\n",
              "      <td>0</td>\n",
              "      <td>0</td>\n",
              "      <td>99160</td>\n",
              "      <td>514</td>\n",
              "      <td>-34</td>\n",
              "      <td>4</td>\n",
              "      <td>0</td>\n",
              "      <td>1</td>\n",
              "      <td>0</td>\n",
              "      <td>1</td>\n",
              "      <td>0</td>\n",
              "      <td>0</td>\n",
              "      <td>0</td>\n",
              "      <td>0</td>\n",
              "      <td>0</td>\n",
              "      <td>4000</td>\n",
              "      <td>4000</td>\n",
              "    </tr>\n",
              "    <tr>\n",
              "      <th>870</th>\n",
              "      <td>0</td>\n",
              "      <td>0</td>\n",
              "      <td>1</td>\n",
              "      <td>70740</td>\n",
              "      <td>154</td>\n",
              "      <td>-50</td>\n",
              "      <td>-36</td>\n",
              "      <td>0</td>\n",
              "      <td>0</td>\n",
              "      <td>0</td>\n",
              "      <td>0</td>\n",
              "      <td>0</td>\n",
              "      <td>0</td>\n",
              "      <td>0</td>\n",
              "      <td>0</td>\n",
              "      <td>0</td>\n",
              "      <td>0</td>\n",
              "      <td>0</td>\n",
              "    </tr>\n",
              "    <tr>\n",
              "      <th>2242</th>\n",
              "      <td>1</td>\n",
              "      <td>0</td>\n",
              "      <td>1</td>\n",
              "      <td>65350</td>\n",
              "      <td>1081</td>\n",
              "      <td>18</td>\n",
              "      <td>33</td>\n",
              "      <td>0</td>\n",
              "      <td>0</td>\n",
              "      <td>0</td>\n",
              "      <td>0</td>\n",
              "      <td>0</td>\n",
              "      <td>0</td>\n",
              "      <td>0</td>\n",
              "      <td>0</td>\n",
              "      <td>0</td>\n",
              "      <td>0</td>\n",
              "      <td>0</td>\n",
              "    </tr>\n",
              "    <tr>\n",
              "      <th>...</th>\n",
              "      <td>...</td>\n",
              "      <td>...</td>\n",
              "      <td>...</td>\n",
              "      <td>...</td>\n",
              "      <td>...</td>\n",
              "      <td>...</td>\n",
              "      <td>...</td>\n",
              "      <td>...</td>\n",
              "      <td>...</td>\n",
              "      <td>...</td>\n",
              "      <td>...</td>\n",
              "      <td>...</td>\n",
              "      <td>...</td>\n",
              "      <td>...</td>\n",
              "      <td>...</td>\n",
              "      <td>...</td>\n",
              "      <td>...</td>\n",
              "      <td>...</td>\n",
              "    </tr>\n",
              "    <tr>\n",
              "      <th>1549</th>\n",
              "      <td>1</td>\n",
              "      <td>1</td>\n",
              "      <td>1</td>\n",
              "      <td>90960</td>\n",
              "      <td>2039</td>\n",
              "      <td>308</td>\n",
              "      <td>243</td>\n",
              "      <td>1</td>\n",
              "      <td>2</td>\n",
              "      <td>0</td>\n",
              "      <td>1</td>\n",
              "      <td>1</td>\n",
              "      <td>0</td>\n",
              "      <td>0</td>\n",
              "      <td>0</td>\n",
              "      <td>0</td>\n",
              "      <td>32000</td>\n",
              "      <td>30000</td>\n",
              "    </tr>\n",
              "    <tr>\n",
              "      <th>2204</th>\n",
              "      <td>0</td>\n",
              "      <td>2</td>\n",
              "      <td>1</td>\n",
              "      <td>54500</td>\n",
              "      <td>757</td>\n",
              "      <td>35</td>\n",
              "      <td>19</td>\n",
              "      <td>2</td>\n",
              "      <td>0</td>\n",
              "      <td>0</td>\n",
              "      <td>0</td>\n",
              "      <td>0</td>\n",
              "      <td>0</td>\n",
              "      <td>0</td>\n",
              "      <td>0</td>\n",
              "      <td>0</td>\n",
              "      <td>0</td>\n",
              "      <td>0</td>\n",
              "    </tr>\n",
              "    <tr>\n",
              "      <th>1718</th>\n",
              "      <td>1</td>\n",
              "      <td>1</td>\n",
              "      <td>1</td>\n",
              "      <td>31030</td>\n",
              "      <td>534</td>\n",
              "      <td>-8</td>\n",
              "      <td>0</td>\n",
              "      <td>0</td>\n",
              "      <td>1</td>\n",
              "      <td>1</td>\n",
              "      <td>0</td>\n",
              "      <td>0</td>\n",
              "      <td>0</td>\n",
              "      <td>0</td>\n",
              "      <td>0</td>\n",
              "      <td>0</td>\n",
              "      <td>600</td>\n",
              "      <td>600</td>\n",
              "    </tr>\n",
              "    <tr>\n",
              "      <th>675</th>\n",
              "      <td>0</td>\n",
              "      <td>0</td>\n",
              "      <td>1</td>\n",
              "      <td>95020</td>\n",
              "      <td>859</td>\n",
              "      <td>-20</td>\n",
              "      <td>-25</td>\n",
              "      <td>0</td>\n",
              "      <td>1</td>\n",
              "      <td>1</td>\n",
              "      <td>0</td>\n",
              "      <td>0</td>\n",
              "      <td>0</td>\n",
              "      <td>0</td>\n",
              "      <td>0</td>\n",
              "      <td>0</td>\n",
              "      <td>600</td>\n",
              "      <td>600</td>\n",
              "    </tr>\n",
              "    <tr>\n",
              "      <th>1443</th>\n",
              "      <td>0</td>\n",
              "      <td>1</td>\n",
              "      <td>1</td>\n",
              "      <td>7680</td>\n",
              "      <td>253</td>\n",
              "      <td>-59</td>\n",
              "      <td>-60</td>\n",
              "      <td>0</td>\n",
              "      <td>0</td>\n",
              "      <td>0</td>\n",
              "      <td>0</td>\n",
              "      <td>0</td>\n",
              "      <td>0</td>\n",
              "      <td>0</td>\n",
              "      <td>0</td>\n",
              "      <td>0</td>\n",
              "      <td>0</td>\n",
              "      <td>0</td>\n",
              "    </tr>\n",
              "  </tbody>\n",
              "</table>\n",
              "<p>1808 rows × 18 columns</p>\n",
              "</div>"
            ],
            "text/plain": [
              "      seismic  seismoacoustic  shift  ...  nbumps89  energy  maxenergy\n",
              "1938        0               0      0  ...         0       0          0\n",
              "2101        0               0      0  ...         0       0          0\n",
              "130         0               0      0  ...         0    4000       4000\n",
              "870         0               0      1  ...         0       0          0\n",
              "2242        1               0      1  ...         0       0          0\n",
              "...       ...             ...    ...  ...       ...     ...        ...\n",
              "1549        1               1      1  ...         0   32000      30000\n",
              "2204        0               2      1  ...         0       0          0\n",
              "1718        1               1      1  ...         0     600        600\n",
              "675         0               0      1  ...         0     600        600\n",
              "1443        0               1      1  ...         0       0          0\n",
              "\n",
              "[1808 rows x 18 columns]"
            ]
          },
          "metadata": {
            "tags": []
          },
          "execution_count": 43
        }
      ]
    },
    {
      "cell_type": "code",
      "metadata": {
        "colab": {
          "base_uri": "https://localhost:8080/"
        },
        "id": "QwbX1kpPjKeu",
        "outputId": "d8908cd7-c0ae-4efd-8731-ca0eb248aa08"
      },
      "source": [
        "y_train"
      ],
      "execution_count": null,
      "outputs": [
        {
          "output_type": "execute_result",
          "data": {
            "text/plain": [
              "1938    0\n",
              "2101    0\n",
              "130     0\n",
              "870     0\n",
              "2242    0\n",
              "       ..\n",
              "1549    0\n",
              "2204    0\n",
              "1718    0\n",
              "675     0\n",
              "1443    0\n",
              "Name: danger, Length: 1808, dtype: int64"
            ]
          },
          "metadata": {
            "tags": []
          },
          "execution_count": 44
        }
      ]
    },
    {
      "cell_type": "code",
      "metadata": {
        "colab": {
          "base_uri": "https://localhost:8080/"
        },
        "id": "myu5GQZ_jSm1",
        "outputId": "11848ed5-3c6c-4208-bd78-dd65af6e3ce2"
      },
      "source": [
        "y_test"
      ],
      "execution_count": null,
      "outputs": [
        {
          "output_type": "execute_result",
          "data": {
            "text/plain": [
              "1918    0\n",
              "2446    0\n",
              "455     0\n",
              "1663    0\n",
              "68      0\n",
              "       ..\n",
              "2009    0\n",
              "1027    0\n",
              "1451    0\n",
              "1694    0\n",
              "302     0\n",
              "Name: danger, Length: 776, dtype: int64"
            ]
          },
          "metadata": {
            "tags": []
          },
          "execution_count": 45
        }
      ]
    },
    {
      "cell_type": "code",
      "metadata": {
        "colab": {
          "base_uri": "https://localhost:8080/",
          "height": 419
        },
        "id": "bzfAvxItjYQB",
        "outputId": "a6a3a168-e6fa-4d74-f2e5-3361b7bc583b"
      },
      "source": [
        "x_test"
      ],
      "execution_count": null,
      "outputs": [
        {
          "output_type": "execute_result",
          "data": {
            "text/html": [
              "<div>\n",
              "<style scoped>\n",
              "    .dataframe tbody tr th:only-of-type {\n",
              "        vertical-align: middle;\n",
              "    }\n",
              "\n",
              "    .dataframe tbody tr th {\n",
              "        vertical-align: top;\n",
              "    }\n",
              "\n",
              "    .dataframe thead th {\n",
              "        text-align: right;\n",
              "    }\n",
              "</style>\n",
              "<table border=\"1\" class=\"dataframe\">\n",
              "  <thead>\n",
              "    <tr style=\"text-align: right;\">\n",
              "      <th></th>\n",
              "      <th>seismic</th>\n",
              "      <th>seismoacoustic</th>\n",
              "      <th>shift</th>\n",
              "      <th>genergy</th>\n",
              "      <th>gplus</th>\n",
              "      <th>gdenergy</th>\n",
              "      <th>gdplus</th>\n",
              "      <th>ghazard</th>\n",
              "      <th>nbumps</th>\n",
              "      <th>nbumps2</th>\n",
              "      <th>nbumps3</th>\n",
              "      <th>nbumps4</th>\n",
              "      <th>nbumps5</th>\n",
              "      <th>nbumps6</th>\n",
              "      <th>nbumps7</th>\n",
              "      <th>nbumps89</th>\n",
              "      <th>energy</th>\n",
              "      <th>maxenergy</th>\n",
              "    </tr>\n",
              "  </thead>\n",
              "  <tbody>\n",
              "    <tr>\n",
              "      <th>1918</th>\n",
              "      <td>0</td>\n",
              "      <td>0</td>\n",
              "      <td>1</td>\n",
              "      <td>19580</td>\n",
              "      <td>439</td>\n",
              "      <td>-44</td>\n",
              "      <td>-24</td>\n",
              "      <td>0</td>\n",
              "      <td>0</td>\n",
              "      <td>0</td>\n",
              "      <td>0</td>\n",
              "      <td>0</td>\n",
              "      <td>0</td>\n",
              "      <td>0</td>\n",
              "      <td>0</td>\n",
              "      <td>0</td>\n",
              "      <td>0</td>\n",
              "      <td>0</td>\n",
              "    </tr>\n",
              "    <tr>\n",
              "      <th>2446</th>\n",
              "      <td>0</td>\n",
              "      <td>0</td>\n",
              "      <td>0</td>\n",
              "      <td>1330</td>\n",
              "      <td>54</td>\n",
              "      <td>-88</td>\n",
              "      <td>-76</td>\n",
              "      <td>0</td>\n",
              "      <td>0</td>\n",
              "      <td>0</td>\n",
              "      <td>0</td>\n",
              "      <td>0</td>\n",
              "      <td>0</td>\n",
              "      <td>0</td>\n",
              "      <td>0</td>\n",
              "      <td>0</td>\n",
              "      <td>0</td>\n",
              "      <td>0</td>\n",
              "    </tr>\n",
              "    <tr>\n",
              "      <th>455</th>\n",
              "      <td>0</td>\n",
              "      <td>0</td>\n",
              "      <td>1</td>\n",
              "      <td>66680</td>\n",
              "      <td>430</td>\n",
              "      <td>-17</td>\n",
              "      <td>9</td>\n",
              "      <td>0</td>\n",
              "      <td>2</td>\n",
              "      <td>1</td>\n",
              "      <td>1</td>\n",
              "      <td>0</td>\n",
              "      <td>0</td>\n",
              "      <td>0</td>\n",
              "      <td>0</td>\n",
              "      <td>0</td>\n",
              "      <td>5400</td>\n",
              "      <td>5000</td>\n",
              "    </tr>\n",
              "    <tr>\n",
              "      <th>1663</th>\n",
              "      <td>0</td>\n",
              "      <td>0</td>\n",
              "      <td>1</td>\n",
              "      <td>24650</td>\n",
              "      <td>332</td>\n",
              "      <td>-29</td>\n",
              "      <td>-41</td>\n",
              "      <td>0</td>\n",
              "      <td>0</td>\n",
              "      <td>0</td>\n",
              "      <td>0</td>\n",
              "      <td>0</td>\n",
              "      <td>0</td>\n",
              "      <td>0</td>\n",
              "      <td>0</td>\n",
              "      <td>0</td>\n",
              "      <td>0</td>\n",
              "      <td>0</td>\n",
              "    </tr>\n",
              "    <tr>\n",
              "      <th>68</th>\n",
              "      <td>0</td>\n",
              "      <td>0</td>\n",
              "      <td>0</td>\n",
              "      <td>40210</td>\n",
              "      <td>193</td>\n",
              "      <td>-71</td>\n",
              "      <td>-59</td>\n",
              "      <td>0</td>\n",
              "      <td>1</td>\n",
              "      <td>0</td>\n",
              "      <td>1</td>\n",
              "      <td>0</td>\n",
              "      <td>0</td>\n",
              "      <td>0</td>\n",
              "      <td>0</td>\n",
              "      <td>0</td>\n",
              "      <td>5000</td>\n",
              "      <td>5000</td>\n",
              "    </tr>\n",
              "    <tr>\n",
              "      <th>...</th>\n",
              "      <td>...</td>\n",
              "      <td>...</td>\n",
              "      <td>...</td>\n",
              "      <td>...</td>\n",
              "      <td>...</td>\n",
              "      <td>...</td>\n",
              "      <td>...</td>\n",
              "      <td>...</td>\n",
              "      <td>...</td>\n",
              "      <td>...</td>\n",
              "      <td>...</td>\n",
              "      <td>...</td>\n",
              "      <td>...</td>\n",
              "      <td>...</td>\n",
              "      <td>...</td>\n",
              "      <td>...</td>\n",
              "      <td>...</td>\n",
              "      <td>...</td>\n",
              "    </tr>\n",
              "    <tr>\n",
              "      <th>2009</th>\n",
              "      <td>1</td>\n",
              "      <td>1</td>\n",
              "      <td>1</td>\n",
              "      <td>24750</td>\n",
              "      <td>548</td>\n",
              "      <td>-8</td>\n",
              "      <td>21</td>\n",
              "      <td>0</td>\n",
              "      <td>0</td>\n",
              "      <td>0</td>\n",
              "      <td>0</td>\n",
              "      <td>0</td>\n",
              "      <td>0</td>\n",
              "      <td>0</td>\n",
              "      <td>0</td>\n",
              "      <td>0</td>\n",
              "      <td>0</td>\n",
              "      <td>0</td>\n",
              "    </tr>\n",
              "    <tr>\n",
              "      <th>1027</th>\n",
              "      <td>0</td>\n",
              "      <td>0</td>\n",
              "      <td>0</td>\n",
              "      <td>1150</td>\n",
              "      <td>6</td>\n",
              "      <td>-59</td>\n",
              "      <td>-85</td>\n",
              "      <td>0</td>\n",
              "      <td>0</td>\n",
              "      <td>0</td>\n",
              "      <td>0</td>\n",
              "      <td>0</td>\n",
              "      <td>0</td>\n",
              "      <td>0</td>\n",
              "      <td>0</td>\n",
              "      <td>0</td>\n",
              "      <td>0</td>\n",
              "      <td>0</td>\n",
              "    </tr>\n",
              "    <tr>\n",
              "      <th>1451</th>\n",
              "      <td>0</td>\n",
              "      <td>1</td>\n",
              "      <td>0</td>\n",
              "      <td>8820</td>\n",
              "      <td>280</td>\n",
              "      <td>-4</td>\n",
              "      <td>-10</td>\n",
              "      <td>0</td>\n",
              "      <td>0</td>\n",
              "      <td>0</td>\n",
              "      <td>0</td>\n",
              "      <td>0</td>\n",
              "      <td>0</td>\n",
              "      <td>0</td>\n",
              "      <td>0</td>\n",
              "      <td>0</td>\n",
              "      <td>0</td>\n",
              "      <td>0</td>\n",
              "    </tr>\n",
              "    <tr>\n",
              "      <th>1694</th>\n",
              "      <td>1</td>\n",
              "      <td>1</td>\n",
              "      <td>1</td>\n",
              "      <td>26990</td>\n",
              "      <td>769</td>\n",
              "      <td>-20</td>\n",
              "      <td>-24</td>\n",
              "      <td>0</td>\n",
              "      <td>0</td>\n",
              "      <td>0</td>\n",
              "      <td>0</td>\n",
              "      <td>0</td>\n",
              "      <td>0</td>\n",
              "      <td>0</td>\n",
              "      <td>0</td>\n",
              "      <td>0</td>\n",
              "      <td>0</td>\n",
              "      <td>0</td>\n",
              "    </tr>\n",
              "    <tr>\n",
              "      <th>302</th>\n",
              "      <td>1</td>\n",
              "      <td>0</td>\n",
              "      <td>1</td>\n",
              "      <td>645750</td>\n",
              "      <td>2035</td>\n",
              "      <td>7</td>\n",
              "      <td>6</td>\n",
              "      <td>0</td>\n",
              "      <td>4</td>\n",
              "      <td>1</td>\n",
              "      <td>1</td>\n",
              "      <td>2</td>\n",
              "      <td>0</td>\n",
              "      <td>0</td>\n",
              "      <td>0</td>\n",
              "      <td>0</td>\n",
              "      <td>63800</td>\n",
              "      <td>40000</td>\n",
              "    </tr>\n",
              "  </tbody>\n",
              "</table>\n",
              "<p>776 rows × 18 columns</p>\n",
              "</div>"
            ],
            "text/plain": [
              "      seismic  seismoacoustic  shift  ...  nbumps89  energy  maxenergy\n",
              "1918        0               0      1  ...         0       0          0\n",
              "2446        0               0      0  ...         0       0          0\n",
              "455         0               0      1  ...         0    5400       5000\n",
              "1663        0               0      1  ...         0       0          0\n",
              "68          0               0      0  ...         0    5000       5000\n",
              "...       ...             ...    ...  ...       ...     ...        ...\n",
              "2009        1               1      1  ...         0       0          0\n",
              "1027        0               0      0  ...         0       0          0\n",
              "1451        0               1      0  ...         0       0          0\n",
              "1694        1               1      1  ...         0       0          0\n",
              "302         1               0      1  ...         0   63800      40000\n",
              "\n",
              "[776 rows x 18 columns]"
            ]
          },
          "metadata": {
            "tags": []
          },
          "execution_count": 46
        }
      ]
    },
    {
      "cell_type": "markdown",
      "metadata": {
        "id": "MqsVoHDzk7R4"
      },
      "source": [
        "### Logistic Regression"
      ]
    },
    {
      "cell_type": "code",
      "metadata": {
        "id": "Cglek1f-jZxp"
      },
      "source": [
        "from sklearn.linear_model import LogisticRegression\n",
        "log_reg=LogisticRegression(max_iter=400,random_state=100,)"
      ],
      "execution_count": null,
      "outputs": []
    },
    {
      "cell_type": "markdown",
      "metadata": {
        "id": "j_7t8MDGlbd-"
      },
      "source": [
        "- Training the model"
      ]
    },
    {
      "cell_type": "code",
      "metadata": {
        "colab": {
          "base_uri": "https://localhost:8080/"
        },
        "id": "OOx5r2AhlLIS",
        "outputId": "7b1d7784-fe4b-46ea-8f9b-d26340eb6af3"
      },
      "source": [
        "log_reg.fit(x_train,y_train)"
      ],
      "execution_count": null,
      "outputs": [
        {
          "output_type": "execute_result",
          "data": {
            "text/plain": [
              "LogisticRegression(C=1.0, class_weight=None, dual=False, fit_intercept=True,\n",
              "                   intercept_scaling=1, l1_ratio=None, max_iter=400,\n",
              "                   multi_class='auto', n_jobs=None, penalty='l2',\n",
              "                   random_state=100, solver='lbfgs', tol=0.0001, verbose=0,\n",
              "                   warm_start=False)"
            ]
          },
          "metadata": {
            "tags": []
          },
          "execution_count": 48
        }
      ]
    },
    {
      "cell_type": "markdown",
      "metadata": {
        "id": "PMeroCSLn3k4"
      },
      "source": [
        "- accuracy of training"
      ]
    },
    {
      "cell_type": "code",
      "metadata": {
        "id": "ceSS1RzKlOge"
      },
      "source": [
        "from sklearn.metrics import accuracy_score,classification_report"
      ],
      "execution_count": null,
      "outputs": []
    },
    {
      "cell_type": "code",
      "metadata": {
        "colab": {
          "base_uri": "https://localhost:8080/"
        },
        "id": "Yjt4TNwclSX9",
        "outputId": "4e902473-2240-4227-c7ea-69828e5ae32f"
      },
      "source": [
        "print(accuracy_score(log_reg.predict(x_train),y_train)*100)"
      ],
      "execution_count": null,
      "outputs": [
        {
          "output_type": "stream",
          "text": [
            "91.26106194690266\n"
          ],
          "name": "stdout"
        }
      ]
    },
    {
      "cell_type": "code",
      "metadata": {
        "colab": {
          "base_uri": "https://localhost:8080/"
        },
        "id": "LqHxocJcnSzA",
        "outputId": "6654b630-73cd-41d6-aafe-84dccfa442cc"
      },
      "source": [
        "print(log_reg.predict(x_train))"
      ],
      "execution_count": null,
      "outputs": [
        {
          "output_type": "stream",
          "text": [
            "[0 0 0 ... 0 0 0]\n"
          ],
          "name": "stdout"
        }
      ]
    },
    {
      "cell_type": "markdown",
      "metadata": {
        "id": "As0XRtTrleK3"
      },
      "source": [
        "- Testing the model"
      ]
    },
    {
      "cell_type": "markdown",
      "metadata": {
        "id": "FsT3OAoTn7-R"
      },
      "source": [
        "- accuracy of testing"
      ]
    },
    {
      "cell_type": "code",
      "metadata": {
        "colab": {
          "base_uri": "https://localhost:8080/"
        },
        "id": "ERO-xMDgmITh",
        "outputId": "28035e96-5ac3-46a4-e2d5-9569c4fbb407"
      },
      "source": [
        "print(accuracy_score(log_reg.predict(x_test),y_test)*100)"
      ],
      "execution_count": null,
      "outputs": [
        {
          "output_type": "stream",
          "text": [
            "89.43298969072166\n"
          ],
          "name": "stdout"
        }
      ]
    },
    {
      "cell_type": "code",
      "metadata": {
        "colab": {
          "base_uri": "https://localhost:8080/",
          "height": 295
        },
        "id": "hgf30D2Fmh8r",
        "outputId": "4cc7acc4-9d87-45d5-f742-0d2586e6e454"
      },
      "source": [
        "print(classification_report(y_test,log_reg.predict(x_test)))\n",
        "pd.crosstab(y_test,log_reg.predict(x_test))"
      ],
      "execution_count": null,
      "outputs": [
        {
          "output_type": "stream",
          "text": [
            "              precision    recall  f1-score   support\n",
            "\n",
            "           0       0.92      0.97      0.94       715\n",
            "           1       0.11      0.05      0.07        61\n",
            "\n",
            "    accuracy                           0.89       776\n",
            "   macro avg       0.52      0.51      0.51       776\n",
            "weighted avg       0.86      0.89      0.88       776\n",
            "\n"
          ],
          "name": "stdout"
        },
        {
          "output_type": "execute_result",
          "data": {
            "text/html": [
              "<div>\n",
              "<style scoped>\n",
              "    .dataframe tbody tr th:only-of-type {\n",
              "        vertical-align: middle;\n",
              "    }\n",
              "\n",
              "    .dataframe tbody tr th {\n",
              "        vertical-align: top;\n",
              "    }\n",
              "\n",
              "    .dataframe thead th {\n",
              "        text-align: right;\n",
              "    }\n",
              "</style>\n",
              "<table border=\"1\" class=\"dataframe\">\n",
              "  <thead>\n",
              "    <tr style=\"text-align: right;\">\n",
              "      <th>col_0</th>\n",
              "      <th>0</th>\n",
              "      <th>1</th>\n",
              "    </tr>\n",
              "    <tr>\n",
              "      <th>danger</th>\n",
              "      <th></th>\n",
              "      <th></th>\n",
              "    </tr>\n",
              "  </thead>\n",
              "  <tbody>\n",
              "    <tr>\n",
              "      <th>0</th>\n",
              "      <td>691</td>\n",
              "      <td>24</td>\n",
              "    </tr>\n",
              "    <tr>\n",
              "      <th>1</th>\n",
              "      <td>58</td>\n",
              "      <td>3</td>\n",
              "    </tr>\n",
              "  </tbody>\n",
              "</table>\n",
              "</div>"
            ],
            "text/plain": [
              "col_0     0   1\n",
              "danger         \n",
              "0       691  24\n",
              "1        58   3"
            ]
          },
          "metadata": {
            "tags": []
          },
          "execution_count": 53
        }
      ]
    },
    {
      "cell_type": "code",
      "metadata": {
        "id": "0dsoq4HgoJBJ"
      },
      "source": [
        "pd.DataFrame(log_reg.predict(x_test)).to_csv(\"LogisticReg_predictions.csv\")"
      ],
      "execution_count": null,
      "outputs": []
    },
    {
      "cell_type": "markdown",
      "metadata": {
        "id": "Oubu44TofU6I"
      },
      "source": [
        "### Trying dimensionality reduction"
      ]
    },
    {
      "cell_type": "code",
      "metadata": {
        "id": "im96IfCtxc1r"
      },
      "source": [
        "import numpy as np\n"
      ],
      "execution_count": null,
      "outputs": []
    },
    {
      "cell_type": "code",
      "metadata": {
        "id": "bJ3ZjwSvhKFa"
      },
      "source": [
        "x=np.array(X)\n",
        "y=np.array(Y)"
      ],
      "execution_count": null,
      "outputs": []
    },
    {
      "cell_type": "code",
      "metadata": {
        "id": "ejYDRPDJqcvz"
      },
      "source": [
        "#PCA\n",
        "from sklearn.decomposition import PCA\n",
        "pca=PCA(n_components=2)"
      ],
      "execution_count": null,
      "outputs": []
    },
    {
      "cell_type": "code",
      "metadata": {
        "id": "gfRn1LuVhR9h"
      },
      "source": [
        "import numpy as np"
      ],
      "execution_count": null,
      "outputs": []
    },
    {
      "cell_type": "code",
      "metadata": {
        "id": "U4jc2yDggHG1"
      },
      "source": [
        "data_pca=pca.fit_transform(x)"
      ],
      "execution_count": null,
      "outputs": []
    },
    {
      "cell_type": "code",
      "metadata": {
        "colab": {
          "base_uri": "https://localhost:8080/"
        },
        "id": "mF8RjI5shawY",
        "outputId": "eadea0f0-70bb-48c0-ab5c-c3603b2d1573"
      },
      "source": [
        "print(x.shape,y.shape)"
      ],
      "execution_count": null,
      "outputs": [
        {
          "output_type": "stream",
          "text": [
            "(2584, 18) (2584,)\n"
          ],
          "name": "stdout"
        }
      ]
    },
    {
      "cell_type": "code",
      "metadata": {
        "id": "tEi228-1ghXd"
      },
      "source": [
        "x_tr_pca,x_te_pca,y_tr_pca,y_te_pca=train_test_split(data_pca,y,test_size=0.3)\n",
        "lr_pca=LogisticRegression()"
      ],
      "execution_count": null,
      "outputs": []
    },
    {
      "cell_type": "code",
      "metadata": {
        "colab": {
          "base_uri": "https://localhost:8080/"
        },
        "id": "OqMWlluYg2aJ",
        "outputId": "0c201f6e-2ef6-4bf7-c576-5aec86afca22"
      },
      "source": [
        "lr_pca.fit(x_tr_pca,y_tr_pca)"
      ],
      "execution_count": null,
      "outputs": [
        {
          "output_type": "execute_result",
          "data": {
            "text/plain": [
              "LogisticRegression(C=1.0, class_weight=None, dual=False, fit_intercept=True,\n",
              "                   intercept_scaling=1, l1_ratio=None, max_iter=100,\n",
              "                   multi_class='auto', n_jobs=None, penalty='l2',\n",
              "                   random_state=None, solver='lbfgs', tol=0.0001, verbose=0,\n",
              "                   warm_start=False)"
            ]
          },
          "metadata": {
            "tags": []
          },
          "execution_count": 63
        }
      ]
    },
    {
      "cell_type": "code",
      "metadata": {
        "id": "VNLlGAJTg7_C"
      },
      "source": [
        "tr_pca_pred=lr_pca.predict(x_tr_pca)\n",
        "te_pca_pred=lr_pca.predict(x_te_pca)"
      ],
      "execution_count": null,
      "outputs": []
    },
    {
      "cell_type": "code",
      "metadata": {
        "colab": {
          "base_uri": "https://localhost:8080/"
        },
        "id": "-H-Hmv4QiewV",
        "outputId": "1c81198d-a5cd-4839-984a-a6e7e7798bb1"
      },
      "source": [
        "print(\"Training:\",accuracy_score(tr_pca_pred,y_tr_pca)*100)\n",
        "print(\"Testing:\",accuracy_score(te_pca_pred,y_te_pca)*100)"
      ],
      "execution_count": null,
      "outputs": [
        {
          "output_type": "stream",
          "text": [
            "Training: 82.52212389380531\n",
            "Testing: 81.31443298969072\n"
          ],
          "name": "stdout"
        }
      ]
    },
    {
      "cell_type": "code",
      "metadata": {
        "id": "BTHpbWfWiesn"
      },
      "source": [
        "#LDA\n",
        "from sklearn.discriminant_analysis import LinearDiscriminantAnalysis\n",
        "lda=LinearDiscriminantAnalysis()"
      ],
      "execution_count": null,
      "outputs": []
    },
    {
      "cell_type": "code",
      "metadata": {
        "id": "BqEQamPAieoy"
      },
      "source": [
        "data_lda=lda.fit_transform(x,y)"
      ],
      "execution_count": null,
      "outputs": []
    },
    {
      "cell_type": "code",
      "metadata": {
        "colab": {
          "base_uri": "https://localhost:8080/"
        },
        "id": "-96BQ029j1mE",
        "outputId": "bd07d118-0750-4818-ed11-0387836bf878"
      },
      "source": [
        "x.shape"
      ],
      "execution_count": null,
      "outputs": [
        {
          "output_type": "execute_result",
          "data": {
            "text/plain": [
              "(2584, 18)"
            ]
          },
          "metadata": {
            "tags": []
          },
          "execution_count": 68
        }
      ]
    },
    {
      "cell_type": "code",
      "metadata": {
        "id": "onoW6brzj1ib"
      },
      "source": [
        "x_tr_lda,x_te_lda,y_tr_lda,y_te_lda=train_test_split(data_lda,y,test_size=0.3)\n",
        "lr_lda=LogisticRegression()"
      ],
      "execution_count": null,
      "outputs": []
    },
    {
      "cell_type": "code",
      "metadata": {
        "colab": {
          "base_uri": "https://localhost:8080/"
        },
        "id": "oik7RZfOkfy9",
        "outputId": "df249104-2b55-464b-e354-db1fd3bd009f"
      },
      "source": [
        "lr_lda.fit(x_tr_lda,y_tr_lda)"
      ],
      "execution_count": null,
      "outputs": [
        {
          "output_type": "execute_result",
          "data": {
            "text/plain": [
              "LogisticRegression(C=1.0, class_weight=None, dual=False, fit_intercept=True,\n",
              "                   intercept_scaling=1, l1_ratio=None, max_iter=100,\n",
              "                   multi_class='auto', n_jobs=None, penalty='l2',\n",
              "                   random_state=None, solver='lbfgs', tol=0.0001, verbose=0,\n",
              "                   warm_start=False)"
            ]
          },
          "metadata": {
            "tags": []
          },
          "execution_count": 70
        }
      ]
    },
    {
      "cell_type": "code",
      "metadata": {
        "colab": {
          "base_uri": "https://localhost:8080/"
        },
        "id": "0DSqhtlpkfrd",
        "outputId": "47e59ef4-0104-4431-cbeb-a26dc865a648"
      },
      "source": [
        "tr_lda_pred=lr_lda.predict(x_tr_lda)\n",
        "te_lda_pred=lr_lda.predict(x_te_lda)\n",
        "\n",
        "print(\"Training:\",accuracy_score(tr_lda_pred,y_tr_lda)*100)\n",
        "print(\"Testing:\",accuracy_score(te_lda_pred,y_te_lda)*100)"
      ],
      "execution_count": null,
      "outputs": [
        {
          "output_type": "stream",
          "text": [
            "Training: 92.86504424778761\n",
            "Testing: 93.94329896907216\n"
          ],
          "name": "stdout"
        }
      ]
    },
    {
      "cell_type": "code",
      "metadata": {
        "colab": {
          "base_uri": "https://localhost:8080/"
        },
        "id": "d4kn-a2AmvXt",
        "outputId": "68ffc793-2dae-40f1-d197-5a9923083862"
      },
      "source": [
        "print(classification_report(y_te_lda,lr_lda.predict(x_te_lda)))"
      ],
      "execution_count": null,
      "outputs": [
        {
          "output_type": "stream",
          "text": [
            "              precision    recall  f1-score   support\n",
            "\n",
            "           0       0.94      1.00      0.97       729\n",
            "           1       0.50      0.02      0.04        47\n",
            "\n",
            "    accuracy                           0.94       776\n",
            "   macro avg       0.72      0.51      0.50       776\n",
            "weighted avg       0.91      0.94      0.91       776\n",
            "\n"
          ],
          "name": "stdout"
        }
      ]
    },
    {
      "cell_type": "code",
      "metadata": {
        "colab": {
          "base_uri": "https://localhost:8080/",
          "height": 142
        },
        "id": "n5Txz5YMmfR3",
        "outputId": "70eff049-d1da-450d-c719-b0a834971389"
      },
      "source": [
        "pd.crosstab(y_te_lda,lr_lda.predict(x_te_lda))"
      ],
      "execution_count": null,
      "outputs": [
        {
          "output_type": "execute_result",
          "data": {
            "text/html": [
              "<div>\n",
              "<style scoped>\n",
              "    .dataframe tbody tr th:only-of-type {\n",
              "        vertical-align: middle;\n",
              "    }\n",
              "\n",
              "    .dataframe tbody tr th {\n",
              "        vertical-align: top;\n",
              "    }\n",
              "\n",
              "    .dataframe thead th {\n",
              "        text-align: right;\n",
              "    }\n",
              "</style>\n",
              "<table border=\"1\" class=\"dataframe\">\n",
              "  <thead>\n",
              "    <tr style=\"text-align: right;\">\n",
              "      <th>col_0</th>\n",
              "      <th>0</th>\n",
              "      <th>1</th>\n",
              "    </tr>\n",
              "    <tr>\n",
              "      <th>row_0</th>\n",
              "      <th></th>\n",
              "      <th></th>\n",
              "    </tr>\n",
              "  </thead>\n",
              "  <tbody>\n",
              "    <tr>\n",
              "      <th>0</th>\n",
              "      <td>728</td>\n",
              "      <td>1</td>\n",
              "    </tr>\n",
              "    <tr>\n",
              "      <th>1</th>\n",
              "      <td>46</td>\n",
              "      <td>1</td>\n",
              "    </tr>\n",
              "  </tbody>\n",
              "</table>\n",
              "</div>"
            ],
            "text/plain": [
              "col_0    0  1\n",
              "row_0        \n",
              "0      728  1\n",
              "1       46  1"
            ]
          },
          "metadata": {
            "tags": []
          },
          "execution_count": 73
        }
      ]
    },
    {
      "cell_type": "code",
      "metadata": {
        "id": "qERYrVmmoc6n"
      },
      "source": [
        "pd.DataFrame(lr_lda.predict(x_te_lda)).to_csv(\"lr_lda_pred.csv\")"
      ],
      "execution_count": null,
      "outputs": []
    },
    {
      "cell_type": "markdown",
      "metadata": {
        "id": "otdGdxBjoDLJ"
      },
      "source": [
        "### Naive Bayes Classifier"
      ]
    },
    {
      "cell_type": "code",
      "metadata": {
        "id": "QSxzv6ounPZQ"
      },
      "source": [
        "from sklearn.naive_bayes import GaussianNB\n",
        "nvb=GaussianNB()"
      ],
      "execution_count": null,
      "outputs": []
    },
    {
      "cell_type": "markdown",
      "metadata": {
        "id": "ECC8tcENWaE8"
      },
      "source": [
        "- Training"
      ]
    },
    {
      "cell_type": "code",
      "metadata": {
        "colab": {
          "base_uri": "https://localhost:8080/"
        },
        "id": "1a3I7kdVoTqc",
        "outputId": "97cd17fe-8df7-4f12-b11d-689b63604a4c"
      },
      "source": [
        "nvb.fit(x_train,y_train)"
      ],
      "execution_count": null,
      "outputs": [
        {
          "output_type": "execute_result",
          "data": {
            "text/plain": [
              "GaussianNB(priors=None, var_smoothing=1e-09)"
            ]
          },
          "metadata": {
            "tags": []
          },
          "execution_count": 76
        }
      ]
    },
    {
      "cell_type": "code",
      "metadata": {
        "colab": {
          "base_uri": "https://localhost:8080/"
        },
        "id": "8lFDI2giWM6J",
        "outputId": "82ee5cc8-ef29-49a1-cf84-4564ac23de3d"
      },
      "source": [
        "print(accuracy_score(nvb.predict(x_train),y_train)*100)"
      ],
      "execution_count": null,
      "outputs": [
        {
          "output_type": "stream",
          "text": [
            "90.87389380530973\n"
          ],
          "name": "stdout"
        }
      ]
    },
    {
      "cell_type": "markdown",
      "metadata": {
        "id": "dykqN8iHWcg1"
      },
      "source": [
        "-Test"
      ]
    },
    {
      "cell_type": "code",
      "metadata": {
        "colab": {
          "base_uri": "https://localhost:8080/"
        },
        "id": "kVYK_wfKWgCk",
        "outputId": "47044482-8c06-4ec5-c3cd-37adc6231801"
      },
      "source": [
        "print(accuracy_score(nvb.predict(x_test),y_test)*100)"
      ],
      "execution_count": null,
      "outputs": [
        {
          "output_type": "stream",
          "text": [
            "89.43298969072166\n"
          ],
          "name": "stdout"
        }
      ]
    },
    {
      "cell_type": "code",
      "metadata": {
        "colab": {
          "base_uri": "https://localhost:8080/",
          "height": 295
        },
        "id": "y-cOaOuhW_it",
        "outputId": "062d3664-82d2-44b3-f694-8fe884c9df8f"
      },
      "source": [
        "print(classification_report(y_test,nvb.predict(x_test)))\n",
        "pd.crosstab(y_test,nvb.predict(x_test))"
      ],
      "execution_count": null,
      "outputs": [
        {
          "output_type": "stream",
          "text": [
            "              precision    recall  f1-score   support\n",
            "\n",
            "           0       0.93      0.96      0.94       715\n",
            "           1       0.24      0.16      0.20        61\n",
            "\n",
            "    accuracy                           0.89       776\n",
            "   macro avg       0.59      0.56      0.57       776\n",
            "weighted avg       0.88      0.89      0.88       776\n",
            "\n"
          ],
          "name": "stdout"
        },
        {
          "output_type": "execute_result",
          "data": {
            "text/html": [
              "<div>\n",
              "<style scoped>\n",
              "    .dataframe tbody tr th:only-of-type {\n",
              "        vertical-align: middle;\n",
              "    }\n",
              "\n",
              "    .dataframe tbody tr th {\n",
              "        vertical-align: top;\n",
              "    }\n",
              "\n",
              "    .dataframe thead th {\n",
              "        text-align: right;\n",
              "    }\n",
              "</style>\n",
              "<table border=\"1\" class=\"dataframe\">\n",
              "  <thead>\n",
              "    <tr style=\"text-align: right;\">\n",
              "      <th>col_0</th>\n",
              "      <th>0</th>\n",
              "      <th>1</th>\n",
              "    </tr>\n",
              "    <tr>\n",
              "      <th>danger</th>\n",
              "      <th></th>\n",
              "      <th></th>\n",
              "    </tr>\n",
              "  </thead>\n",
              "  <tbody>\n",
              "    <tr>\n",
              "      <th>0</th>\n",
              "      <td>684</td>\n",
              "      <td>31</td>\n",
              "    </tr>\n",
              "    <tr>\n",
              "      <th>1</th>\n",
              "      <td>51</td>\n",
              "      <td>10</td>\n",
              "    </tr>\n",
              "  </tbody>\n",
              "</table>\n",
              "</div>"
            ],
            "text/plain": [
              "col_0     0   1\n",
              "danger         \n",
              "0       684  31\n",
              "1        51  10"
            ]
          },
          "metadata": {
            "tags": []
          },
          "execution_count": 79
        }
      ]
    },
    {
      "cell_type": "code",
      "metadata": {
        "id": "aDvYa2hPopVI"
      },
      "source": [
        "pd.DataFrame(nvb.predict(x_test)).to_csv(\"Naive_bayes_pred.csv\")"
      ],
      "execution_count": null,
      "outputs": []
    },
    {
      "cell_type": "markdown",
      "metadata": {
        "id": "Rjrb2vwVcvhw"
      },
      "source": [
        "### KNN"
      ]
    },
    {
      "cell_type": "code",
      "metadata": {
        "id": "hbTIouFPcmzF"
      },
      "source": [
        "from sklearn.neighbors import KNeighborsClassifier\n",
        "knn=KNeighborsClassifier()"
      ],
      "execution_count": null,
      "outputs": []
    },
    {
      "cell_type": "markdown",
      "metadata": {
        "id": "jpiBmx9OdUnQ"
      },
      "source": [
        "- Train"
      ]
    },
    {
      "cell_type": "code",
      "metadata": {
        "colab": {
          "base_uri": "https://localhost:8080/"
        },
        "id": "wp9w9QGxdEzL",
        "outputId": "0e841d7d-476d-4f1a-ed81-9069ce91c299"
      },
      "source": [
        "knn.fit(x_train,y_train)"
      ],
      "execution_count": null,
      "outputs": [
        {
          "output_type": "execute_result",
          "data": {
            "text/plain": [
              "KNeighborsClassifier(algorithm='auto', leaf_size=30, metric='minkowski',\n",
              "                     metric_params=None, n_jobs=None, n_neighbors=5, p=2,\n",
              "                     weights='uniform')"
            ]
          },
          "metadata": {
            "tags": []
          },
          "execution_count": 82
        }
      ]
    },
    {
      "cell_type": "code",
      "metadata": {
        "colab": {
          "base_uri": "https://localhost:8080/"
        },
        "id": "MiFAq1Q2dHsi",
        "outputId": "b2ea929f-9b0f-4b0f-e9e4-f8a106cf4538"
      },
      "source": [
        "print(accuracy_score(knn.predict(x_train),y_train)*100)"
      ],
      "execution_count": null,
      "outputs": [
        {
          "output_type": "stream",
          "text": [
            "94.24778761061947\n"
          ],
          "name": "stdout"
        }
      ]
    },
    {
      "cell_type": "markdown",
      "metadata": {
        "id": "ghmIUDxYdWmq"
      },
      "source": [
        "- Test"
      ]
    },
    {
      "cell_type": "code",
      "metadata": {
        "colab": {
          "base_uri": "https://localhost:8080/"
        },
        "id": "zK9_ioxUdhDz",
        "outputId": "ed788024-3552-426b-d9c4-76cb3a2aa46f"
      },
      "source": [
        "print(accuracy_score(knn.predict(x_test),y_test)*100)"
      ],
      "execution_count": null,
      "outputs": [
        {
          "output_type": "stream",
          "text": [
            "91.3659793814433\n"
          ],
          "name": "stdout"
        }
      ]
    },
    {
      "cell_type": "code",
      "metadata": {
        "colab": {
          "base_uri": "https://localhost:8080/",
          "height": 295
        },
        "id": "TpMYwVaLdnL8",
        "outputId": "7afe6861-3c90-44fe-ada2-17ca8e472948"
      },
      "source": [
        "print(classification_report(y_test,knn.predict(x_test)))\n",
        "pd.crosstab(y_test,knn.predict(x_test))"
      ],
      "execution_count": null,
      "outputs": [
        {
          "output_type": "stream",
          "text": [
            "              precision    recall  f1-score   support\n",
            "\n",
            "           0       0.92      0.99      0.95       715\n",
            "           1       0.00      0.00      0.00        61\n",
            "\n",
            "    accuracy                           0.91       776\n",
            "   macro avg       0.46      0.50      0.48       776\n",
            "weighted avg       0.85      0.91      0.88       776\n",
            "\n"
          ],
          "name": "stdout"
        },
        {
          "output_type": "execute_result",
          "data": {
            "text/html": [
              "<div>\n",
              "<style scoped>\n",
              "    .dataframe tbody tr th:only-of-type {\n",
              "        vertical-align: middle;\n",
              "    }\n",
              "\n",
              "    .dataframe tbody tr th {\n",
              "        vertical-align: top;\n",
              "    }\n",
              "\n",
              "    .dataframe thead th {\n",
              "        text-align: right;\n",
              "    }\n",
              "</style>\n",
              "<table border=\"1\" class=\"dataframe\">\n",
              "  <thead>\n",
              "    <tr style=\"text-align: right;\">\n",
              "      <th>col_0</th>\n",
              "      <th>0</th>\n",
              "      <th>1</th>\n",
              "    </tr>\n",
              "    <tr>\n",
              "      <th>danger</th>\n",
              "      <th></th>\n",
              "      <th></th>\n",
              "    </tr>\n",
              "  </thead>\n",
              "  <tbody>\n",
              "    <tr>\n",
              "      <th>0</th>\n",
              "      <td>709</td>\n",
              "      <td>6</td>\n",
              "    </tr>\n",
              "    <tr>\n",
              "      <th>1</th>\n",
              "      <td>61</td>\n",
              "      <td>0</td>\n",
              "    </tr>\n",
              "  </tbody>\n",
              "</table>\n",
              "</div>"
            ],
            "text/plain": [
              "col_0     0  1\n",
              "danger        \n",
              "0       709  6\n",
              "1        61  0"
            ]
          },
          "metadata": {
            "tags": []
          },
          "execution_count": 85
        }
      ]
    },
    {
      "cell_type": "code",
      "metadata": {
        "id": "i99ENHMNpD6e"
      },
      "source": [
        "pd.DataFrame(knn.predict(x_test)).to_csv(\"KNN_pred.csv\")"
      ],
      "execution_count": null,
      "outputs": []
    },
    {
      "cell_type": "markdown",
      "metadata": {
        "id": "wSZP1Bj7d0_O"
      },
      "source": [
        "### Random Forest"
      ]
    },
    {
      "cell_type": "code",
      "metadata": {
        "id": "8Id9AU3DdqNd"
      },
      "source": [
        "from sklearn.ensemble import RandomForestClassifier\n",
        "rf=RandomForestClassifier(n_estimators=100,random_state=50)"
      ],
      "execution_count": null,
      "outputs": []
    },
    {
      "cell_type": "markdown",
      "metadata": {
        "id": "k9EHRRbmeZpR"
      },
      "source": [
        "- Train"
      ]
    },
    {
      "cell_type": "code",
      "metadata": {
        "colab": {
          "base_uri": "https://localhost:8080/"
        },
        "id": "9cs2_eCmeDf5",
        "outputId": "2463517a-29e3-4789-c223-eac8b34405cd"
      },
      "source": [
        "rf.fit(x_train,y_train)"
      ],
      "execution_count": null,
      "outputs": [
        {
          "output_type": "execute_result",
          "data": {
            "text/plain": [
              "RandomForestClassifier(bootstrap=True, ccp_alpha=0.0, class_weight=None,\n",
              "                       criterion='gini', max_depth=None, max_features='auto',\n",
              "                       max_leaf_nodes=None, max_samples=None,\n",
              "                       min_impurity_decrease=0.0, min_impurity_split=None,\n",
              "                       min_samples_leaf=1, min_samples_split=2,\n",
              "                       min_weight_fraction_leaf=0.0, n_estimators=100,\n",
              "                       n_jobs=None, oob_score=False, random_state=50, verbose=0,\n",
              "                       warm_start=False)"
            ]
          },
          "metadata": {
            "tags": []
          },
          "execution_count": 88
        }
      ]
    },
    {
      "cell_type": "code",
      "metadata": {
        "colab": {
          "base_uri": "https://localhost:8080/"
        },
        "id": "w4R5blY0eYe7",
        "outputId": "f00fa1c9-76da-4f95-9372-d908c256eb6c"
      },
      "source": [
        "print(accuracy_score(rf.predict(x_train),y_train)*100)"
      ],
      "execution_count": null,
      "outputs": [
        {
          "output_type": "stream",
          "text": [
            "100.0\n"
          ],
          "name": "stdout"
        }
      ]
    },
    {
      "cell_type": "markdown",
      "metadata": {
        "id": "pGyPlOy8elIv"
      },
      "source": [
        "- Test"
      ]
    },
    {
      "cell_type": "code",
      "metadata": {
        "colab": {
          "base_uri": "https://localhost:8080/"
        },
        "id": "WG60G75Leor4",
        "outputId": "c654a8de-90d9-472d-a46e-d7eb133d0fca"
      },
      "source": [
        "print(accuracy_score(rf.predict(x_test),y_test)*100)"
      ],
      "execution_count": null,
      "outputs": [
        {
          "output_type": "stream",
          "text": [
            "91.88144329896907\n"
          ],
          "name": "stdout"
        }
      ]
    },
    {
      "cell_type": "code",
      "metadata": {
        "colab": {
          "base_uri": "https://localhost:8080/",
          "height": 295
        },
        "id": "lThWeffyeuzp",
        "outputId": "c25e81a7-9092-47df-cfc1-8f0de76d58f9"
      },
      "source": [
        "print(classification_report(y_test,rf.predict(x_test)))\n",
        "pd.crosstab(y_test,rf.predict(x_test))"
      ],
      "execution_count": null,
      "outputs": [
        {
          "output_type": "stream",
          "text": [
            "              precision    recall  f1-score   support\n",
            "\n",
            "           0       0.92      1.00      0.96       715\n",
            "           1       0.00      0.00      0.00        61\n",
            "\n",
            "    accuracy                           0.92       776\n",
            "   macro avg       0.46      0.50      0.48       776\n",
            "weighted avg       0.85      0.92      0.88       776\n",
            "\n"
          ],
          "name": "stdout"
        },
        {
          "output_type": "execute_result",
          "data": {
            "text/html": [
              "<div>\n",
              "<style scoped>\n",
              "    .dataframe tbody tr th:only-of-type {\n",
              "        vertical-align: middle;\n",
              "    }\n",
              "\n",
              "    .dataframe tbody tr th {\n",
              "        vertical-align: top;\n",
              "    }\n",
              "\n",
              "    .dataframe thead th {\n",
              "        text-align: right;\n",
              "    }\n",
              "</style>\n",
              "<table border=\"1\" class=\"dataframe\">\n",
              "  <thead>\n",
              "    <tr style=\"text-align: right;\">\n",
              "      <th>col_0</th>\n",
              "      <th>0</th>\n",
              "      <th>1</th>\n",
              "    </tr>\n",
              "    <tr>\n",
              "      <th>danger</th>\n",
              "      <th></th>\n",
              "      <th></th>\n",
              "    </tr>\n",
              "  </thead>\n",
              "  <tbody>\n",
              "    <tr>\n",
              "      <th>0</th>\n",
              "      <td>713</td>\n",
              "      <td>2</td>\n",
              "    </tr>\n",
              "    <tr>\n",
              "      <th>1</th>\n",
              "      <td>61</td>\n",
              "      <td>0</td>\n",
              "    </tr>\n",
              "  </tbody>\n",
              "</table>\n",
              "</div>"
            ],
            "text/plain": [
              "col_0     0  1\n",
              "danger        \n",
              "0       713  2\n",
              "1        61  0"
            ]
          },
          "metadata": {
            "tags": []
          },
          "execution_count": 91
        }
      ]
    },
    {
      "cell_type": "code",
      "metadata": {
        "id": "R8pycTYBpS42"
      },
      "source": [
        "pd.DataFrame(rf.predict(x_test)).to_csv(\"Random_forest_pred.csv\")"
      ],
      "execution_count": null,
      "outputs": []
    },
    {
      "cell_type": "code",
      "metadata": {
        "id": "NJ2R0X1qnb7x"
      },
      "source": [
        "X=pd.DataFrame(X)\n",
        "Y=pd.DataFrame(Y)"
      ],
      "execution_count": null,
      "outputs": []
    },
    {
      "cell_type": "code",
      "metadata": {
        "colab": {
          "base_uri": "https://localhost:8080/",
          "height": 556
        },
        "id": "kiD_6-HArZQf",
        "outputId": "f8a65468-11f4-4c39-8e8e-09e042ea2663"
      },
      "source": [
        "import graphviz\n",
        "from sklearn import tree\n",
        "dot_data1=tree.export_graphviz(rf.estimators_[1],filled=True,rounded=True,max_depth=2,feature_names=X.columns,class_names=Y.columns)\n",
        "graph1=graphviz.Source(dot_data1,format='png')\n",
        "graph1"
      ],
      "execution_count": null,
      "outputs": [
        {
          "output_type": "execute_result",
          "data": {
            "text/plain": [
              "<graphviz.files.Source at 0x7fd3819ba590>"
            ],
            "image/svg+xml": "<?xml version=\"1.0\" encoding=\"UTF-8\" standalone=\"no\"?>\n<!DOCTYPE svg PUBLIC \"-//W3C//DTD SVG 1.1//EN\"\n \"http://www.w3.org/Graphics/SVG/1.1/DTD/svg11.dtd\">\n<!-- Generated by graphviz version 2.40.1 (20161225.0304)\n -->\n<!-- Title: Tree Pages: 1 -->\n<svg width=\"619pt\" height=\"401pt\"\n viewBox=\"0.00 0.00 619.00 401.00\" xmlns=\"http://www.w3.org/2000/svg\" xmlns:xlink=\"http://www.w3.org/1999/xlink\">\n<g id=\"graph0\" class=\"graph\" transform=\"scale(1 1) rotate(0) translate(4 397)\">\n<title>Tree</title>\n<polygon fill=\"#ffffff\" stroke=\"transparent\" points=\"-4,4 -4,-397 615,-397 615,4 -4,4\"/>\n<!-- 0 -->\n<g id=\"node1\" class=\"node\">\n<title>0</title>\n<path fill=\"#e78845\" stroke=\"#000000\" d=\"M358,-393C358,-393 242,-393 242,-393 236,-393 230,-387 230,-381 230,-381 230,-322 230,-322 230,-316 236,-310 242,-310 242,-310 358,-310 358,-310 364,-310 370,-316 370,-322 370,-322 370,-381 370,-381 370,-387 364,-393 358,-393\"/>\n<text text-anchor=\"middle\" x=\"300\" y=\"-377.8\" font-family=\"Helvetica,sans-Serif\" font-size=\"14.00\" fill=\"#000000\">gplus &lt;= 757.5</text>\n<text text-anchor=\"middle\" x=\"300\" y=\"-362.8\" font-family=\"Helvetica,sans-Serif\" font-size=\"14.00\" fill=\"#000000\">gini = 0.105</text>\n<text text-anchor=\"middle\" x=\"300\" y=\"-347.8\" font-family=\"Helvetica,sans-Serif\" font-size=\"14.00\" fill=\"#000000\">samples = 1107</text>\n<text text-anchor=\"middle\" x=\"300\" y=\"-332.8\" font-family=\"Helvetica,sans-Serif\" font-size=\"14.00\" fill=\"#000000\">value = [1707, 101]</text>\n<text text-anchor=\"middle\" x=\"300\" y=\"-317.8\" font-family=\"Helvetica,sans-Serif\" font-size=\"14.00\" fill=\"#000000\">class = danger</text>\n</g>\n<!-- 1 -->\n<g id=\"node2\" class=\"node\">\n<title>1</title>\n<path fill=\"#e6853f\" stroke=\"#000000\" d=\"M281,-274C281,-274 173,-274 173,-274 167,-274 161,-268 161,-262 161,-262 161,-203 161,-203 161,-197 167,-191 173,-191 173,-191 281,-191 281,-191 287,-191 293,-197 293,-203 293,-203 293,-262 293,-262 293,-268 287,-274 281,-274\"/>\n<text text-anchor=\"middle\" x=\"227\" y=\"-258.8\" font-family=\"Helvetica,sans-Serif\" font-size=\"14.00\" fill=\"#000000\">nbumps3 &lt;= 1.5</text>\n<text text-anchor=\"middle\" x=\"227\" y=\"-243.8\" font-family=\"Helvetica,sans-Serif\" font-size=\"14.00\" fill=\"#000000\">gini = 0.061</text>\n<text text-anchor=\"middle\" x=\"227\" y=\"-228.8\" font-family=\"Helvetica,sans-Serif\" font-size=\"14.00\" fill=\"#000000\">samples = 875</text>\n<text text-anchor=\"middle\" x=\"227\" y=\"-213.8\" font-family=\"Helvetica,sans-Serif\" font-size=\"14.00\" fill=\"#000000\">value = [1388, 45]</text>\n<text text-anchor=\"middle\" x=\"227\" y=\"-198.8\" font-family=\"Helvetica,sans-Serif\" font-size=\"14.00\" fill=\"#000000\">class = danger</text>\n</g>\n<!-- 0&#45;&gt;1 -->\n<g id=\"edge1\" class=\"edge\">\n<title>0&#45;&gt;1</title>\n<path fill=\"none\" stroke=\"#000000\" d=\"M274.4681,-309.8796C269.109,-301.1434 263.4021,-291.8404 257.8718,-282.8253\"/>\n<polygon fill=\"#000000\" stroke=\"#000000\" points=\"260.8533,-280.9919 252.6408,-274.2981 254.8865,-284.6522 260.8533,-280.9919\"/>\n<text text-anchor=\"middle\" x=\"246.8161\" y=\"-294.9101\" font-family=\"Helvetica,sans-Serif\" font-size=\"14.00\" fill=\"#000000\">True</text>\n</g>\n<!-- 150 -->\n<g id=\"node9\" class=\"node\">\n<title>150</title>\n<path fill=\"#ea975c\" stroke=\"#000000\" d=\"M423,-274C423,-274 323,-274 323,-274 317,-274 311,-268 311,-262 311,-262 311,-203 311,-203 311,-197 317,-191 323,-191 323,-191 423,-191 423,-191 429,-191 435,-197 435,-203 435,-203 435,-262 435,-262 435,-268 429,-274 423,-274\"/>\n<text text-anchor=\"middle\" x=\"373\" y=\"-258.8\" font-family=\"Helvetica,sans-Serif\" font-size=\"14.00\" fill=\"#000000\">nbumps3 &lt;= 0.5</text>\n<text text-anchor=\"middle\" x=\"373\" y=\"-243.8\" font-family=\"Helvetica,sans-Serif\" font-size=\"14.00\" fill=\"#000000\">gini = 0.254</text>\n<text text-anchor=\"middle\" x=\"373\" y=\"-228.8\" font-family=\"Helvetica,sans-Serif\" font-size=\"14.00\" fill=\"#000000\">samples = 232</text>\n<text text-anchor=\"middle\" x=\"373\" y=\"-213.8\" font-family=\"Helvetica,sans-Serif\" font-size=\"14.00\" fill=\"#000000\">value = [319, 56]</text>\n<text text-anchor=\"middle\" x=\"373\" y=\"-198.8\" font-family=\"Helvetica,sans-Serif\" font-size=\"14.00\" fill=\"#000000\">class = danger</text>\n</g>\n<!-- 0&#45;&gt;150 -->\n<g id=\"edge8\" class=\"edge\">\n<title>0&#45;&gt;150</title>\n<path fill=\"none\" stroke=\"#000000\" d=\"M325.5319,-309.8796C330.891,-301.1434 336.5979,-291.8404 342.1282,-282.8253\"/>\n<polygon fill=\"#000000\" stroke=\"#000000\" points=\"345.1135,-284.6522 347.3592,-274.2981 339.1467,-280.9919 345.1135,-284.6522\"/>\n<text text-anchor=\"middle\" x=\"353.1839\" y=\"-294.9101\" font-family=\"Helvetica,sans-Serif\" font-size=\"14.00\" fill=\"#000000\">False</text>\n</g>\n<!-- 2 -->\n<g id=\"node3\" class=\"node\">\n<title>2</title>\n<path fill=\"#e6843e\" stroke=\"#000000\" d=\"M143,-155C143,-155 35,-155 35,-155 29,-155 23,-149 23,-143 23,-143 23,-84 23,-84 23,-78 29,-72 35,-72 35,-72 143,-72 143,-72 149,-72 155,-78 155,-84 155,-84 155,-143 155,-143 155,-149 149,-155 143,-155\"/>\n<text text-anchor=\"middle\" x=\"89\" y=\"-139.8\" font-family=\"Helvetica,sans-Serif\" font-size=\"14.00\" fill=\"#000000\">energy &lt;= 250.0</text>\n<text text-anchor=\"middle\" x=\"89\" y=\"-124.8\" font-family=\"Helvetica,sans-Serif\" font-size=\"14.00\" fill=\"#000000\">gini = 0.052</text>\n<text text-anchor=\"middle\" x=\"89\" y=\"-109.8\" font-family=\"Helvetica,sans-Serif\" font-size=\"14.00\" fill=\"#000000\">samples = 826</text>\n<text text-anchor=\"middle\" x=\"89\" y=\"-94.8\" font-family=\"Helvetica,sans-Serif\" font-size=\"14.00\" fill=\"#000000\">value = [1317, 36]</text>\n<text text-anchor=\"middle\" x=\"89\" y=\"-79.8\" font-family=\"Helvetica,sans-Serif\" font-size=\"14.00\" fill=\"#000000\">class = danger</text>\n</g>\n<!-- 1&#45;&gt;2 -->\n<g id=\"edge2\" class=\"edge\">\n<title>1&#45;&gt;2</title>\n<path fill=\"none\" stroke=\"#000000\" d=\"M178.7343,-190.8796C167.8722,-181.513 156.2544,-171.4948 145.1027,-161.8784\"/>\n<polygon fill=\"#000000\" stroke=\"#000000\" points=\"147.3306,-159.178 137.4717,-155.2981 142.7592,-164.4792 147.3306,-159.178\"/>\n</g>\n<!-- 123 -->\n<g id=\"node6\" class=\"node\">\n<title>123</title>\n<path fill=\"#e89152\" stroke=\"#000000\" d=\"M274.5,-155C274.5,-155 185.5,-155 185.5,-155 179.5,-155 173.5,-149 173.5,-143 173.5,-143 173.5,-84 173.5,-84 173.5,-78 179.5,-72 185.5,-72 185.5,-72 274.5,-72 274.5,-72 280.5,-72 286.5,-78 286.5,-84 286.5,-84 286.5,-143 286.5,-143 286.5,-149 280.5,-155 274.5,-155\"/>\n<text text-anchor=\"middle\" x=\"230\" y=\"-139.8\" font-family=\"Helvetica,sans-Serif\" font-size=\"14.00\" fill=\"#000000\">nbumps &lt;= 7.5</text>\n<text text-anchor=\"middle\" x=\"230\" y=\"-124.8\" font-family=\"Helvetica,sans-Serif\" font-size=\"14.00\" fill=\"#000000\">gini = 0.2</text>\n<text text-anchor=\"middle\" x=\"230\" y=\"-109.8\" font-family=\"Helvetica,sans-Serif\" font-size=\"14.00\" fill=\"#000000\">samples = 49</text>\n<text text-anchor=\"middle\" x=\"230\" y=\"-94.8\" font-family=\"Helvetica,sans-Serif\" font-size=\"14.00\" fill=\"#000000\">value = [71, 9]</text>\n<text text-anchor=\"middle\" x=\"230\" y=\"-79.8\" font-family=\"Helvetica,sans-Serif\" font-size=\"14.00\" fill=\"#000000\">class = danger</text>\n</g>\n<!-- 1&#45;&gt;123 -->\n<g id=\"edge5\" class=\"edge\">\n<title>1&#45;&gt;123</title>\n<path fill=\"none\" stroke=\"#000000\" d=\"M228.0493,-190.8796C228.2559,-182.6838 228.4751,-173.9891 228.689,-165.5013\"/>\n<polygon fill=\"#000000\" stroke=\"#000000\" points=\"232.193,-165.3831 228.9463,-155.2981 225.1953,-165.2067 232.193,-165.3831\"/>\n</g>\n<!-- 3 -->\n<g id=\"node4\" class=\"node\">\n<title>3</title>\n<path fill=\"#c0c0c0\" stroke=\"#000000\" d=\"M42,-36C42,-36 12,-36 12,-36 6,-36 0,-30 0,-24 0,-24 0,-12 0,-12 0,-6 6,0 12,0 12,0 42,0 42,0 48,0 54,-6 54,-12 54,-12 54,-24 54,-24 54,-30 48,-36 42,-36\"/>\n<text text-anchor=\"middle\" x=\"27\" y=\"-14.3\" font-family=\"Helvetica,sans-Serif\" font-size=\"14.00\" fill=\"#000000\">(...)</text>\n</g>\n<!-- 2&#45;&gt;3 -->\n<g id=\"edge3\" class=\"edge\">\n<title>2&#45;&gt;3</title>\n<path fill=\"none\" stroke=\"#000000\" d=\"M61.9863,-71.8901C56.0431,-62.7357 49.9012,-53.2752 44.4539,-44.8847\"/>\n<polygon fill=\"#000000\" stroke=\"#000000\" points=\"47.2389,-42.7467 38.858,-36.2651 41.3677,-46.5584 47.2389,-42.7467\"/>\n</g>\n<!-- 56 -->\n<g id=\"node5\" class=\"node\">\n<title>56</title>\n<path fill=\"#c0c0c0\" stroke=\"#000000\" d=\"M114,-36C114,-36 84,-36 84,-36 78,-36 72,-30 72,-24 72,-24 72,-12 72,-12 72,-6 78,0 84,0 84,0 114,0 114,0 120,0 126,-6 126,-12 126,-12 126,-24 126,-24 126,-30 120,-36 114,-36\"/>\n<text text-anchor=\"middle\" x=\"99\" y=\"-14.3\" font-family=\"Helvetica,sans-Serif\" font-size=\"14.00\" fill=\"#000000\">(...)</text>\n</g>\n<!-- 2&#45;&gt;56 -->\n<g id=\"edge4\" class=\"edge\">\n<title>2&#45;&gt;56</title>\n<path fill=\"none\" stroke=\"#000000\" d=\"M93.3571,-71.8901C94.2646,-63.2227 95.201,-54.2808 96.0437,-46.2325\"/>\n<polygon fill=\"#000000\" stroke=\"#000000\" points=\"99.5269,-46.5753 97.0874,-36.2651 92.5649,-45.8462 99.5269,-46.5753\"/>\n</g>\n<!-- 124 -->\n<g id=\"node7\" class=\"node\">\n<title>124</title>\n<path fill=\"#c0c0c0\" stroke=\"#000000\" d=\"M217,-36C217,-36 187,-36 187,-36 181,-36 175,-30 175,-24 175,-24 175,-12 175,-12 175,-6 181,0 187,0 187,0 217,0 217,0 223,0 229,-6 229,-12 229,-12 229,-24 229,-24 229,-30 223,-36 217,-36\"/>\n<text text-anchor=\"middle\" x=\"202\" y=\"-14.3\" font-family=\"Helvetica,sans-Serif\" font-size=\"14.00\" fill=\"#000000\">(...)</text>\n</g>\n<!-- 123&#45;&gt;124 -->\n<g id=\"edge6\" class=\"edge\">\n<title>123&#45;&gt;124</title>\n<path fill=\"none\" stroke=\"#000000\" d=\"M217.8002,-71.8901C215.2305,-63.1253 212.5784,-54.0798 210.1981,-45.9615\"/>\n<polygon fill=\"#000000\" stroke=\"#000000\" points=\"213.5274,-44.8764 207.3552,-36.2651 206.8102,-46.8459 213.5274,-44.8764\"/>\n</g>\n<!-- 149 -->\n<g id=\"node8\" class=\"node\">\n<title>149</title>\n<path fill=\"#c0c0c0\" stroke=\"#000000\" d=\"M289,-36C289,-36 259,-36 259,-36 253,-36 247,-30 247,-24 247,-24 247,-12 247,-12 247,-6 253,0 259,0 259,0 289,0 289,0 295,0 301,-6 301,-12 301,-12 301,-24 301,-24 301,-30 295,-36 289,-36\"/>\n<text text-anchor=\"middle\" x=\"274\" y=\"-14.3\" font-family=\"Helvetica,sans-Serif\" font-size=\"14.00\" fill=\"#000000\">(...)</text>\n</g>\n<!-- 123&#45;&gt;149 -->\n<g id=\"edge7\" class=\"edge\">\n<title>123&#45;&gt;149</title>\n<path fill=\"none\" stroke=\"#000000\" d=\"M249.171,-71.8901C253.299,-62.9305 257.5621,-53.6777 261.3659,-45.4217\"/>\n<polygon fill=\"#000000\" stroke=\"#000000\" points=\"264.5789,-46.8121 265.5847,-36.2651 258.2212,-43.8829 264.5789,-46.8121\"/>\n</g>\n<!-- 151 -->\n<g id=\"node10\" class=\"node\">\n<title>151</title>\n<path fill=\"#e88e4e\" stroke=\"#000000\" d=\"M421,-155C421,-155 321,-155 321,-155 315,-155 309,-149 309,-143 309,-143 309,-84 309,-84 309,-78 315,-72 321,-72 321,-72 421,-72 421,-72 427,-72 433,-78 433,-84 433,-84 433,-143 433,-143 433,-149 427,-155 421,-155\"/>\n<text text-anchor=\"middle\" x=\"371\" y=\"-139.8\" font-family=\"Helvetica,sans-Serif\" font-size=\"14.00\" fill=\"#000000\">gplus &lt;= 2722.0</text>\n<text text-anchor=\"middle\" x=\"371\" y=\"-124.8\" font-family=\"Helvetica,sans-Serif\" font-size=\"14.00\" fill=\"#000000\">gini = 0.175</text>\n<text text-anchor=\"middle\" x=\"371\" y=\"-109.8\" font-family=\"Helvetica,sans-Serif\" font-size=\"14.00\" fill=\"#000000\">samples = 131</text>\n<text text-anchor=\"middle\" x=\"371\" y=\"-94.8\" font-family=\"Helvetica,sans-Serif\" font-size=\"14.00\" fill=\"#000000\">value = [196, 21]</text>\n<text text-anchor=\"middle\" x=\"371\" y=\"-79.8\" font-family=\"Helvetica,sans-Serif\" font-size=\"14.00\" fill=\"#000000\">class = danger</text>\n</g>\n<!-- 150&#45;&gt;151 -->\n<g id=\"edge9\" class=\"edge\">\n<title>150&#45;&gt;151</title>\n<path fill=\"none\" stroke=\"#000000\" d=\"M372.3005,-190.8796C372.1628,-182.6838 372.0166,-173.9891 371.874,-165.5013\"/>\n<polygon fill=\"#000000\" stroke=\"#000000\" points=\"375.3701,-165.2378 371.7025,-155.2981 368.3711,-165.3555 375.3701,-165.2378\"/>\n</g>\n<!-- 196 -->\n<g id=\"node13\" class=\"node\">\n<title>196</title>\n<path fill=\"#eca571\" stroke=\"#000000\" d=\"M574.5,-155C574.5,-155 463.5,-155 463.5,-155 457.5,-155 451.5,-149 451.5,-143 451.5,-143 451.5,-84 451.5,-84 451.5,-78 457.5,-72 463.5,-72 463.5,-72 574.5,-72 574.5,-72 580.5,-72 586.5,-78 586.5,-84 586.5,-84 586.5,-143 586.5,-143 586.5,-149 580.5,-155 574.5,-155\"/>\n<text text-anchor=\"middle\" x=\"519\" y=\"-139.8\" font-family=\"Helvetica,sans-Serif\" font-size=\"14.00\" fill=\"#000000\">gdenergy &lt;= &#45;33.0</text>\n<text text-anchor=\"middle\" x=\"519\" y=\"-124.8\" font-family=\"Helvetica,sans-Serif\" font-size=\"14.00\" fill=\"#000000\">gini = 0.345</text>\n<text text-anchor=\"middle\" x=\"519\" y=\"-109.8\" font-family=\"Helvetica,sans-Serif\" font-size=\"14.00\" fill=\"#000000\">samples = 101</text>\n<text text-anchor=\"middle\" x=\"519\" y=\"-94.8\" font-family=\"Helvetica,sans-Serif\" font-size=\"14.00\" fill=\"#000000\">value = [123, 35]</text>\n<text text-anchor=\"middle\" x=\"519\" y=\"-79.8\" font-family=\"Helvetica,sans-Serif\" font-size=\"14.00\" fill=\"#000000\">class = danger</text>\n</g>\n<!-- 150&#45;&gt;196 -->\n<g id=\"edge12\" class=\"edge\">\n<title>150&#45;&gt;196</title>\n<path fill=\"none\" stroke=\"#000000\" d=\"M424.0637,-190.8796C435.5555,-181.513 447.8468,-171.4948 459.645,-161.8784\"/>\n<polygon fill=\"#000000\" stroke=\"#000000\" points=\"462.1782,-164.329 467.7183,-155.2981 457.7556,-158.903 462.1782,-164.329\"/>\n</g>\n<!-- 152 -->\n<g id=\"node11\" class=\"node\">\n<title>152</title>\n<path fill=\"#c0c0c0\" stroke=\"#000000\" d=\"M376,-36C376,-36 346,-36 346,-36 340,-36 334,-30 334,-24 334,-24 334,-12 334,-12 334,-6 340,0 346,0 346,0 376,0 376,0 382,0 388,-6 388,-12 388,-12 388,-24 388,-24 388,-30 382,-36 376,-36\"/>\n<text text-anchor=\"middle\" x=\"361\" y=\"-14.3\" font-family=\"Helvetica,sans-Serif\" font-size=\"14.00\" fill=\"#000000\">(...)</text>\n</g>\n<!-- 151&#45;&gt;152 -->\n<g id=\"edge10\" class=\"edge\">\n<title>151&#45;&gt;152</title>\n<path fill=\"none\" stroke=\"#000000\" d=\"M366.6429,-71.8901C365.7354,-63.2227 364.799,-54.2808 363.9563,-46.2325\"/>\n<polygon fill=\"#000000\" stroke=\"#000000\" points=\"367.4351,-45.8462 362.9126,-36.2651 360.4731,-46.5753 367.4351,-45.8462\"/>\n</g>\n<!-- 191 -->\n<g id=\"node12\" class=\"node\">\n<title>191</title>\n<path fill=\"#c0c0c0\" stroke=\"#000000\" d=\"M448,-36C448,-36 418,-36 418,-36 412,-36 406,-30 406,-24 406,-24 406,-12 406,-12 406,-6 412,0 418,0 418,0 448,0 448,0 454,0 460,-6 460,-12 460,-12 460,-24 460,-24 460,-30 454,-36 448,-36\"/>\n<text text-anchor=\"middle\" x=\"433\" y=\"-14.3\" font-family=\"Helvetica,sans-Serif\" font-size=\"14.00\" fill=\"#000000\">(...)</text>\n</g>\n<!-- 151&#45;&gt;191 -->\n<g id=\"edge11\" class=\"edge\">\n<title>151&#45;&gt;191</title>\n<path fill=\"none\" stroke=\"#000000\" d=\"M398.0137,-71.8901C403.9569,-62.7357 410.0988,-53.2752 415.5461,-44.8847\"/>\n<polygon fill=\"#000000\" stroke=\"#000000\" points=\"418.6323,-46.5584 421.142,-36.2651 412.7611,-42.7467 418.6323,-46.5584\"/>\n</g>\n<!-- 197 -->\n<g id=\"node14\" class=\"node\">\n<title>197</title>\n<path fill=\"#c0c0c0\" stroke=\"#000000\" d=\"M527,-36C527,-36 497,-36 497,-36 491,-36 485,-30 485,-24 485,-24 485,-12 485,-12 485,-6 491,0 497,0 497,0 527,0 527,0 533,0 539,-6 539,-12 539,-12 539,-24 539,-24 539,-30 533,-36 527,-36\"/>\n<text text-anchor=\"middle\" x=\"512\" y=\"-14.3\" font-family=\"Helvetica,sans-Serif\" font-size=\"14.00\" fill=\"#000000\">(...)</text>\n</g>\n<!-- 196&#45;&gt;197 -->\n<g id=\"edge13\" class=\"edge\">\n<title>196&#45;&gt;197</title>\n<path fill=\"none\" stroke=\"#000000\" d=\"M515.9501,-71.8901C515.3219,-63.3201 514.6741,-54.4817 514.0893,-46.5041\"/>\n<polygon fill=\"#000000\" stroke=\"#000000\" points=\"517.5606,-45.9825 513.3388,-36.2651 510.5793,-46.4942 517.5606,-45.9825\"/>\n</g>\n<!-- 212 -->\n<g id=\"node15\" class=\"node\">\n<title>212</title>\n<path fill=\"#c0c0c0\" stroke=\"#000000\" d=\"M599,-36C599,-36 569,-36 569,-36 563,-36 557,-30 557,-24 557,-24 557,-12 557,-12 557,-6 563,0 569,0 569,0 599,0 599,0 605,0 611,-6 611,-12 611,-12 611,-24 611,-24 611,-30 605,-36 599,-36\"/>\n<text text-anchor=\"middle\" x=\"584\" y=\"-14.3\" font-family=\"Helvetica,sans-Serif\" font-size=\"14.00\" fill=\"#000000\">(...)</text>\n</g>\n<!-- 196&#45;&gt;212 -->\n<g id=\"edge14\" class=\"edge\">\n<title>196&#45;&gt;212</title>\n<path fill=\"none\" stroke=\"#000000\" d=\"M547.3209,-71.8901C553.6179,-62.6384 560.1277,-53.0739 565.8835,-44.6173\"/>\n<polygon fill=\"#000000\" stroke=\"#000000\" points=\"568.835,-46.5013 571.5683,-36.2651 563.0482,-42.5626 568.835,-46.5013\"/>\n</g>\n</g>\n</svg>\n"
          },
          "metadata": {
            "tags": []
          },
          "execution_count": 94
        }
      ]
    },
    {
      "cell_type": "markdown",
      "metadata": {
        "id": "P0Pnc-BwhHuL"
      },
      "source": [
        "### Decision Tree"
      ]
    },
    {
      "cell_type": "code",
      "metadata": {
        "id": "7aD7MGpeeyMn"
      },
      "source": [
        "from sklearn.tree import DecisionTreeClassifier\n",
        "dt_gini=DecisionTreeClassifier(max_depth=10,min_samples_leaf=15)"
      ],
      "execution_count": null,
      "outputs": []
    },
    {
      "cell_type": "markdown",
      "metadata": {
        "id": "7m49q8MshquX"
      },
      "source": [
        "- Train"
      ]
    },
    {
      "cell_type": "code",
      "metadata": {
        "colab": {
          "base_uri": "https://localhost:8080/"
        },
        "id": "LL7B8DmChWWi",
        "outputId": "5a5d85d8-6349-4551-f178-5b8746db47c3"
      },
      "source": [
        "dt_gini.fit(x_train,y_train)"
      ],
      "execution_count": null,
      "outputs": [
        {
          "output_type": "execute_result",
          "data": {
            "text/plain": [
              "DecisionTreeClassifier(ccp_alpha=0.0, class_weight=None, criterion='gini',\n",
              "                       max_depth=10, max_features=None, max_leaf_nodes=None,\n",
              "                       min_impurity_decrease=0.0, min_impurity_split=None,\n",
              "                       min_samples_leaf=15, min_samples_split=2,\n",
              "                       min_weight_fraction_leaf=0.0, presort='deprecated',\n",
              "                       random_state=None, splitter='best')"
            ]
          },
          "metadata": {
            "tags": []
          },
          "execution_count": 96
        }
      ]
    },
    {
      "cell_type": "code",
      "metadata": {
        "colab": {
          "base_uri": "https://localhost:8080/"
        },
        "id": "XgC5b_o3hxXb",
        "outputId": "6615d336-4901-4784-8674-b1519e408234"
      },
      "source": [
        "print(accuracy_score(dt_gini.predict(x_train),y_train)*100)"
      ],
      "execution_count": null,
      "outputs": [
        {
          "output_type": "stream",
          "text": [
            "94.08185840707965\n"
          ],
          "name": "stdout"
        }
      ]
    },
    {
      "cell_type": "markdown",
      "metadata": {
        "id": "gs4-kC4Qh_rE"
      },
      "source": [
        "- TesT"
      ]
    },
    {
      "cell_type": "code",
      "metadata": {
        "colab": {
          "base_uri": "https://localhost:8080/"
        },
        "id": "u9LptmxuiIy0",
        "outputId": "50d1a5fb-f822-4c88-beac-c819ee86c758"
      },
      "source": [
        "print(accuracy_score(dt_gini.predict(x_test),y_test)*100)"
      ],
      "execution_count": null,
      "outputs": [
        {
          "output_type": "stream",
          "text": [
            "90.59278350515464\n"
          ],
          "name": "stdout"
        }
      ]
    },
    {
      "cell_type": "code",
      "metadata": {
        "colab": {
          "base_uri": "https://localhost:8080/",
          "height": 295
        },
        "id": "REajZ_uOiQRt",
        "outputId": "310d2d5c-393c-41f9-9383-5520890efe9a"
      },
      "source": [
        "print(classification_report(y_test,dt_gini.predict(x_test)))\n",
        "pd.crosstab(y_test,dt_gini.predict(x_test))"
      ],
      "execution_count": null,
      "outputs": [
        {
          "output_type": "stream",
          "text": [
            "              precision    recall  f1-score   support\n",
            "\n",
            "           0       0.92      0.98      0.95       715\n",
            "           1       0.20      0.07      0.10        61\n",
            "\n",
            "    accuracy                           0.91       776\n",
            "   macro avg       0.56      0.52      0.52       776\n",
            "weighted avg       0.87      0.91      0.88       776\n",
            "\n"
          ],
          "name": "stdout"
        },
        {
          "output_type": "execute_result",
          "data": {
            "text/html": [
              "<div>\n",
              "<style scoped>\n",
              "    .dataframe tbody tr th:only-of-type {\n",
              "        vertical-align: middle;\n",
              "    }\n",
              "\n",
              "    .dataframe tbody tr th {\n",
              "        vertical-align: top;\n",
              "    }\n",
              "\n",
              "    .dataframe thead th {\n",
              "        text-align: right;\n",
              "    }\n",
              "</style>\n",
              "<table border=\"1\" class=\"dataframe\">\n",
              "  <thead>\n",
              "    <tr style=\"text-align: right;\">\n",
              "      <th>col_0</th>\n",
              "      <th>0</th>\n",
              "      <th>1</th>\n",
              "    </tr>\n",
              "    <tr>\n",
              "      <th>danger</th>\n",
              "      <th></th>\n",
              "      <th></th>\n",
              "    </tr>\n",
              "  </thead>\n",
              "  <tbody>\n",
              "    <tr>\n",
              "      <th>0</th>\n",
              "      <td>699</td>\n",
              "      <td>16</td>\n",
              "    </tr>\n",
              "    <tr>\n",
              "      <th>1</th>\n",
              "      <td>57</td>\n",
              "      <td>4</td>\n",
              "    </tr>\n",
              "  </tbody>\n",
              "</table>\n",
              "</div>"
            ],
            "text/plain": [
              "col_0     0   1\n",
              "danger         \n",
              "0       699  16\n",
              "1        57   4"
            ]
          },
          "metadata": {
            "tags": []
          },
          "execution_count": 99
        }
      ]
    },
    {
      "cell_type": "code",
      "metadata": {
        "id": "FyqNJF-xpcdI"
      },
      "source": [
        "pd.DataFrame(dt_gini.predict(x_test)).to_csv(\"Decision_tree_pred.csv\")"
      ],
      "execution_count": null,
      "outputs": []
    },
    {
      "cell_type": "code",
      "metadata": {
        "colab": {
          "base_uri": "https://localhost:8080/"
        },
        "id": "LC4QIxfJl7IA",
        "outputId": "b1bf09af-1041-4aed-91b4-da1317ef0370"
      },
      "source": [
        "text_representation = tree.export_text(dt_gini)\n",
        "print(text_representation)"
      ],
      "execution_count": null,
      "outputs": [
        {
          "output_type": "stream",
          "text": [
            "|--- feature_8 <= 1.50\n",
            "|   |--- feature_4 <= 2164.50\n",
            "|   |   |--- feature_3 <= 18805.00\n",
            "|   |   |   |--- feature_17 <= 3500.00\n",
            "|   |   |   |   |--- feature_4 <= 599.00\n",
            "|   |   |   |   |   |--- feature_5 <= -84.50\n",
            "|   |   |   |   |   |   |--- class: 0\n",
            "|   |   |   |   |   |--- feature_5 >  -84.50\n",
            "|   |   |   |   |   |   |--- feature_17 <= 900.00\n",
            "|   |   |   |   |   |   |   |--- feature_4 <= 219.00\n",
            "|   |   |   |   |   |   |   |   |--- feature_6 <= -1.00\n",
            "|   |   |   |   |   |   |   |   |   |--- feature_4 <= 208.50\n",
            "|   |   |   |   |   |   |   |   |   |   |--- class: 0\n",
            "|   |   |   |   |   |   |   |   |   |--- feature_4 >  208.50\n",
            "|   |   |   |   |   |   |   |   |   |   |--- class: 0\n",
            "|   |   |   |   |   |   |   |   |--- feature_6 >  -1.00\n",
            "|   |   |   |   |   |   |   |   |   |--- feature_5 <= 6.00\n",
            "|   |   |   |   |   |   |   |   |   |   |--- class: 0\n",
            "|   |   |   |   |   |   |   |   |   |--- feature_5 >  6.00\n",
            "|   |   |   |   |   |   |   |   |   |   |--- class: 0\n",
            "|   |   |   |   |   |   |   |--- feature_4 >  219.00\n",
            "|   |   |   |   |   |   |   |   |--- class: 0\n",
            "|   |   |   |   |   |   |--- feature_17 >  900.00\n",
            "|   |   |   |   |   |   |   |--- class: 0\n",
            "|   |   |   |   |--- feature_4 >  599.00\n",
            "|   |   |   |   |   |--- class: 0\n",
            "|   |   |   |--- feature_17 >  3500.00\n",
            "|   |   |   |   |--- class: 0\n",
            "|   |   |--- feature_3 >  18805.00\n",
            "|   |   |   |--- feature_5 <= -33.50\n",
            "|   |   |   |   |--- feature_0 <= 0.50\n",
            "|   |   |   |   |   |--- feature_6 <= -60.50\n",
            "|   |   |   |   |   |   |--- class: 0\n",
            "|   |   |   |   |   |--- feature_6 >  -60.50\n",
            "|   |   |   |   |   |   |--- feature_3 <= 23225.00\n",
            "|   |   |   |   |   |   |   |--- class: 0\n",
            "|   |   |   |   |   |   |--- feature_3 >  23225.00\n",
            "|   |   |   |   |   |   |   |--- class: 0\n",
            "|   |   |   |   |--- feature_0 >  0.50\n",
            "|   |   |   |   |   |--- feature_5 <= -43.50\n",
            "|   |   |   |   |   |   |--- class: 0\n",
            "|   |   |   |   |   |--- feature_5 >  -43.50\n",
            "|   |   |   |   |   |   |--- class: 0\n",
            "|   |   |   |--- feature_5 >  -33.50\n",
            "|   |   |   |   |--- feature_5 <= 28.50\n",
            "|   |   |   |   |   |--- feature_6 <= -39.50\n",
            "|   |   |   |   |   |   |--- class: 0\n",
            "|   |   |   |   |   |--- feature_6 >  -39.50\n",
            "|   |   |   |   |   |   |--- feature_6 <= -8.50\n",
            "|   |   |   |   |   |   |   |--- class: 0\n",
            "|   |   |   |   |   |   |--- feature_6 >  -8.50\n",
            "|   |   |   |   |   |   |   |--- feature_5 <= -19.00\n",
            "|   |   |   |   |   |   |   |   |--- class: 0\n",
            "|   |   |   |   |   |   |   |--- feature_5 >  -19.00\n",
            "|   |   |   |   |   |   |   |   |--- feature_5 <= 7.50\n",
            "|   |   |   |   |   |   |   |   |   |--- class: 0\n",
            "|   |   |   |   |   |   |   |   |--- feature_5 >  7.50\n",
            "|   |   |   |   |   |   |   |   |   |--- feature_6 <= 17.50\n",
            "|   |   |   |   |   |   |   |   |   |   |--- class: 0\n",
            "|   |   |   |   |   |   |   |   |   |--- feature_6 >  17.50\n",
            "|   |   |   |   |   |   |   |   |   |   |--- class: 0\n",
            "|   |   |   |   |--- feature_5 >  28.50\n",
            "|   |   |   |   |   |--- feature_5 <= 124.50\n",
            "|   |   |   |   |   |   |--- feature_5 <= 104.50\n",
            "|   |   |   |   |   |   |   |--- feature_5 <= 45.50\n",
            "|   |   |   |   |   |   |   |   |--- feature_4 <= 365.50\n",
            "|   |   |   |   |   |   |   |   |   |--- class: 0\n",
            "|   |   |   |   |   |   |   |   |--- feature_4 >  365.50\n",
            "|   |   |   |   |   |   |   |   |   |--- feature_4 <= 664.50\n",
            "|   |   |   |   |   |   |   |   |   |   |--- class: 0\n",
            "|   |   |   |   |   |   |   |   |   |--- feature_4 >  664.50\n",
            "|   |   |   |   |   |   |   |   |   |   |--- class: 0\n",
            "|   |   |   |   |   |   |   |--- feature_5 >  45.50\n",
            "|   |   |   |   |   |   |   |   |--- feature_3 <= 40550.00\n",
            "|   |   |   |   |   |   |   |   |   |--- class: 0\n",
            "|   |   |   |   |   |   |   |   |--- feature_3 >  40550.00\n",
            "|   |   |   |   |   |   |   |   |   |--- feature_3 <= 49585.00\n",
            "|   |   |   |   |   |   |   |   |   |   |--- class: 0\n",
            "|   |   |   |   |   |   |   |   |   |--- feature_3 >  49585.00\n",
            "|   |   |   |   |   |   |   |   |   |   |--- class: 0\n",
            "|   |   |   |   |   |   |--- feature_5 >  104.50\n",
            "|   |   |   |   |   |   |   |--- class: 0\n",
            "|   |   |   |   |   |--- feature_5 >  124.50\n",
            "|   |   |   |   |   |   |--- feature_4 <= 1113.50\n",
            "|   |   |   |   |   |   |   |--- class: 0\n",
            "|   |   |   |   |   |   |--- feature_4 >  1113.50\n",
            "|   |   |   |   |   |   |   |--- class: 0\n",
            "|   |--- feature_4 >  2164.50\n",
            "|   |   |--- class: 0\n",
            "|--- feature_8 >  1.50\n",
            "|   |--- feature_4 <= 740.50\n",
            "|   |   |--- feature_3 <= 21865.00\n",
            "|   |   |   |--- feature_5 <= -40.50\n",
            "|   |   |   |   |--- class: 0\n",
            "|   |   |   |--- feature_5 >  -40.50\n",
            "|   |   |   |   |--- class: 0\n",
            "|   |   |--- feature_3 >  21865.00\n",
            "|   |   |   |--- feature_4 <= 361.50\n",
            "|   |   |   |   |--- feature_17 <= 7500.00\n",
            "|   |   |   |   |   |--- class: 0\n",
            "|   |   |   |   |--- feature_17 >  7500.00\n",
            "|   |   |   |   |   |--- class: 0\n",
            "|   |   |   |--- feature_4 >  361.50\n",
            "|   |   |   |   |--- feature_4 <= 396.50\n",
            "|   |   |   |   |   |--- class: 0\n",
            "|   |   |   |   |--- feature_4 >  396.50\n",
            "|   |   |   |   |   |--- feature_8 <= 2.50\n",
            "|   |   |   |   |   |   |--- class: 0\n",
            "|   |   |   |   |   |--- feature_8 >  2.50\n",
            "|   |   |   |   |   |   |--- feature_8 <= 3.50\n",
            "|   |   |   |   |   |   |   |--- class: 0\n",
            "|   |   |   |   |   |   |--- feature_8 >  3.50\n",
            "|   |   |   |   |   |   |   |--- feature_16 <= 13450.00\n",
            "|   |   |   |   |   |   |   |   |--- class: 0\n",
            "|   |   |   |   |   |   |   |--- feature_16 >  13450.00\n",
            "|   |   |   |   |   |   |   |   |--- class: 0\n",
            "|   |--- feature_4 >  740.50\n",
            "|   |   |--- feature_5 <= -30.50\n",
            "|   |   |   |--- class: 1\n",
            "|   |   |--- feature_5 >  -30.50\n",
            "|   |   |   |--- feature_5 <= -17.50\n",
            "|   |   |   |   |--- class: 0\n",
            "|   |   |   |--- feature_5 >  -17.50\n",
            "|   |   |   |   |--- feature_6 <= 21.00\n",
            "|   |   |   |   |   |--- feature_0 <= 0.50\n",
            "|   |   |   |   |   |   |--- class: 0\n",
            "|   |   |   |   |   |--- feature_0 >  0.50\n",
            "|   |   |   |   |   |   |--- class: 1\n",
            "|   |   |   |   |--- feature_6 >  21.00\n",
            "|   |   |   |   |   |--- feature_8 <= 2.50\n",
            "|   |   |   |   |   |   |--- feature_5 <= 104.50\n",
            "|   |   |   |   |   |   |   |--- class: 0\n",
            "|   |   |   |   |   |   |--- feature_5 >  104.50\n",
            "|   |   |   |   |   |   |   |--- class: 0\n",
            "|   |   |   |   |   |--- feature_8 >  2.50\n",
            "|   |   |   |   |   |   |--- feature_0 <= 0.50\n",
            "|   |   |   |   |   |   |   |--- class: 0\n",
            "|   |   |   |   |   |   |--- feature_0 >  0.50\n",
            "|   |   |   |   |   |   |   |--- class: 0\n",
            "\n"
          ],
          "name": "stdout"
        }
      ]
    },
    {
      "cell_type": "code",
      "metadata": {
        "colab": {
          "base_uri": "https://localhost:8080/",
          "height": 634
        },
        "id": "x_UavwzhiweG",
        "outputId": "e5060664-2340-4356-b976-07e352f060bf"
      },
      "source": [
        "import graphviz\n",
        "dot_data=tree.export_graphviz(dt_gini,max_depth=3,filled=True,proportion=True,rounded=True,feature_names=X.columns)\n",
        "graph=graphviz.Source(dot_data,format='png')\n",
        "graph"
      ],
      "execution_count": null,
      "outputs": [
        {
          "output_type": "execute_result",
          "data": {
            "text/plain": [
              "<graphviz.files.Source at 0x7fd380b70a10>"
            ],
            "image/svg+xml": "<?xml version=\"1.0\" encoding=\"UTF-8\" standalone=\"no\"?>\n<!DOCTYPE svg PUBLIC \"-//W3C//DTD SVG 1.1//EN\"\n \"http://www.w3.org/Graphics/SVG/1.1/DTD/svg11.dtd\">\n<!-- Generated by graphviz version 2.40.1 (20161225.0304)\n -->\n<!-- Title: Tree Pages: 1 -->\n<svg width=\"1011pt\" height=\"460pt\"\n viewBox=\"0.00 0.00 1011.00 460.00\" xmlns=\"http://www.w3.org/2000/svg\" xmlns:xlink=\"http://www.w3.org/1999/xlink\">\n<g id=\"graph0\" class=\"graph\" transform=\"scale(1 1) rotate(0) translate(4 456)\">\n<title>Tree</title>\n<polygon fill=\"#ffffff\" stroke=\"transparent\" points=\"-4,4 -4,-456 1007,-456 1007,4 -4,4\"/>\n<!-- 0 -->\n<g id=\"node1\" class=\"node\">\n<title>0</title>\n<path fill=\"#e78946\" stroke=\"#000000\" d=\"M562,-452C562,-452 446,-452 446,-452 440,-452 434,-446 434,-440 434,-440 434,-396 434,-396 434,-390 440,-384 446,-384 446,-384 562,-384 562,-384 568,-384 574,-390 574,-396 574,-396 574,-440 574,-440 574,-446 568,-452 562,-452\"/>\n<text text-anchor=\"middle\" x=\"504\" y=\"-436.8\" font-family=\"Helvetica,sans-Serif\" font-size=\"14.00\" fill=\"#000000\">nbumps &lt;= 1.5</text>\n<text text-anchor=\"middle\" x=\"504\" y=\"-421.8\" font-family=\"Helvetica,sans-Serif\" font-size=\"14.00\" fill=\"#000000\">gini = 0.113</text>\n<text text-anchor=\"middle\" x=\"504\" y=\"-406.8\" font-family=\"Helvetica,sans-Serif\" font-size=\"14.00\" fill=\"#000000\">samples = 100.0%</text>\n<text text-anchor=\"middle\" x=\"504\" y=\"-391.8\" font-family=\"Helvetica,sans-Serif\" font-size=\"14.00\" fill=\"#000000\">value = [0.94, 0.06]</text>\n</g>\n<!-- 1 -->\n<g id=\"node2\" class=\"node\">\n<title>1</title>\n<path fill=\"#e6853f\" stroke=\"#000000\" d=\"M483,-348C483,-348 351,-348 351,-348 345,-348 339,-342 339,-336 339,-336 339,-292 339,-292 339,-286 345,-280 351,-280 351,-280 483,-280 483,-280 489,-280 495,-286 495,-292 495,-292 495,-336 495,-336 495,-342 489,-348 483,-348\"/>\n<text text-anchor=\"middle\" x=\"417\" y=\"-332.8\" font-family=\"Helvetica,sans-Serif\" font-size=\"14.00\" fill=\"#000000\">gplus &lt;= 2164.5</text>\n<text text-anchor=\"middle\" x=\"417\" y=\"-317.8\" font-family=\"Helvetica,sans-Serif\" font-size=\"14.00\" fill=\"#000000\">gini = 0.057</text>\n<text text-anchor=\"middle\" x=\"417\" y=\"-302.8\" font-family=\"Helvetica,sans-Serif\" font-size=\"14.00\" fill=\"#000000\">samples = 79.8%</text>\n<text text-anchor=\"middle\" x=\"417\" y=\"-287.8\" font-family=\"Helvetica,sans-Serif\" font-size=\"14.00\" fill=\"#000000\">value = [0.971, 0.029]</text>\n</g>\n<!-- 0&#45;&gt;1 -->\n<g id=\"edge1\" class=\"edge\">\n<title>0&#45;&gt;1</title>\n<path fill=\"none\" stroke=\"#000000\" d=\"M475.5129,-383.9465C468.0021,-374.968 459.8105,-365.1758 451.9995,-355.8385\"/>\n<polygon fill=\"#000000\" stroke=\"#000000\" points=\"454.652,-353.5544 445.5511,-348.13 449.2829,-358.0459 454.652,-353.5544\"/>\n<text text-anchor=\"middle\" x=\"443.3347\" y=\"-369.3316\" font-family=\"Helvetica,sans-Serif\" font-size=\"14.00\" fill=\"#000000\">True</text>\n</g>\n<!-- 60 -->\n<g id=\"node11\" class=\"node\">\n<title>60</title>\n<path fill=\"#eb9d65\" stroke=\"#000000\" d=\"M657,-348C657,-348 525,-348 525,-348 519,-348 513,-342 513,-336 513,-336 513,-292 513,-292 513,-286 519,-280 525,-280 525,-280 657,-280 657,-280 663,-280 669,-286 669,-292 669,-292 669,-336 669,-336 669,-342 663,-348 657,-348\"/>\n<text text-anchor=\"middle\" x=\"591\" y=\"-332.8\" font-family=\"Helvetica,sans-Serif\" font-size=\"14.00\" fill=\"#000000\">gplus &lt;= 740.5</text>\n<text text-anchor=\"middle\" x=\"591\" y=\"-317.8\" font-family=\"Helvetica,sans-Serif\" font-size=\"14.00\" fill=\"#000000\">gini = 0.299</text>\n<text text-anchor=\"middle\" x=\"591\" y=\"-302.8\" font-family=\"Helvetica,sans-Serif\" font-size=\"14.00\" fill=\"#000000\">samples = 20.2%</text>\n<text text-anchor=\"middle\" x=\"591\" y=\"-287.8\" font-family=\"Helvetica,sans-Serif\" font-size=\"14.00\" fill=\"#000000\">value = [0.817, 0.183]</text>\n</g>\n<!-- 0&#45;&gt;60 -->\n<g id=\"edge10\" class=\"edge\">\n<title>0&#45;&gt;60</title>\n<path fill=\"none\" stroke=\"#000000\" d=\"M532.4871,-383.9465C539.9979,-374.968 548.1895,-365.1758 556.0005,-355.8385\"/>\n<polygon fill=\"#000000\" stroke=\"#000000\" points=\"558.7171,-358.0459 562.4489,-348.13 553.348,-353.5544 558.7171,-358.0459\"/>\n<text text-anchor=\"middle\" x=\"564.6653\" y=\"-369.3316\" font-family=\"Helvetica,sans-Serif\" font-size=\"14.00\" fill=\"#000000\">False</text>\n</g>\n<!-- 2 -->\n<g id=\"node3\" class=\"node\">\n<title>2</title>\n<path fill=\"#e6843e\" stroke=\"#000000\" d=\"M310,-244C310,-244 178,-244 178,-244 172,-244 166,-238 166,-232 166,-232 166,-188 166,-188 166,-182 172,-176 178,-176 178,-176 310,-176 310,-176 316,-176 322,-182 322,-188 322,-188 322,-232 322,-232 322,-238 316,-244 310,-244\"/>\n<text text-anchor=\"middle\" x=\"244\" y=\"-228.8\" font-family=\"Helvetica,sans-Serif\" font-size=\"14.00\" fill=\"#000000\">genergy &lt;= 18805.0</text>\n<text text-anchor=\"middle\" x=\"244\" y=\"-213.8\" font-family=\"Helvetica,sans-Serif\" font-size=\"14.00\" fill=\"#000000\">gini = 0.052</text>\n<text text-anchor=\"middle\" x=\"244\" y=\"-198.8\" font-family=\"Helvetica,sans-Serif\" font-size=\"14.00\" fill=\"#000000\">samples = 78.9%</text>\n<text text-anchor=\"middle\" x=\"244\" y=\"-183.8\" font-family=\"Helvetica,sans-Serif\" font-size=\"14.00\" fill=\"#000000\">value = [0.973, 0.027]</text>\n</g>\n<!-- 1&#45;&gt;2 -->\n<g id=\"edge2\" class=\"edge\">\n<title>1&#45;&gt;2</title>\n<path fill=\"none\" stroke=\"#000000\" d=\"M360.3533,-279.9465C344.0737,-270.1599 326.186,-259.4066 309.423,-249.3294\"/>\n<polygon fill=\"#000000\" stroke=\"#000000\" points=\"311.1478,-246.2826 300.7739,-244.13 307.5412,-252.282 311.1478,-246.2826\"/>\n</g>\n<!-- 59 -->\n<g id=\"node10\" class=\"node\">\n<title>59</title>\n<path fill=\"#eeaf81\" stroke=\"#000000\" d=\"M484,-236.5C484,-236.5 352,-236.5 352,-236.5 346,-236.5 340,-230.5 340,-224.5 340,-224.5 340,-195.5 340,-195.5 340,-189.5 346,-183.5 352,-183.5 352,-183.5 484,-183.5 484,-183.5 490,-183.5 496,-189.5 496,-195.5 496,-195.5 496,-224.5 496,-224.5 496,-230.5 490,-236.5 484,-236.5\"/>\n<text text-anchor=\"middle\" x=\"418\" y=\"-221.3\" font-family=\"Helvetica,sans-Serif\" font-size=\"14.00\" fill=\"#000000\">gini = 0.391</text>\n<text text-anchor=\"middle\" x=\"418\" y=\"-206.3\" font-family=\"Helvetica,sans-Serif\" font-size=\"14.00\" fill=\"#000000\">samples = 0.8%</text>\n<text text-anchor=\"middle\" x=\"418\" y=\"-191.3\" font-family=\"Helvetica,sans-Serif\" font-size=\"14.00\" fill=\"#000000\">value = [0.733, 0.267]</text>\n</g>\n<!-- 1&#45;&gt;59 -->\n<g id=\"edge9\" class=\"edge\">\n<title>1&#45;&gt;59</title>\n<path fill=\"none\" stroke=\"#000000\" d=\"M417.3274,-279.9465C417.4302,-269.2621 417.544,-257.4254 417.6483,-246.5742\"/>\n<polygon fill=\"#000000\" stroke=\"#000000\" points=\"421.1484,-246.5754 417.7448,-236.5422 414.1487,-246.508 421.1484,-246.5754\"/>\n</g>\n<!-- 3 -->\n<g id=\"node4\" class=\"node\">\n<title>3</title>\n<path fill=\"#e5833b\" stroke=\"#000000\" d=\"M146,-140C146,-140 12,-140 12,-140 6,-140 0,-134 0,-128 0,-128 0,-84 0,-84 0,-78 6,-72 12,-72 12,-72 146,-72 146,-72 152,-72 158,-78 158,-84 158,-84 158,-128 158,-128 158,-134 152,-140 146,-140\"/>\n<text text-anchor=\"middle\" x=\"79\" y=\"-124.8\" font-family=\"Helvetica,sans-Serif\" font-size=\"14.00\" fill=\"#000000\">maxenergy &lt;= 3500.0</text>\n<text text-anchor=\"middle\" x=\"79\" y=\"-109.8\" font-family=\"Helvetica,sans-Serif\" font-size=\"14.00\" fill=\"#000000\">gini = 0.023</text>\n<text text-anchor=\"middle\" x=\"79\" y=\"-94.8\" font-family=\"Helvetica,sans-Serif\" font-size=\"14.00\" fill=\"#000000\">samples = 37.3%</text>\n<text text-anchor=\"middle\" x=\"79\" y=\"-79.8\" font-family=\"Helvetica,sans-Serif\" font-size=\"14.00\" fill=\"#000000\">value = [0.988, 0.012]</text>\n</g>\n<!-- 2&#45;&gt;3 -->\n<g id=\"edge3\" class=\"edge\">\n<title>2&#45;&gt;3</title>\n<path fill=\"none\" stroke=\"#000000\" d=\"M189.9728,-175.9465C174.5885,-166.2497 157.6984,-155.6039 141.8379,-145.6069\"/>\n<polygon fill=\"#000000\" stroke=\"#000000\" points=\"143.4746,-142.5013 133.1486,-140.13 139.742,-148.4232 143.4746,-142.5013\"/>\n</g>\n<!-- 20 -->\n<g id=\"node7\" class=\"node\">\n<title>20</title>\n<path fill=\"#e68641\" stroke=\"#000000\" d=\"M304,-140C304,-140 188,-140 188,-140 182,-140 176,-134 176,-128 176,-128 176,-84 176,-84 176,-78 182,-72 188,-72 188,-72 304,-72 304,-72 310,-72 316,-78 316,-84 316,-84 316,-128 316,-128 316,-134 310,-140 304,-140\"/>\n<text text-anchor=\"middle\" x=\"246\" y=\"-124.8\" font-family=\"Helvetica,sans-Serif\" font-size=\"14.00\" fill=\"#000000\">gdenergy &lt;= &#45;33.5</text>\n<text text-anchor=\"middle\" x=\"246\" y=\"-109.8\" font-family=\"Helvetica,sans-Serif\" font-size=\"14.00\" fill=\"#000000\">gini = 0.077</text>\n<text text-anchor=\"middle\" x=\"246\" y=\"-94.8\" font-family=\"Helvetica,sans-Serif\" font-size=\"14.00\" fill=\"#000000\">samples = 41.6%</text>\n<text text-anchor=\"middle\" x=\"246\" y=\"-79.8\" font-family=\"Helvetica,sans-Serif\" font-size=\"14.00\" fill=\"#000000\">value = [0.96, 0.04]</text>\n</g>\n<!-- 2&#45;&gt;20 -->\n<g id=\"edge6\" class=\"edge\">\n<title>2&#45;&gt;20</title>\n<path fill=\"none\" stroke=\"#000000\" d=\"M244.6549,-175.9465C244.812,-167.776 244.9821,-158.9318 245.1467,-150.3697\"/>\n<polygon fill=\"#000000\" stroke=\"#000000\" points=\"248.6506,-150.1955 245.3437,-140.13 241.6519,-150.0608 248.6506,-150.1955\"/>\n</g>\n<!-- 4 -->\n<g id=\"node5\" class=\"node\">\n<title>4</title>\n<path fill=\"#c0c0c0\" stroke=\"#000000\" d=\"M58,-36C58,-36 28,-36 28,-36 22,-36 16,-30 16,-24 16,-24 16,-12 16,-12 16,-6 22,0 28,0 28,0 58,0 58,0 64,0 70,-6 70,-12 70,-12 70,-24 70,-24 70,-30 64,-36 58,-36\"/>\n<text text-anchor=\"middle\" x=\"43\" y=\"-14.3\" font-family=\"Helvetica,sans-Serif\" font-size=\"14.00\" fill=\"#000000\">(...)</text>\n</g>\n<!-- 3&#45;&gt;4 -->\n<g id=\"edge4\" class=\"edge\">\n<title>3&#45;&gt;4</title>\n<path fill=\"none\" stroke=\"#000000\" d=\"M65.0815,-71.9769C61.4977,-63.2167 57.6862,-53.8995 54.2564,-45.5157\"/>\n<polygon fill=\"#000000\" stroke=\"#000000\" points=\"57.468,-44.1222 50.4422,-36.192 50.9891,-46.7727 57.468,-44.1222\"/>\n</g>\n<!-- 19 -->\n<g id=\"node6\" class=\"node\">\n<title>19</title>\n<path fill=\"#c0c0c0\" stroke=\"#000000\" d=\"M130,-36C130,-36 100,-36 100,-36 94,-36 88,-30 88,-24 88,-24 88,-12 88,-12 88,-6 94,0 100,0 100,0 130,0 130,0 136,0 142,-6 142,-12 142,-12 142,-24 142,-24 142,-30 136,-36 130,-36\"/>\n<text text-anchor=\"middle\" x=\"115\" y=\"-14.3\" font-family=\"Helvetica,sans-Serif\" font-size=\"14.00\" fill=\"#000000\">(...)</text>\n</g>\n<!-- 3&#45;&gt;19 -->\n<g id=\"edge5\" class=\"edge\">\n<title>3&#45;&gt;19</title>\n<path fill=\"none\" stroke=\"#000000\" d=\"M92.9185,-71.9769C96.5023,-63.2167 100.3138,-53.8995 103.7436,-45.5157\"/>\n<polygon fill=\"#000000\" stroke=\"#000000\" points=\"107.0109,-46.7727 107.5578,-36.192 100.532,-44.1222 107.0109,-46.7727\"/>\n</g>\n<!-- 21 -->\n<g id=\"node8\" class=\"node\">\n<title>21</title>\n<path fill=\"#c0c0c0\" stroke=\"#000000\" d=\"M239,-36C239,-36 209,-36 209,-36 203,-36 197,-30 197,-24 197,-24 197,-12 197,-12 197,-6 203,0 209,0 209,0 239,0 239,0 245,0 251,-6 251,-12 251,-12 251,-24 251,-24 251,-30 245,-36 239,-36\"/>\n<text text-anchor=\"middle\" x=\"224\" y=\"-14.3\" font-family=\"Helvetica,sans-Serif\" font-size=\"14.00\" fill=\"#000000\">(...)</text>\n</g>\n<!-- 20&#45;&gt;21 -->\n<g id=\"edge7\" class=\"edge\">\n<title>20&#45;&gt;21</title>\n<path fill=\"none\" stroke=\"#000000\" d=\"M237.4942,-71.9769C235.3518,-63.4071 233.0761,-54.3043 231.0159,-46.0638\"/>\n<polygon fill=\"#000000\" stroke=\"#000000\" points=\"234.3689,-45.0445 228.548,-36.192 227.5779,-46.7423 234.3689,-45.0445\"/>\n</g>\n<!-- 30 -->\n<g id=\"node9\" class=\"node\">\n<title>30</title>\n<path fill=\"#c0c0c0\" stroke=\"#000000\" d=\"M311,-36C311,-36 281,-36 281,-36 275,-36 269,-30 269,-24 269,-24 269,-12 269,-12 269,-6 275,0 281,0 281,0 311,0 311,0 317,0 323,-6 323,-12 323,-12 323,-24 323,-24 323,-30 317,-36 311,-36\"/>\n<text text-anchor=\"middle\" x=\"296\" y=\"-14.3\" font-family=\"Helvetica,sans-Serif\" font-size=\"14.00\" fill=\"#000000\">(...)</text>\n</g>\n<!-- 20&#45;&gt;30 -->\n<g id=\"edge8\" class=\"edge\">\n<title>20&#45;&gt;30</title>\n<path fill=\"none\" stroke=\"#000000\" d=\"M265.3313,-71.9769C270.4169,-63.0262 275.8329,-53.4941 280.676,-44.9703\"/>\n<polygon fill=\"#000000\" stroke=\"#000000\" points=\"283.7666,-46.6156 285.6637,-36.192 277.6804,-43.1575 283.7666,-46.6156\"/>\n</g>\n<!-- 61 -->\n<g id=\"node12\" class=\"node\">\n<title>61</title>\n<path fill=\"#e99254\" stroke=\"#000000\" d=\"M651.5,-244C651.5,-244 528.5,-244 528.5,-244 522.5,-244 516.5,-238 516.5,-232 516.5,-232 516.5,-188 516.5,-188 516.5,-182 522.5,-176 528.5,-176 528.5,-176 651.5,-176 651.5,-176 657.5,-176 663.5,-182 663.5,-188 663.5,-188 663.5,-232 663.5,-232 663.5,-238 657.5,-244 651.5,-244\"/>\n<text text-anchor=\"middle\" x=\"590\" y=\"-228.8\" font-family=\"Helvetica,sans-Serif\" font-size=\"14.00\" fill=\"#000000\">genergy &lt;= 21865.0</text>\n<text text-anchor=\"middle\" x=\"590\" y=\"-213.8\" font-family=\"Helvetica,sans-Serif\" font-size=\"14.00\" fill=\"#000000\">gini = 0.211</text>\n<text text-anchor=\"middle\" x=\"590\" y=\"-198.8\" font-family=\"Helvetica,sans-Serif\" font-size=\"14.00\" fill=\"#000000\">samples = 11.5%</text>\n<text text-anchor=\"middle\" x=\"590\" y=\"-183.8\" font-family=\"Helvetica,sans-Serif\" font-size=\"14.00\" fill=\"#000000\">value = [0.88, 0.12]</text>\n</g>\n<!-- 60&#45;&gt;61 -->\n<g id=\"edge11\" class=\"edge\">\n<title>60&#45;&gt;61</title>\n<path fill=\"none\" stroke=\"#000000\" d=\"M590.6726,-279.9465C590.594,-271.776 590.509,-262.9318 590.4266,-254.3697\"/>\n<polygon fill=\"#000000\" stroke=\"#000000\" points=\"593.9243,-254.0958 590.3282,-244.13 586.9246,-254.1632 593.9243,-254.0958\"/>\n</g>\n<!-- 78 -->\n<g id=\"node19\" class=\"node\">\n<title>78</title>\n<path fill=\"#eeaf81\" stroke=\"#000000\" d=\"M826,-244C826,-244 694,-244 694,-244 688,-244 682,-238 682,-232 682,-232 682,-188 682,-188 682,-182 688,-176 694,-176 694,-176 826,-176 826,-176 832,-176 838,-182 838,-188 838,-188 838,-232 838,-232 838,-238 832,-244 826,-244\"/>\n<text text-anchor=\"middle\" x=\"760\" y=\"-228.8\" font-family=\"Helvetica,sans-Serif\" font-size=\"14.00\" fill=\"#000000\">gdenergy &lt;= &#45;30.5</text>\n<text text-anchor=\"middle\" x=\"760\" y=\"-213.8\" font-family=\"Helvetica,sans-Serif\" font-size=\"14.00\" fill=\"#000000\">gini = 0.39</text>\n<text text-anchor=\"middle\" x=\"760\" y=\"-198.8\" font-family=\"Helvetica,sans-Serif\" font-size=\"14.00\" fill=\"#000000\">samples = 8.7%</text>\n<text text-anchor=\"middle\" x=\"760\" y=\"-183.8\" font-family=\"Helvetica,sans-Serif\" font-size=\"14.00\" fill=\"#000000\">value = [0.734, 0.266]</text>\n</g>\n<!-- 60&#45;&gt;78 -->\n<g id=\"edge18\" class=\"edge\">\n<title>60&#45;&gt;78</title>\n<path fill=\"none\" stroke=\"#000000\" d=\"M646.3369,-279.9465C662.0942,-270.2497 679.3937,-259.6039 695.6387,-249.6069\"/>\n<polygon fill=\"#000000\" stroke=\"#000000\" points=\"697.8565,-252.3518 704.5388,-244.13 694.1878,-246.3902 697.8565,-252.3518\"/>\n</g>\n<!-- 62 -->\n<g id=\"node13\" class=\"node\">\n<title>62</title>\n<path fill=\"#eead7e\" stroke=\"#000000\" d=\"M483,-140C483,-140 351,-140 351,-140 345,-140 339,-134 339,-128 339,-128 339,-84 339,-84 339,-78 345,-72 351,-72 351,-72 483,-72 483,-72 489,-72 495,-78 495,-84 495,-84 495,-128 495,-128 495,-134 489,-140 483,-140\"/>\n<text text-anchor=\"middle\" x=\"417\" y=\"-124.8\" font-family=\"Helvetica,sans-Serif\" font-size=\"14.00\" fill=\"#000000\">gdenergy &lt;= &#45;40.5</text>\n<text text-anchor=\"middle\" x=\"417\" y=\"-109.8\" font-family=\"Helvetica,sans-Serif\" font-size=\"14.00\" fill=\"#000000\">gini = 0.382</text>\n<text text-anchor=\"middle\" x=\"417\" y=\"-94.8\" font-family=\"Helvetica,sans-Serif\" font-size=\"14.00\" fill=\"#000000\">samples = 1.9%</text>\n<text text-anchor=\"middle\" x=\"417\" y=\"-79.8\" font-family=\"Helvetica,sans-Serif\" font-size=\"14.00\" fill=\"#000000\">value = [0.743, 0.257]</text>\n</g>\n<!-- 61&#45;&gt;62 -->\n<g id=\"edge12\" class=\"edge\">\n<title>61&#45;&gt;62</title>\n<path fill=\"none\" stroke=\"#000000\" d=\"M533.3533,-175.9465C517.0737,-166.1599 499.186,-155.4066 482.423,-145.3294\"/>\n<polygon fill=\"#000000\" stroke=\"#000000\" points=\"484.1478,-142.2826 473.7739,-140.13 480.5412,-148.282 484.1478,-142.2826\"/>\n</g>\n<!-- 65 -->\n<g id=\"node16\" class=\"node\">\n<title>65</title>\n<path fill=\"#e88e4d\" stroke=\"#000000\" d=\"M657,-140C657,-140 525,-140 525,-140 519,-140 513,-134 513,-128 513,-128 513,-84 513,-84 513,-78 519,-72 525,-72 525,-72 657,-72 657,-72 663,-72 669,-78 669,-84 669,-84 669,-128 669,-128 669,-134 663,-140 657,-140\"/>\n<text text-anchor=\"middle\" x=\"591\" y=\"-124.8\" font-family=\"Helvetica,sans-Serif\" font-size=\"14.00\" fill=\"#000000\">gplus &lt;= 361.5</text>\n<text text-anchor=\"middle\" x=\"591\" y=\"-109.8\" font-family=\"Helvetica,sans-Serif\" font-size=\"14.00\" fill=\"#000000\">gini = 0.168</text>\n<text text-anchor=\"middle\" x=\"591\" y=\"-94.8\" font-family=\"Helvetica,sans-Serif\" font-size=\"14.00\" fill=\"#000000\">samples = 9.6%</text>\n<text text-anchor=\"middle\" x=\"591\" y=\"-79.8\" font-family=\"Helvetica,sans-Serif\" font-size=\"14.00\" fill=\"#000000\">value = [0.908, 0.092]</text>\n</g>\n<!-- 61&#45;&gt;65 -->\n<g id=\"edge15\" class=\"edge\">\n<title>61&#45;&gt;65</title>\n<path fill=\"none\" stroke=\"#000000\" d=\"M590.3274,-175.9465C590.406,-167.776 590.491,-158.9318 590.5734,-150.3697\"/>\n<polygon fill=\"#000000\" stroke=\"#000000\" points=\"594.0754,-150.1632 590.6718,-140.13 587.0757,-150.0958 594.0754,-150.1632\"/>\n</g>\n<!-- 63 -->\n<g id=\"node14\" class=\"node\">\n<title>63</title>\n<path fill=\"#c0c0c0\" stroke=\"#000000\" d=\"M402,-36C402,-36 372,-36 372,-36 366,-36 360,-30 360,-24 360,-24 360,-12 360,-12 360,-6 366,0 372,0 372,0 402,0 402,0 408,0 414,-6 414,-12 414,-12 414,-24 414,-24 414,-30 408,-36 402,-36\"/>\n<text text-anchor=\"middle\" x=\"387\" y=\"-14.3\" font-family=\"Helvetica,sans-Serif\" font-size=\"14.00\" fill=\"#000000\">(...)</text>\n</g>\n<!-- 62&#45;&gt;63 -->\n<g id=\"edge13\" class=\"edge\">\n<title>62&#45;&gt;63</title>\n<path fill=\"none\" stroke=\"#000000\" d=\"M405.4012,-71.9769C402.4472,-63.3119 399.3075,-54.102 396.4737,-45.7894\"/>\n<polygon fill=\"#000000\" stroke=\"#000000\" points=\"399.7414,-44.5277 393.2018,-36.192 393.1158,-46.7864 399.7414,-44.5277\"/>\n</g>\n<!-- 64 -->\n<g id=\"node15\" class=\"node\">\n<title>64</title>\n<path fill=\"#c0c0c0\" stroke=\"#000000\" d=\"M474,-36C474,-36 444,-36 444,-36 438,-36 432,-30 432,-24 432,-24 432,-12 432,-12 432,-6 438,0 444,0 444,0 474,0 474,0 480,0 486,-6 486,-12 486,-12 486,-24 486,-24 486,-30 480,-36 474,-36\"/>\n<text text-anchor=\"middle\" x=\"459\" y=\"-14.3\" font-family=\"Helvetica,sans-Serif\" font-size=\"14.00\" fill=\"#000000\">(...)</text>\n</g>\n<!-- 62&#45;&gt;64 -->\n<g id=\"edge14\" class=\"edge\">\n<title>62&#45;&gt;64</title>\n<path fill=\"none\" stroke=\"#000000\" d=\"M433.2383,-71.9769C437.4648,-63.1215 441.9629,-53.6969 445.9978,-45.2427\"/>\n<polygon fill=\"#000000\" stroke=\"#000000\" points=\"449.1688,-46.7243 450.3175,-36.192 442.8514,-43.7092 449.1688,-46.7243\"/>\n</g>\n<!-- 66 -->\n<g id=\"node17\" class=\"node\">\n<title>66</title>\n<path fill=\"#c0c0c0\" stroke=\"#000000\" d=\"M556,-36C556,-36 526,-36 526,-36 520,-36 514,-30 514,-24 514,-24 514,-12 514,-12 514,-6 520,0 526,0 526,0 556,0 556,0 562,0 568,-6 568,-12 568,-12 568,-24 568,-24 568,-30 562,-36 556,-36\"/>\n<text text-anchor=\"middle\" x=\"541\" y=\"-14.3\" font-family=\"Helvetica,sans-Serif\" font-size=\"14.00\" fill=\"#000000\">(...)</text>\n</g>\n<!-- 65&#45;&gt;66 -->\n<g id=\"edge16\" class=\"edge\">\n<title>65&#45;&gt;66</title>\n<path fill=\"none\" stroke=\"#000000\" d=\"M571.6687,-71.9769C566.5831,-63.0262 561.1671,-53.4941 556.324,-44.9703\"/>\n<polygon fill=\"#000000\" stroke=\"#000000\" points=\"559.3196,-43.1575 551.3363,-36.192 553.2334,-46.6156 559.3196,-43.1575\"/>\n</g>\n<!-- 69 -->\n<g id=\"node18\" class=\"node\">\n<title>69</title>\n<path fill=\"#c0c0c0\" stroke=\"#000000\" d=\"M628,-36C628,-36 598,-36 598,-36 592,-36 586,-30 586,-24 586,-24 586,-12 586,-12 586,-6 592,0 598,0 598,0 628,0 628,0 634,0 640,-6 640,-12 640,-12 640,-24 640,-24 640,-30 634,-36 628,-36\"/>\n<text text-anchor=\"middle\" x=\"613\" y=\"-14.3\" font-family=\"Helvetica,sans-Serif\" font-size=\"14.00\" fill=\"#000000\">(...)</text>\n</g>\n<!-- 65&#45;&gt;69 -->\n<g id=\"edge17\" class=\"edge\">\n<title>65&#45;&gt;69</title>\n<path fill=\"none\" stroke=\"#000000\" d=\"M599.5058,-71.9769C601.6482,-63.4071 603.9239,-54.3043 605.9841,-46.0638\"/>\n<polygon fill=\"#000000\" stroke=\"#000000\" points=\"609.4221,-46.7423 608.452,-36.192 602.6311,-45.0445 609.4221,-46.7423\"/>\n</g>\n<!-- 79 -->\n<g id=\"node20\" class=\"node\">\n<title>79</title>\n<path fill=\"#f0f7fd\" stroke=\"#000000\" d=\"M817,-132.5C817,-132.5 701,-132.5 701,-132.5 695,-132.5 689,-126.5 689,-120.5 689,-120.5 689,-91.5 689,-91.5 689,-85.5 695,-79.5 701,-79.5 701,-79.5 817,-79.5 817,-79.5 823,-79.5 829,-85.5 829,-91.5 829,-91.5 829,-120.5 829,-120.5 829,-126.5 823,-132.5 817,-132.5\"/>\n<text text-anchor=\"middle\" x=\"759\" y=\"-117.3\" font-family=\"Helvetica,sans-Serif\" font-size=\"14.00\" fill=\"#000000\">gini = 0.499</text>\n<text text-anchor=\"middle\" x=\"759\" y=\"-102.3\" font-family=\"Helvetica,sans-Serif\" font-size=\"14.00\" fill=\"#000000\">samples = 1.4%</text>\n<text text-anchor=\"middle\" x=\"759\" y=\"-87.3\" font-family=\"Helvetica,sans-Serif\" font-size=\"14.00\" fill=\"#000000\">value = [0.48, 0.52]</text>\n</g>\n<!-- 78&#45;&gt;79 -->\n<g id=\"edge19\" class=\"edge\">\n<title>78&#45;&gt;79</title>\n<path fill=\"none\" stroke=\"#000000\" d=\"M759.6726,-175.9465C759.5698,-165.2621 759.456,-153.4254 759.3517,-142.5742\"/>\n<polygon fill=\"#000000\" stroke=\"#000000\" points=\"762.8513,-142.508 759.2552,-132.5422 755.8516,-142.5754 762.8513,-142.508\"/>\n</g>\n<!-- 80 -->\n<g id=\"node21\" class=\"node\">\n<title>80</title>\n<path fill=\"#eca470\" stroke=\"#000000\" d=\"M991,-140C991,-140 859,-140 859,-140 853,-140 847,-134 847,-128 847,-128 847,-84 847,-84 847,-78 853,-72 859,-72 859,-72 991,-72 991,-72 997,-72 1003,-78 1003,-84 1003,-84 1003,-128 1003,-128 1003,-134 997,-140 991,-140\"/>\n<text text-anchor=\"middle\" x=\"925\" y=\"-124.8\" font-family=\"Helvetica,sans-Serif\" font-size=\"14.00\" fill=\"#000000\">gdenergy &lt;= &#45;17.5</text>\n<text text-anchor=\"middle\" x=\"925\" y=\"-109.8\" font-family=\"Helvetica,sans-Serif\" font-size=\"14.00\" fill=\"#000000\">gini = 0.341</text>\n<text text-anchor=\"middle\" x=\"925\" y=\"-94.8\" font-family=\"Helvetica,sans-Serif\" font-size=\"14.00\" fill=\"#000000\">samples = 7.4%</text>\n<text text-anchor=\"middle\" x=\"925\" y=\"-79.8\" font-family=\"Helvetica,sans-Serif\" font-size=\"14.00\" fill=\"#000000\">value = [0.782, 0.218]</text>\n</g>\n<!-- 78&#45;&gt;80 -->\n<g id=\"edge20\" class=\"edge\">\n<title>78&#45;&gt;80</title>\n<path fill=\"none\" stroke=\"#000000\" d=\"M814.0272,-175.9465C829.4115,-166.2497 846.3016,-155.6039 862.1621,-145.6069\"/>\n<polygon fill=\"#000000\" stroke=\"#000000\" points=\"864.258,-148.4232 870.8514,-140.13 860.5254,-142.5013 864.258,-148.4232\"/>\n</g>\n<!-- 81 -->\n<g id=\"node22\" class=\"node\">\n<title>81</title>\n<path fill=\"#c0c0c0\" stroke=\"#000000\" d=\"M904,-36C904,-36 874,-36 874,-36 868,-36 862,-30 862,-24 862,-24 862,-12 862,-12 862,-6 868,0 874,0 874,0 904,0 904,0 910,0 916,-6 916,-12 916,-12 916,-24 916,-24 916,-30 910,-36 904,-36\"/>\n<text text-anchor=\"middle\" x=\"889\" y=\"-14.3\" font-family=\"Helvetica,sans-Serif\" font-size=\"14.00\" fill=\"#000000\">(...)</text>\n</g>\n<!-- 80&#45;&gt;81 -->\n<g id=\"edge21\" class=\"edge\">\n<title>80&#45;&gt;81</title>\n<path fill=\"none\" stroke=\"#000000\" d=\"M911.0815,-71.9769C907.4977,-63.2167 903.6862,-53.8995 900.2564,-45.5157\"/>\n<polygon fill=\"#000000\" stroke=\"#000000\" points=\"903.468,-44.1222 896.4422,-36.192 896.9891,-46.7727 903.468,-44.1222\"/>\n</g>\n<!-- 82 -->\n<g id=\"node23\" class=\"node\">\n<title>82</title>\n<path fill=\"#c0c0c0\" stroke=\"#000000\" d=\"M976,-36C976,-36 946,-36 946,-36 940,-36 934,-30 934,-24 934,-24 934,-12 934,-12 934,-6 940,0 946,0 946,0 976,0 976,0 982,0 988,-6 988,-12 988,-12 988,-24 988,-24 988,-30 982,-36 976,-36\"/>\n<text text-anchor=\"middle\" x=\"961\" y=\"-14.3\" font-family=\"Helvetica,sans-Serif\" font-size=\"14.00\" fill=\"#000000\">(...)</text>\n</g>\n<!-- 80&#45;&gt;82 -->\n<g id=\"edge22\" class=\"edge\">\n<title>80&#45;&gt;82</title>\n<path fill=\"none\" stroke=\"#000000\" d=\"M938.9185,-71.9769C942.5023,-63.2167 946.3138,-53.8995 949.7436,-45.5157\"/>\n<polygon fill=\"#000000\" stroke=\"#000000\" points=\"953.0109,-46.7727 953.5578,-36.192 946.532,-44.1222 953.0109,-46.7727\"/>\n</g>\n</g>\n</svg>\n"
          },
          "metadata": {
            "tags": []
          },
          "execution_count": 103
        }
      ]
    },
    {
      "cell_type": "code",
      "metadata": {
        "id": "-4KASm39xsrV"
      },
      "source": [
        "#Learning curve"
      ],
      "execution_count": null,
      "outputs": []
    },
    {
      "cell_type": "code",
      "metadata": {
        "id": "VIW7gid7xwFI"
      },
      "source": [
        "from sklearn.model_selection import learning_curve"
      ],
      "execution_count": 105,
      "outputs": []
    },
    {
      "cell_type": "code",
      "metadata": {
        "id": "CtsaqVMUyA3r"
      },
      "source": [
        "train_size,train_score,test_score=learning_curve(estimator=log_reg,X=x_train,y=y_train,cv=10)"
      ],
      "execution_count": 130,
      "outputs": []
    },
    {
      "cell_type": "code",
      "metadata": {
        "colab": {
          "base_uri": "https://localhost:8080/"
        },
        "id": "Y9CpjCzwyaKB",
        "outputId": "5d52c899-5620-4d62-e050-79dd6281ce3f"
      },
      "source": [
        "train_size"
      ],
      "execution_count": 131,
      "outputs": [
        {
          "output_type": "execute_result",
          "data": {
            "text/plain": [
              "array([ 162,  528,  894, 1260, 1627])"
            ]
          },
          "metadata": {
            "tags": []
          },
          "execution_count": 131
        }
      ]
    },
    {
      "cell_type": "code",
      "metadata": {
        "colab": {
          "base_uri": "https://localhost:8080/"
        },
        "id": "PkqiOnH7yePd",
        "outputId": "d2b4cab4-9a62-41c6-9ac0-275d5cbea028"
      },
      "source": [
        "train_mean=np.mean(train_score,axis=1)\n",
        "train_std=np.std(train_score,axis=1)\n",
        "print(train_mean,train_std)"
      ],
      "execution_count": 132,
      "outputs": [
        {
          "output_type": "stream",
          "text": [
            "[0.93765432 0.9282197  0.9114094  0.91769841 0.91475108] [0.00185185 0.0171179  0.01247392 0.01206793 0.00781352]\n"
          ],
          "name": "stdout"
        }
      ]
    },
    {
      "cell_type": "code",
      "metadata": {
        "colab": {
          "base_uri": "https://localhost:8080/"
        },
        "id": "avvQ4BHWytCl",
        "outputId": "e8ea0d22-0655-4a4f-b590-3392a4625756"
      },
      "source": [
        "test_mean=np.mean(test_score,axis=1)\n",
        "test_std=np.std(test_score,axis=1)\n",
        "print(test_mean,test_std)"
      ],
      "execution_count": 133,
      "outputs": [
        {
          "output_type": "stream",
          "text": [
            "[0.88607428 0.91871087 0.91150706 0.92093002 0.91372928] [0.01205429 0.01925075 0.01541478 0.01757778 0.0169235 ]\n"
          ],
          "name": "stdout"
        }
      ]
    },
    {
      "cell_type": "code",
      "metadata": {
        "colab": {
          "base_uri": "https://localhost:8080/",
          "height": 282
        },
        "id": "s5KuCrm1y_ww",
        "outputId": "d059f3b0-4046-4bf9-a876-6024c3109099"
      },
      "source": [
        "plt.plot(train_size,train_mean,c='red',marker=\"o\",label=\"Train\")\n",
        "plt.plot(train_size,test_mean,c='green',marker='*',label='Test')\n",
        "plt.xlabel(\"Size of train.\")\n",
        "plt.ylabel(\"Score.\")\n",
        "plt.show()"
      ],
      "execution_count": 134,
      "outputs": [
        {
          "output_type": "display_data",
          "data": {
            "image/png": "[encoded data removed]",
            "text/plain": [
              "<Figure size 432x288 with 1 Axes>"
            ]
          },
          "metadata": {
            "tags": []
          }
        }
      ]
    },
    {
      "cell_type": "code",
      "metadata": {
        "id": "Kfgshz0ozcxP"
      },
      "source": [
        ""
      ],
      "execution_count": 129,
      "outputs": []
    }
  ]
}